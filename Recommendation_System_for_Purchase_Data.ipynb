{
  "nbformat": 4,
  "nbformat_minor": 0,
  "metadata": {
    "colab": {
      "provenance": [],
      "include_colab_link": true
    },
    "kernelspec": {
      "name": "python3",
      "display_name": "Python 3"
    }
  },
  "cells": [
    {
      "cell_type": "markdown",
      "metadata": {
        "id": "view-in-github",
        "colab_type": "text"
      },
      "source": [
        "<a href=\"https://colab.research.google.com/github/asmagh8/Recommendation_System_for_Purchase_Data.ipynb/blob/main/Recommendation_System_for_Purchase_Data.ipynb\" target=\"_parent\"><img src=\"https://colab.research.google.com/assets/colab-badge.svg\" alt=\"Open In Colab\"/></a>"
      ]
    },
    {
      "cell_type": "code",
      "metadata": {
        "id": "Se5O96tWODbC",
        "outputId": "5690136a-d303-4a7c-9295-c2a9a31de49f",
        "colab": {
          "base_uri": "https://localhost:8080/",
          "height": 51
        }
      },
      "source": [
        "import pandas as pd\n",
        "import numpy as np\n",
        "from sklearn.model_selection import train_test_split\n",
        "%load_ext autoreload\n",
        "%autoreload 2\n",
        "import time\n",
        "\n",
        "#from sklearn.model_selection import train_test_split\n",
        "import sys\n",
        "sys.path.append(\"..\")\n"
      ],
      "execution_count": null,
      "outputs": [
        {
          "output_type": "stream",
          "text": [
            "The autoreload extension is already loaded. To reload it, use:\n",
            "  %reload_ext autoreload\n"
          ],
          "name": "stdout"
        }
      ]
    },
    {
      "cell_type": "code",
      "metadata": {
        "id": "1N1FqD56OU2u",
        "outputId": "d35d97b5-83e6-4560-c8b1-7bb910d2afae",
        "colab": {
          "base_uri": "https://localhost:8080/",
          "height": 1000
        }
      },
      "source": [
        "!pip install turicreate\n"
      ],
      "execution_count": null,
      "outputs": [
        {
          "output_type": "stream",
          "text": [
            "Collecting turicreate\n",
            "\u001b[?25l  Downloading https://files.pythonhosted.org/packages/05/bf/d1c74d5002be47db24b13adde42e5898b1ff63cae31e582ddd908006ae37/turicreate-5.8-cp36-cp36m-manylinux1_x86_64.whl (90.7MB)\n",
            "\u001b[K     |████████████████████████████████| 90.7MB 25kB/s \n",
            "\u001b[?25hCollecting numpy==1.16.4\n",
            "\u001b[?25l  Downloading https://files.pythonhosted.org/packages/87/2d/e4656149cbadd3a8a0369fcd1a9c7d61cc7b87b3903b85389c70c989a696/numpy-1.16.4-cp36-cp36m-manylinux1_x86_64.whl (17.3MB)\n",
            "\u001b[K     |████████████████████████████████| 17.3MB 140kB/s \n",
            "\u001b[?25hRequirement already satisfied: pandas>=0.23.2 in /usr/local/lib/python3.6/dist-packages (from turicreate) (0.25.3)\n",
            "Collecting pillow>=5.2.0\n",
            "\u001b[?25l  Downloading https://files.pythonhosted.org/packages/10/5c/0e94e689de2476c4c5e644a3bd223a1c1b9e2bdb7c510191750be74fa786/Pillow-6.2.1-cp36-cp36m-manylinux1_x86_64.whl (2.1MB)\n",
            "\u001b[K     |████████████████████████████████| 2.1MB 52.3MB/s \n",
            "\u001b[?25hCollecting resampy==0.2.1\n",
            "\u001b[?25l  Downloading https://files.pythonhosted.org/packages/14/b6/66a06d85474190b50aee1a6c09cdc95bb405ac47338b27e9b21409da1760/resampy-0.2.1.tar.gz (322kB)\n",
            "\u001b[K     |████████████████████████████████| 327kB 56.3MB/s \n",
            "\u001b[?25hCollecting coremltools==3.0b3\n",
            "\u001b[?25l  Downloading https://files.pythonhosted.org/packages/b8/89/b69e3d446dbfe5632a8f24be0c7d03b19bcc6c0a0bd3d84c83c6680bb602/coremltools-3.0b3-cp36-none-manylinux1_x86_64.whl (3.4MB)\n",
            "\u001b[K     |████████████████████████████████| 3.4MB 41.3MB/s \n",
            "\u001b[?25hRequirement already satisfied: prettytable==0.7.2 in /usr/local/lib/python3.6/dist-packages (from turicreate) (0.7.2)\n",
            "Requirement already satisfied: scipy>=1.1.0 in /usr/local/lib/python3.6/dist-packages (from turicreate) (1.3.2)\n",
            "Requirement already satisfied: requests>=2.9.1 in /usr/local/lib/python3.6/dist-packages (from turicreate) (2.21.0)\n",
            "Requirement already satisfied: decorator>=4.0.9 in /usr/local/lib/python3.6/dist-packages (from turicreate) (4.4.1)\n",
            "Collecting mxnet<1.2.0,>=1.1.0\n",
            "\u001b[?25l  Downloading https://files.pythonhosted.org/packages/96/98/c9877e100c3d1ac92263bfaba7bb8a49294e099046592040a2ff8620ac61/mxnet-1.1.0.post0-py2.py3-none-manylinux1_x86_64.whl (23.8MB)\n",
            "\u001b[K     |████████████████████████████████| 23.8MB 100kB/s \n",
            "\u001b[?25hRequirement already satisfied: six>=1.10.0 in /usr/local/lib/python3.6/dist-packages (from turicreate) (1.12.0)\n",
            "Requirement already satisfied: pytz>=2017.2 in /usr/local/lib/python3.6/dist-packages (from pandas>=0.23.2->turicreate) (2018.9)\n",
            "Requirement already satisfied: python-dateutil>=2.6.1 in /usr/local/lib/python3.6/dist-packages (from pandas>=0.23.2->turicreate) (2.6.1)\n",
            "Requirement already satisfied: numba>=0.32 in /usr/local/lib/python3.6/dist-packages (from resampy==0.2.1->turicreate) (0.40.1)\n",
            "Requirement already satisfied: protobuf>=3.1.0 in /usr/local/lib/python3.6/dist-packages (from coremltools==3.0b3->turicreate) (3.10.0)\n",
            "Requirement already satisfied: urllib3<1.25,>=1.21.1 in /usr/local/lib/python3.6/dist-packages (from requests>=2.9.1->turicreate) (1.24.3)\n",
            "Requirement already satisfied: chardet<3.1.0,>=3.0.2 in /usr/local/lib/python3.6/dist-packages (from requests>=2.9.1->turicreate) (3.0.4)\n",
            "Requirement already satisfied: certifi>=2017.4.17 in /usr/local/lib/python3.6/dist-packages (from requests>=2.9.1->turicreate) (2019.9.11)\n",
            "Requirement already satisfied: idna<2.9,>=2.5 in /usr/local/lib/python3.6/dist-packages (from requests>=2.9.1->turicreate) (2.8)\n",
            "Collecting graphviz<0.9.0,>=0.8.1\n",
            "  Downloading https://files.pythonhosted.org/packages/53/39/4ab213673844e0c004bed8a0781a0721a3f6bb23eb8854ee75c236428892/graphviz-0.8.4-py2.py3-none-any.whl\n",
            "Requirement already satisfied: llvmlite>=0.25.0dev0 in /usr/local/lib/python3.6/dist-packages (from numba>=0.32->resampy==0.2.1->turicreate) (0.30.0)\n",
            "Requirement already satisfied: setuptools in /usr/local/lib/python3.6/dist-packages (from protobuf>=3.1.0->coremltools==3.0b3->turicreate) (41.6.0)\n",
            "Building wheels for collected packages: resampy\n",
            "  Building wheel for resampy (setup.py) ... \u001b[?25l\u001b[?25hdone\n",
            "  Created wheel for resampy: filename=resampy-0.2.1-cp36-none-any.whl size=320847 sha256=8bdfba587ee0168998da500ce0db4308b9557bee403f89b744630ba4bb1c6751\n",
            "  Stored in directory: /root/.cache/pip/wheels/ff/4f/ed/2e6c676c23efe5394bb40ade50662e90eb46e29b48324c5f9b\n",
            "Successfully built resampy\n",
            "\u001b[31mERROR: datascience 0.10.6 has requirement folium==0.2.1, but you'll have folium 0.8.3 which is incompatible.\u001b[0m\n",
            "\u001b[31mERROR: albumentations 0.1.12 has requirement imgaug<0.2.7,>=0.2.5, but you'll have imgaug 0.2.9 which is incompatible.\u001b[0m\n",
            "\u001b[31mERROR: mxnet 1.1.0.post0 has requirement numpy<1.15.0,>=1.8.2, but you'll have numpy 1.16.4 which is incompatible.\u001b[0m\n",
            "\u001b[31mERROR: mxnet 1.1.0.post0 has requirement requests<2.19.0,>=2.18.4, but you'll have requests 2.21.0 which is incompatible.\u001b[0m\n",
            "Installing collected packages: numpy, pillow, resampy, coremltools, graphviz, mxnet, turicreate\n",
            "  Found existing installation: numpy 1.17.4\n",
            "    Uninstalling numpy-1.17.4:\n",
            "      Successfully uninstalled numpy-1.17.4\n",
            "  Found existing installation: Pillow 4.3.0\n",
            "    Uninstalling Pillow-4.3.0:\n",
            "      Successfully uninstalled Pillow-4.3.0\n",
            "  Found existing installation: resampy 0.2.2\n",
            "    Uninstalling resampy-0.2.2:\n",
            "      Successfully uninstalled resampy-0.2.2\n",
            "  Found existing installation: graphviz 0.10.1\n",
            "    Uninstalling graphviz-0.10.1:\n",
            "      Successfully uninstalled graphviz-0.10.1\n",
            "Successfully installed coremltools-3.0b3 graphviz-0.8.4 mxnet-1.1.0.post0 numpy-1.16.4 pillow-6.2.1 resampy-0.2.1 turicreate-5.8\n"
          ],
          "name": "stdout"
        },
        {
          "output_type": "display_data",
          "data": {
            "application/vnd.colab-display-data+json": {
              "pip_warning": {
                "packages": [
                  "PIL",
                  "numpy"
                ]
              }
            }
          },
          "metadata": {
            "tags": []
          }
        }
      ]
    },
    {
      "cell_type": "code",
      "metadata": {
        "id": "nfaY0YYaOXop"
      },
      "source": [
        "import turicreate as tc"
      ],
      "execution_count": null,
      "outputs": []
    },
    {
      "cell_type": "code",
      "metadata": {
        "id": "Pi2qzvc3Opvb"
      },
      "source": [
        "data= pd.read_csv('/content/datamining.csv',encoding='ISO-8859-1')"
      ],
      "execution_count": null,
      "outputs": []
    },
    {
      "cell_type": "code",
      "metadata": {
        "id": "fg695z03O1Jx"
      },
      "source": [
        "\n",
        "data['Description'] = data['Description'].str.strip()\n",
        "data.dropna(axis=0, subset=['InvoiceNo'], inplace=True)\n",
        "data['InvoiceNo'] = data['InvoiceNo'].astype('str')\n",
        "data = data[~data['InvoiceNo'].str.contains('C')]\n",
        "data['CustomerID'] = data['CustomerID'].astype(str)\n",
        "#data['CustomerID'] = data['CustomerID'].str.replace('.0', '')"
      ],
      "execution_count": null,
      "outputs": []
    },
    {
      "cell_type": "code",
      "metadata": {
        "id": "HKheP4N9O8Fi",
        "outputId": "fdaee6d1-cd45-474a-c99d-d525bbe4b617",
        "colab": {
          "base_uri": "https://localhost:8080/",
          "height": 419
        }
      },
      "source": [
        "data = data.dropna(subset=['CustomerID'])\n",
        "#data = data[pd.notnull(df['CustomerID'])]\n",
        "#data.astype({'CustomerID': 'int32'}).dtypes\n",
        "#data.astype({'CustomerID': 'category'}).dtypes'\n",
        "#data['CustomerID']=data['CustomerID'].astype('category')\n",
        "data.head(1000)"
      ],
      "execution_count": null,
      "outputs": [
        {
          "output_type": "execute_result",
          "data": {
            "text/html": [
              "<div>\n",
              "<style scoped>\n",
              "    .dataframe tbody tr th:only-of-type {\n",
              "        vertical-align: middle;\n",
              "    }\n",
              "\n",
              "    .dataframe tbody tr th {\n",
              "        vertical-align: top;\n",
              "    }\n",
              "\n",
              "    .dataframe thead th {\n",
              "        text-align: right;\n",
              "    }\n",
              "</style>\n",
              "<table border=\"1\" class=\"dataframe\">\n",
              "  <thead>\n",
              "    <tr style=\"text-align: right;\">\n",
              "      <th></th>\n",
              "      <th>InvoiceNo</th>\n",
              "      <th>StockCode</th>\n",
              "      <th>Description</th>\n",
              "      <th>Quantity</th>\n",
              "      <th>InvoiceDate</th>\n",
              "      <th>UnitPrice</th>\n",
              "      <th>CustomerID</th>\n",
              "      <th>Country</th>\n",
              "    </tr>\n",
              "  </thead>\n",
              "  <tbody>\n",
              "    <tr>\n",
              "      <th>0</th>\n",
              "      <td>536365</td>\n",
              "      <td>85123A</td>\n",
              "      <td>WHITE HANGING HEART T-LIGHT HOLDER</td>\n",
              "      <td>6</td>\n",
              "      <td>12/1/2010 8:26</td>\n",
              "      <td>2.55</td>\n",
              "      <td>17850.0</td>\n",
              "      <td>United Kingdom</td>\n",
              "    </tr>\n",
              "    <tr>\n",
              "      <th>1</th>\n",
              "      <td>536365</td>\n",
              "      <td>71053</td>\n",
              "      <td>WHITE METAL LANTERN</td>\n",
              "      <td>6</td>\n",
              "      <td>12/1/2010 8:26</td>\n",
              "      <td>3.39</td>\n",
              "      <td>17850.0</td>\n",
              "      <td>United Kingdom</td>\n",
              "    </tr>\n",
              "    <tr>\n",
              "      <th>2</th>\n",
              "      <td>536365</td>\n",
              "      <td>84406B</td>\n",
              "      <td>CREAM CUPID HEARTS COAT HANGER</td>\n",
              "      <td>8</td>\n",
              "      <td>12/1/2010 8:26</td>\n",
              "      <td>2.75</td>\n",
              "      <td>17850.0</td>\n",
              "      <td>United Kingdom</td>\n",
              "    </tr>\n",
              "    <tr>\n",
              "      <th>3</th>\n",
              "      <td>536365</td>\n",
              "      <td>84029G</td>\n",
              "      <td>KNITTED UNION FLAG HOT WATER BOTTLE</td>\n",
              "      <td>6</td>\n",
              "      <td>12/1/2010 8:26</td>\n",
              "      <td>3.39</td>\n",
              "      <td>17850.0</td>\n",
              "      <td>United Kingdom</td>\n",
              "    </tr>\n",
              "    <tr>\n",
              "      <th>4</th>\n",
              "      <td>536365</td>\n",
              "      <td>84029E</td>\n",
              "      <td>RED WOOLLY HOTTIE WHITE HEART.</td>\n",
              "      <td>6</td>\n",
              "      <td>12/1/2010 8:26</td>\n",
              "      <td>3.39</td>\n",
              "      <td>17850.0</td>\n",
              "      <td>United Kingdom</td>\n",
              "    </tr>\n",
              "    <tr>\n",
              "      <th>...</th>\n",
              "      <td>...</td>\n",
              "      <td>...</td>\n",
              "      <td>...</td>\n",
              "      <td>...</td>\n",
              "      <td>...</td>\n",
              "      <td>...</td>\n",
              "      <td>...</td>\n",
              "      <td>...</td>\n",
              "    </tr>\n",
              "    <tr>\n",
              "      <th>1005</th>\n",
              "      <td>536520</td>\n",
              "      <td>21427</td>\n",
              "      <td>SKULLS STORAGE BOX SMALL</td>\n",
              "      <td>2</td>\n",
              "      <td>12/1/2010 12:43</td>\n",
              "      <td>2.10</td>\n",
              "      <td>14729.0</td>\n",
              "      <td>United Kingdom</td>\n",
              "    </tr>\n",
              "    <tr>\n",
              "      <th>1006</th>\n",
              "      <td>536520</td>\n",
              "      <td>21034</td>\n",
              "      <td>REX CASH+CARRY JUMBO SHOPPER</td>\n",
              "      <td>2</td>\n",
              "      <td>12/1/2010 12:43</td>\n",
              "      <td>0.95</td>\n",
              "      <td>14729.0</td>\n",
              "      <td>United Kingdom</td>\n",
              "    </tr>\n",
              "    <tr>\n",
              "      <th>1007</th>\n",
              "      <td>536520</td>\n",
              "      <td>21930</td>\n",
              "      <td>JUMBO STORAGE BAG SKULLS</td>\n",
              "      <td>1</td>\n",
              "      <td>12/1/2010 12:43</td>\n",
              "      <td>1.95</td>\n",
              "      <td>14729.0</td>\n",
              "      <td>United Kingdom</td>\n",
              "    </tr>\n",
              "    <tr>\n",
              "      <th>1008</th>\n",
              "      <td>536520</td>\n",
              "      <td>20772</td>\n",
              "      <td>GARDEN PATH JOURNAL</td>\n",
              "      <td>1</td>\n",
              "      <td>12/1/2010 12:43</td>\n",
              "      <td>2.55</td>\n",
              "      <td>14729.0</td>\n",
              "      <td>United Kingdom</td>\n",
              "    </tr>\n",
              "    <tr>\n",
              "      <th>1009</th>\n",
              "      <td>536520</td>\n",
              "      <td>22469</td>\n",
              "      <td>HEART OF WICKER SMALL</td>\n",
              "      <td>2</td>\n",
              "      <td>12/1/2010 12:43</td>\n",
              "      <td>1.65</td>\n",
              "      <td>14729.0</td>\n",
              "      <td>United Kingdom</td>\n",
              "    </tr>\n",
              "  </tbody>\n",
              "</table>\n",
              "<p>1000 rows × 8 columns</p>\n",
              "</div>"
            ],
            "text/plain": [
              "     InvoiceNo StockCode  ... CustomerID         Country\n",
              "0       536365    85123A  ...    17850.0  United Kingdom\n",
              "1       536365     71053  ...    17850.0  United Kingdom\n",
              "2       536365    84406B  ...    17850.0  United Kingdom\n",
              "3       536365    84029G  ...    17850.0  United Kingdom\n",
              "4       536365    84029E  ...    17850.0  United Kingdom\n",
              "...        ...       ...  ...        ...             ...\n",
              "1005    536520     21427  ...    14729.0  United Kingdom\n",
              "1006    536520     21034  ...    14729.0  United Kingdom\n",
              "1007    536520     21930  ...    14729.0  United Kingdom\n",
              "1008    536520     20772  ...    14729.0  United Kingdom\n",
              "1009    536520     22469  ...    14729.0  United Kingdom\n",
              "\n",
              "[1000 rows x 8 columns]"
            ]
          },
          "metadata": {
            "tags": []
          },
          "execution_count": 185
        }
      ]
    },
    {
      "cell_type": "code",
      "metadata": {
        "id": "h648Qj6wPAnX"
      },
      "source": [
        "data = (data.groupby(['CustomerID', 'StockCode'])\n",
        "    .agg({'StockCode': 'count'})\n",
        "    .rename(columns={'StockCode': 'purchase_count'})\n",
        "    .reset_index())"
      ],
      "execution_count": null,
      "outputs": []
    },
    {
      "cell_type": "code",
      "metadata": {
        "id": "wSDzAtbsPGl8"
      },
      "source": [
        "def create_data_dummy(data):\n",
        "    data_dummy = data.copy()\n",
        "    data_dummy['purchase_dummy'] = 1\n",
        "    return data_dummy\n",
        "data_dummy = create_data_dummy(data)"
      ],
      "execution_count": null,
      "outputs": []
    },
    {
      "cell_type": "code",
      "metadata": {
        "id": "06qo5WvdPIc_"
      },
      "source": [
        "df_matrix = pd.pivot_table(data, values='purchase_count', index='CustomerID', columns='StockCode')"
      ],
      "execution_count": null,
      "outputs": []
    },
    {
      "cell_type": "code",
      "metadata": {
        "id": "7UG-yyGxPMnk",
        "outputId": "8b555f6e-be2f-46cd-a1a3-f0fc322f8720",
        "colab": {
          "base_uri": "https://localhost:8080/",
          "height": 272
        }
      },
      "source": [
        "print(df_matrix)\n"
      ],
      "execution_count": null,
      "outputs": [
        {
          "output_type": "stream",
          "text": [
            "StockCode   10002  10080  10120  ...  gift_0001_40  gift_0001_50    m\n",
            "CustomerID                       ...                                 \n",
            "12346.0       NaN    NaN    NaN  ...           NaN           NaN  NaN\n",
            "12347.0       NaN    NaN    NaN  ...           NaN           NaN  NaN\n",
            "12348.0       NaN    NaN    NaN  ...           NaN           NaN  NaN\n",
            "12349.0       NaN    NaN    NaN  ...           NaN           NaN  NaN\n",
            "12350.0       NaN    NaN    NaN  ...           NaN           NaN  NaN\n",
            "...           ...    ...    ...  ...           ...           ...  ...\n",
            "18281.0       NaN    NaN    NaN  ...           NaN           NaN  NaN\n",
            "18282.0       NaN    NaN    NaN  ...           NaN           NaN  NaN\n",
            "18283.0       NaN    NaN    NaN  ...           NaN           NaN  NaN\n",
            "18287.0       NaN    NaN    NaN  ...           NaN           NaN  NaN\n",
            "nan          24.0    3.0    NaN  ...           3.0           4.0  1.0\n",
            "\n",
            "[4340 rows x 4059 columns]\n"
          ],
          "name": "stdout"
        }
      ]
    },
    {
      "cell_type": "code",
      "metadata": {
        "id": "Z6kJjeigPPgb"
      },
      "source": [
        "df_matrix_norm = (df_matrix-df_matrix.min())/(df_matrix.max()-df_matrix.min())"
      ],
      "execution_count": null,
      "outputs": []
    },
    {
      "cell_type": "code",
      "metadata": {
        "id": "ekdHrU59PTJS",
        "outputId": "4836d486-0cfa-4d8d-db3c-3c1a10fefbbd",
        "colab": {
          "base_uri": "https://localhost:8080/",
          "height": 272
        }
      },
      "source": [
        "print(df_matrix_norm)"
      ],
      "execution_count": null,
      "outputs": [
        {
          "output_type": "stream",
          "text": [
            "StockCode   10002  10080  10120  ...  gift_0001_40  gift_0001_50   m\n",
            "CustomerID                       ...                                \n",
            "12346.0       NaN    NaN    NaN  ...           NaN           NaN NaN\n",
            "12347.0       NaN    NaN    NaN  ...           NaN           NaN NaN\n",
            "12348.0       NaN    NaN    NaN  ...           NaN           NaN NaN\n",
            "12349.0       NaN    NaN    NaN  ...           NaN           NaN NaN\n",
            "12350.0       NaN    NaN    NaN  ...           NaN           NaN NaN\n",
            "...           ...    ...    ...  ...           ...           ...  ..\n",
            "18281.0       NaN    NaN    NaN  ...           NaN           NaN NaN\n",
            "18282.0       NaN    NaN    NaN  ...           NaN           NaN NaN\n",
            "18283.0       NaN    NaN    NaN  ...           NaN           NaN NaN\n",
            "18287.0       NaN    NaN    NaN  ...           NaN           NaN NaN\n",
            "nan           1.0    1.0    NaN  ...           NaN           NaN NaN\n",
            "\n",
            "[4340 rows x 4059 columns]\n"
          ],
          "name": "stdout"
        }
      ]
    },
    {
      "cell_type": "code",
      "metadata": {
        "id": "zm1em8bzPVQj",
        "outputId": "2bddf59a-6fd3-41ab-82c5-6760c35a2c08",
        "colab": {
          "base_uri": "https://localhost:8080/",
          "height": 436
        }
      },
      "source": [
        "# create a table for input to the modeling\n",
        "d = df_matrix_norm.reset_index()\n",
        "d.index.names = ['scaled_purchase_freq']\n",
        "data_norm = pd.melt(d, id_vars=['CustomerID'], value_name='scaled_purchase_freq').dropna()\n",
        "print(data_norm.shape)\n",
        "data_norm"
      ],
      "execution_count": null,
      "outputs": [
        {
          "output_type": "stream",
          "text": [
            "(268821, 3)\n"
          ],
          "name": "stdout"
        },
        {
          "output_type": "execute_result",
          "data": {
            "text/html": [
              "<div>\n",
              "<style scoped>\n",
              "    .dataframe tbody tr th:only-of-type {\n",
              "        vertical-align: middle;\n",
              "    }\n",
              "\n",
              "    .dataframe tbody tr th {\n",
              "        vertical-align: top;\n",
              "    }\n",
              "\n",
              "    .dataframe thead th {\n",
              "        text-align: right;\n",
              "    }\n",
              "</style>\n",
              "<table border=\"1\" class=\"dataframe\">\n",
              "  <thead>\n",
              "    <tr style=\"text-align: right;\">\n",
              "      <th></th>\n",
              "      <th>CustomerID</th>\n",
              "      <th>StockCode</th>\n",
              "      <th>scaled_purchase_freq</th>\n",
              "    </tr>\n",
              "  </thead>\n",
              "  <tbody>\n",
              "    <tr>\n",
              "      <th>86</th>\n",
              "      <td>12451.0</td>\n",
              "      <td>10002</td>\n",
              "      <td>0.000000</td>\n",
              "    </tr>\n",
              "    <tr>\n",
              "      <th>130</th>\n",
              "      <td>12510.0</td>\n",
              "      <td>10002</td>\n",
              "      <td>0.000000</td>\n",
              "    </tr>\n",
              "    <tr>\n",
              "      <th>189</th>\n",
              "      <td>12583.0</td>\n",
              "      <td>10002</td>\n",
              "      <td>0.000000</td>\n",
              "    </tr>\n",
              "    <tr>\n",
              "      <th>235</th>\n",
              "      <td>12637.0</td>\n",
              "      <td>10002</td>\n",
              "      <td>0.000000</td>\n",
              "    </tr>\n",
              "    <tr>\n",
              "      <th>266</th>\n",
              "      <td>12673.0</td>\n",
              "      <td>10002</td>\n",
              "      <td>0.000000</td>\n",
              "    </tr>\n",
              "    <tr>\n",
              "      <th>...</th>\n",
              "      <td>...</td>\n",
              "      <td>...</td>\n",
              "      <td>...</td>\n",
              "    </tr>\n",
              "    <tr>\n",
              "      <th>17585065</th>\n",
              "      <td>17444.0</td>\n",
              "      <td>POST</td>\n",
              "      <td>0.000000</td>\n",
              "    </tr>\n",
              "    <tr>\n",
              "      <th>17585319</th>\n",
              "      <td>17788.0</td>\n",
              "      <td>POST</td>\n",
              "      <td>0.000000</td>\n",
              "    </tr>\n",
              "    <tr>\n",
              "      <th>17585341</th>\n",
              "      <td>17828.0</td>\n",
              "      <td>POST</td>\n",
              "      <td>0.066667</td>\n",
              "    </tr>\n",
              "    <tr>\n",
              "      <th>17585424</th>\n",
              "      <td>17935.0</td>\n",
              "      <td>POST</td>\n",
              "      <td>0.000000</td>\n",
              "    </tr>\n",
              "    <tr>\n",
              "      <th>17585679</th>\n",
              "      <td>nan</td>\n",
              "      <td>POST</td>\n",
              "      <td>1.000000</td>\n",
              "    </tr>\n",
              "  </tbody>\n",
              "</table>\n",
              "<p>268821 rows × 3 columns</p>\n",
              "</div>"
            ],
            "text/plain": [
              "         CustomerID StockCode  scaled_purchase_freq\n",
              "86          12451.0     10002              0.000000\n",
              "130         12510.0     10002              0.000000\n",
              "189         12583.0     10002              0.000000\n",
              "235         12637.0     10002              0.000000\n",
              "266         12673.0     10002              0.000000\n",
              "...             ...       ...                   ...\n",
              "17585065    17444.0      POST              0.000000\n",
              "17585319    17788.0      POST              0.000000\n",
              "17585341    17828.0      POST              0.066667\n",
              "17585424    17935.0      POST              0.000000\n",
              "17585679        nan      POST              1.000000\n",
              "\n",
              "[268821 rows x 3 columns]"
            ]
          },
          "metadata": {
            "tags": []
          },
          "execution_count": 192
        }
      ]
    },
    {
      "cell_type": "code",
      "metadata": {
        "id": "gZB-1pjJPfXA"
      },
      "source": [
        "def normalize_data(data):\n",
        "    df_matrix = pd.pivot_table(data, values='purchase_count', index='CustomerID', columns='StockCode')\n",
        "    df_matrix_norm = (df_matrix-df_matrix.min())/(df_matrix.max()-df_matrix.min())\n",
        "    d = df_matrix_norm.reset_index()\n",
        "    d.index.names = ['scaled_purchase_freq']\n",
        "    return pd.melt(d, id_vars=['CustomerID'], value_name='scaled_purchase_freq').dropna()"
      ],
      "execution_count": null,
      "outputs": []
    },
    {
      "cell_type": "code",
      "metadata": {
        "id": "eb2STieBPhCC"
      },
      "source": [
        "def split_data(data):\n",
        "    '''\n",
        "    Splits dataset into training and test set.\n",
        "\n",
        "    Args:\n",
        "        data (pandas.DataFrame)\n",
        "\n",
        "    Returns\n",
        "        train_data (tc.SFrame)\n",
        "        test_data (tc.SFrame)\n",
        "    '''\n",
        "    train, test = train_test_split(data, test_size = .2)\n",
        "    train_data = tc.SFrame(train)\n",
        "    test_data = tc.SFrame(test)\n",
        "    return train_data, test_data"
      ],
      "execution_count": null,
      "outputs": []
    },
    {
      "cell_type": "code",
      "metadata": {
        "id": "aLBsjAjVPkFL"
      },
      "source": [
        "train_data, test_data = split_data(data)\n",
        "train_data_dummy, test_data_dummy = split_data(data_dummy)\n",
        "train_data_norm, test_data_norm = split_data(data_norm)"
      ],
      "execution_count": null,
      "outputs": []
    },
    {
      "cell_type": "code",
      "metadata": {
        "id": "9lYJ18TYPpoK",
        "outputId": "c58f46b1-2f93-4508-f7dc-74848a05f78b",
        "colab": {
          "base_uri": "https://localhost:8080/",
          "height": 54
        }
      },
      "source": [
        "customers = data['CustomerID']\n",
        "customers = set(customers)\n",
        "print(customers)\n"
      ],
      "execution_count": null,
      "outputs": [
        {
          "output_type": "stream",
          "text": [
            "{'16040.0', '13102.0', '12353.0', '17014.0', '15218.0', '15227.0', '17867.0', '15582.0', '15654.0', '16843.0', '17720.0', '12715.0', '13230.0', '17255.0', '14705.0', '15410.0', '12386.0', '14351.0', '14282.0', '15539.0', '17042.0', '14803.0', '14256.0', '14692.0', '18236.0', '15811.0', '13451.0', '17411.0', '15897.0', '13835.0', '16603.0', '16735.0', '13092.0', '13762.0', '14191.0', '15034.0', '12725.0', '12945.0', '18011.0', '18093.0', '12981.0', '13953.0', '14024.0', '16774.0', '12541.0', '15454.0', '14776.0', '14953.0', '12728.0', '15535.0', '16759.0', '15738.0', '13938.0', '13900.0', '17085.0', '15523.0', '12716.0', '14209.0', '17157.0', '13328.0', '16354.0', '13492.0', '14862.0', '17746.0', '16426.0', '17913.0', '14031.0', '13845.0', '13420.0', '16847.0', '14562.0', '17466.0', '13581.0', '18211.0', '15829.0', '17571.0', '13166.0', '14560.0', '18179.0', '14871.0', '13884.0', '14171.0', '12472.0', '16084.0', '14765.0', '17382.0', '15716.0', '17075.0', '13278.0', '15524.0', '16402.0', '17095.0', '17496.0', '13037.0', '17890.0', '14029.0', '14113.0', '16386.0', '16732.0', '17175.0', '15135.0', '14923.0', '13716.0', '14470.0', '14262.0', '13971.0', '13849.0', '17069.0', '18048.0', '18282.0', '14493.0', '15552.0', '17082.0', '16996.0', '17251.0', '15079.0', '17881.0', '13974.0', '17698.0', '13000.0', '16751.0', '13654.0', '13429.0', '12912.0', '16133.0', '15632.0', '16257.0', '12540.0', '13682.0', '14163.0', '18180.0', '15292.0', '17877.0', '12790.0', '17714.0', '13748.0', '12665.0', '15860.0', '15203.0', '15438.0', '14868.0', '12988.0', '15416.0', '14712.0', '13032.0', '15139.0', '15518.0', '16093.0', '15806.0', '15456.0', '14175.0', '17530.0', '14093.0', '14442.0', '17034.0', '15350.0', '17789.0', '15396.0', '17680.0', '12564.0', '12942.0', '14544.0', '16780.0', '12935.0', '17343.0', '17768.0', '13510.0', '17923.0', '13339.0', '15046.0', '15889.0', '13807.0', '16340.0', '17118.0', '14963.0', '14148.0', '15304.0', '12611.0', '14124.0', '14841.0', '15449.0', '15746.0', '16497.0', '14673.0', '15225.0', '14400.0', '14196.0', '17238.0', '12956.0', '16184.0', '14247.0', '18097.0', '15780.0', '17690.0', '13483.0', '15923.0', '15764.0', '14139.0', '15845.0', '16303.0', '17346.0', '12620.0', '16721.0', '12817.0', '15895.0', '16688.0', '13356.0', '17911.0', '17573.0', '17852.0', '15691.0', '13557.0', '14770.0', '12948.0', '17428.0', '18036.0', '17631.0', '17742.0', '17044.0', '13014.0', '13946.0', '14295.0', '17163.0', '17642.0', '14364.0', '15117.0', '16440.0', '12759.0', '16539.0', '17625.0', '12484.0', '15517.0', '16858.0', '12609.0', '14419.0', '17079.0', '16899.0', '15445.0', '17827.0', '13473.0', '14793.0', '13848.0', '15460.0', '16571.0', '15918.0', '16275.0', '15184.0', '18129.0', '13101.0', '16709.0', '12676.0', '16934.0', '12990.0', '16247.0', '14662.0', '17723.0', '12359.0', '13410.0', '16367.0', '17076.0', '13888.0', '17364.0', '17278.0', '16071.0', '15327.0', '12407.0', '13754.0', '15024.0', '15836.0', '16311.0', '15947.0', '15053.0', '14067.0', '15508.0', '17569.0', '14968.0', '16358.0', '13645.0', '17715.0', '14764.0', '15376.0', '13135.0', '16253.0', '16670.0', '16936.0', '17173.0', '13141.0', '17972.0', '17464.0', '13659.0', '13313.0', '18081.0', '18138.0', '17519.0', '16924.0', '14386.0', '15944.0', '12866.0', '16629.0', '16595.0', '13598.0', '14541.0', '17394.0', '13362.0', '16324.0', '15025.0', '17211.0', '13662.0', '17763.0', '12408.0', '13161.0', '16360.0', '16813.0', '18203.0', '17538.0', '13147.0', '15120.0', '16515.0', '16665.0', '16748.0', '16767.0', '16200.0', '18126.0', '14987.0', '14535.0', '17323.0', '17675.0', '17092.0', '16968.0', '16186.0', '15344.0', '15489.0', '16232.0', '17634.0', '13138.0', '15921.0', '17109.0', '18237.0', '17536.0', '17339.0', '13439.0', '15254.0', '16713.0', '14601.0', '16768.0', '17018.0', '17198.0', '17934.0', '12885.0', '13524.0', '17078.0', '17266.0', '16430.0', '14542.0', '16949.0', '13812.0', '17520.0', '12361.0', '14715.0', '15679.0', '13134.0', '13594.0', '14929.0', '16242.0', '13854.0', '12842.0', '13489.0', '16457.0', '14161.0', '16591.0', '18032.0', '15349.0', '17805.0', '13279.0', '17975.0', '15469.0', '16226.0', '12468.0', '13878.0', '14178.0', '16587.0', '15663.0', '16529.0', '17015.0', '17728.0', '18037.0', '16108.0', '15996.0', '14368.0', '16043.0', '14403.0', '12607.0', '16679.0', '13689.0', '16770.0', '12723.0', '17444.0', '13060.0', '14867.0', '14332.0', '14904.0', '16756.0', '12350.0', '15797.0', '12963.0', '13523.0', '15251.0', '15095.0', '16990.0', '15656.0', '18231.0', '16810.0', '16003.0', '16812.0', '12897.0', '15134.0', '17849.0', '15235.0', '13477.0', '17669.0', '18053.0', '15099.0', '15096.0', '13521.0', '12544.0', '15732.0', '17811.0', '16009.0', '13615.0', '14087.0', '15201.0', '16099.0', '16932.0', '13296.0', '14609.0', '12707.0', '12976.0', '17489.0', '14672.0', '14646.0', '13013.0', '17354.0', '17035.0', '12984.0', '16172.0', '17231.0', '16249.0', '13212.0', '12372.0', '16952.0', '16400.0', '16561.0', '12713.0', '12497.0', '14847.0', '18261.0', '13381.0', '14383.0', '16654.0', '15087.0', '15910.0', '16744.0', '15664.0', '17463.0', '13856.0', '12476.0', '12719.0', '12355.0', '15955.0', '15549.0', '16985.0', '13708.0', '17438.0', '17736.0', '12506.0', '12423.0', '16983.0', '17451.0', '16245.0', '16221.0', '14441.0', '17301.0', '17767.0', '17997.0', '15766.0', '13253.0', '13388.0', '15570.0', '17060.0', '17816.0', '16425.0', '13021.0', '16147.0', '16183.0', '17791.0', '17901.0', '15129.0', '12656.0', '15435.0', '15554.0', '18034.0', '13741.0', '14438.0', '15236.0', '13005.0', '16256.0', '17236.0', '15775.0', '16583.0', '16818.0', '15316.0', '14130.0', '14730.0', '15411.0', '16448.0', '13728.0', '14001.0', '15321.0', '17837.0', '17988.0', '14231.0', '15502.0', '15525.0', '17456.0', '12478.0', '13078.0', '12744.0', '14790.0', '16422.0', '16778.0', '13959.0', '12939.0', '13003.0', '15589.0', '13548.0', '14460.0', '15998.0', '18190.0', '13282.0', '14331.0', '17410.0', '17160.0', '17286.0', '17430.0', '15343.0', '12701.0', '15363.0', '17932.0', '13018.0', '16526.0', '13338.0', '17309.0', '17921.0', '13350.0', '16034.0', '13954.0', '17667.0', 'nan', '12684.0', '13260.0', '12583.0', '15683.0', '15522.0', '14000.0', '13244.0', '15781.0', '16806.0', '14301.0', '17139.0', '16752.0', '12393.0', '14111.0', '12585.0', '14855.0', '15057.0', '13267.0', '16986.0', '12798.0', '16211.0', '13270.0', '15289.0', '15104.0', '17950.0', '14972.0', '15763.0', '15114.0', '16715.0', '13269.0', '17180.0', '17602.0', '18202.0', '17597.0', '13823.0', '15061.0', '16652.0', '16850.0', '16007.0', '12556.0', '16642.0', '16776.0', '14341.0', '16692.0', '15606.0', '16326.0', '16076.0', '15643.0', '16362.0', '16431.0', '13385.0', '14973.0', '16270.0', '14623.0', '17779.0', '18122.0', '15045.0', '16814.0', '17217.0', '18074.0', '17404.0', '12822.0', '16313.0', '14529.0', '16947.0', '17898.0', '12916.0', '13983.0', '18102.0', '16106.0', '17320.0', '15758.0', '12891.0', '12797.0', '13639.0', '16394.0', '15041.0', '13799.0', '13963.0', '14484.0', '15574.0', '16569.0', '13194.0', '15533.0', '12917.0', '16912.0', '12633.0', '17201.0', '13366.0', '17948.0', '14277.0', '13266.0', '14916.0', '13295.0', '14121.0', '15247.0', '17291.0', '17648.0', '17769.0', '13531.0', '12893.0', '15624.0', '13670.0', '12489.0', '16716.0', '12614.0', '18170.0', '14936.0', '16755.0', '17613.0', '16224.0', '15808.0', '17232.0', '17866.0', '14907.0', '17514.0', '13298.0', '17593.0', '16265.0', '13452.0', '12586.0', '17531.0', '14682.0', '16434.0', '16682.0', '16804.0', '17376.0', '14748.0', '15206.0', '16720.0', '15830.0', '12740.0', '18101.0', '16317.0', '16574.0', '16674.0', '14667.0', '17790.0', '13226.0', '15032.0', '15444.0', '17181.0', '12851.0', '14887.0', '15071.0', '14013.0', '15296.0', '14055.0', '16498.0', '16869.0', '16470.0', '14344.0', '15428.0', '12458.0', '14829.0', '14657.0', '17088.0', '17589.0', '12616.0', '14381.0', '16342.0', '13842.0', '16567.0', '17331.0', '18119.0', '12688.0', '13144.0', '15257.0', '17279.0', '18016.0', '16877.0', '15527.0', '16566.0', '13467.0', '14052.0', '16602.0', '17676.0', '16098.0', '16690.0', '15690.0', '17070.0', '14903.0', '16456.0', '17969.0', '14410.0', '12602.0', '17299.0', '16022.0', '12610.0', '16504.0', '13268.0', '13422.0', '14795.0', '15743.0', '13384.0', '15708.0', '15393.0', '18123.0', '17864.0', '15805.0', '15382.0', '14554.0', '13046.0', '14233.0', '14551.0', '15661.0', '17511.0', '17564.0', '17906.0', '13517.0', '15615.0', '13712.0', '16208.0', '17154.0', '16511.0', '17684.0', '16671.0', '13994.0', '13666.0', '15756.0', '16639.0', '12930.0', '18222.0', '12418.0', '18276.0', '14487.0', '15018.0', '16322.0', '17984.0', '12483.0', '15752.0', '14162.0', '13978.0', '13934.0', '17942.0', '15068.0', '15983.0', '14143.0', '14327.0', '15803.0', '17500.0', '17596.0', '14451.0', '16503.0', '18259.0', '15108.0', '14655.0', '16914.0', '15676.0', '12432.0', '14414.0', '13358.0', '17781.0', '15385.0', '14701.0', '12691.0', '14946.0', '14960.0', '12982.0', '14760.0', '14898.0', '15270.0', '16586.0', '17443.0', '14505.0', '16455.0', '17537.0', '17637.0', '15994.0', '12827.0', '13094.0', '18217.0', '15721.0', '17912.0', '15193.0', '13508.0', '13668.0', '17732.0', '13827.0', '12924.0', '13859.0', '14782.0', '15043.0', '12743.0', '17499.0', '15090.0', '16127.0', '17431.0', '17977.0', '18035.0', '14880.0', '17510.0', '12465.0', '14141.0', '14413.0', '15017.0', '18061.0', '14226.0', '17553.0', '15012.0', '13904.0', '17100.0', '14524.0', '15540.0', '14567.0', '17134.0', '17120.0', '16083.0', '13805.0', '14236.0', '13453.0', '18229.0', '15030.0', '17663.0', '13617.0', '17440.0', '13877.0', '14727.0', '15319.0', '18164.0', '12908.0', '17813.0', '16315.0', '16717.0', '18144.0', '17179.0', '14287.0', '16887.0', '14779.0', '16593.0', '13325.0', '14584.0', '17480.0', '16475.0', '15219.0', '12427.0', '15167.0', '14653.0', '12962.0', '13570.0', '16109.0', '16650.0', '14589.0', '15620.0', '17446.0', '13184.0', '14649.0', '17193.0', '15634.0', '18130.0', '14293.0', '17298.0', '15576.0', '17747.0', '15858.0', '14099.0', '14932.0', '16592.0', '18113.0', '18227.0', '17666.0', '12749.0', '12686.0', '12710.0', '13316.0', '13790.0', '14059.0', '16747.0', '17384.0', '15208.0', '18059.0', '15670.0', '15950.0', '15028.0', '16318.0', '12444.0', '13650.0', '14753.0', '14323.0', '15370.0', '12949.0', '15680.0', '13917.0', '12833.0', '15804.0', '16634.0', '16332.0', '17022.0', '15866.0', '17058.0', '14053.0', '15453.0', '15777.0', '16153.0', '16897.0', '17674.0', '13690.0', '15366.0', '15725.0', '13462.0', '17436.0', '15681.0', '16152.0', '16033.0', '15314.0', '15604.0', '17655.0', '15789.0', '13631.0', '14245.0', '13185.0', '16762.0', '14289.0', '12814.0', '14501.0', '13591.0', '15070.0', '14500.0', '17754.0', '17856.0', '13973.0', '13982.0', '15291.0', '16206.0', '16609.0', '12477.0', '12733.0', '16988.0', '16712.0', '18062.0', '16656.0', '17600.0', '15160.0', '14040.0', '13828.0', '15498.0', '15204.0', '16875.0', '12434.0', '14745.0', '14830.0', '15181.0', '14857.0', '17459.0', '12953.0', '15900.0', '12784.0', '16281.0', '12437.0', '15471.0', '15802.0', '13560.0', '15899.0', '16884.0', '17029.0', '14140.0', '13173.0', '14737.0', '15358.0', '17926.0', '15503.0', '17043.0', '12884.0', '17908.0', '13833.0', '13059.0', '15801.0', '16976.0', '12480.0', '14896.0', '14428.0', '13564.0', '16124.0', '16385.0', '17800.0', '17049.0', '14856.0', '15901.0', '15865.0', '15485.0', '17709.0', '17306.0', '12532.0', '15787.0', '13484.0', '16545.0', '17649.0', '14432.0', '14702.0', '15333.0', '15596.0', '15980.0', '13692.0', '16413.0', '17704.0', '12600.0', '14385.0', '12526.0', '14684.0', '14176.0', '16945.0', '14585.0', '14566.0', '17117.0', '13681.0', '14950.0', '18251.0', '13182.0', '13364.0', '16910.0', '13821.0', '16073.0', '14836.0', '13819.0', '17612.0', '17785.0', '14079.0', '18080.0', '18193.0', '15891.0', '16838.0', '12901.0', '18024.0', '15790.0', '14002.0', '18005.0', '17458.0', '17128.0', '18073.0', '14005.0', '17370.0', '15883.0', '14670.0', '13430.0', '16739.0', '17897.0', '14129.0', '16551.0', '12574.0', '17775.0', '16379.0', '14931.0', '18077.0', '16116.0', '15700.0', '12452.0', '15442.0', '17994.0', '16344.0', '16984.0', '14407.0', '12812.0', '17277.0', '13786.0', '13006.0', '17561.0', '14681.0', '17764.0', '14375.0', '16191.0', '17527.0', '13723.0', '17697.0', '13261.0', '16395.0', '15081.0', '15347.0', '12589.0', '16933.0', '12750.0', '13034.0', '12346.0', '12823.0', '13341.0', '14875.0', '13151.0', '13626.0', '16414.0', '17579.0', '12727.0', '12820.0', '13193.0', '16174.0', '13736.0', '13363.0', '14680.0', '12669.0', '17166.0', '14205.0', '17454.0', '13579.0', '13170.0', '14512.0', '17059.0', '12957.0', '15796.0', '14957.0', '16743.0', '16063.0', '12507.0', '14339.0', '12622.0', '15195.0', '16094.0', '16248.0', '12734.0', '15521.0', '18283.0', '13110.0', '15156.0', '16921.0', '14434.0', '18177.0', '12613.0', '13403.0', '15408.0', '17734.0', '16998.0', '17125.0', '14628.0', '13565.0', '17263.0', '16523.0', '16800.0', '15238.0', '17894.0', '12989.0', '14073.0', '15299.0', '16811.0', '15594.0', '16597.0', '16722.0', '17719.0', '16495.0', '14540.0', '13611.0', '13026.0', '12576.0', '14155.0', '13481.0', '17718.0', '15920.0', '14462.0', '17991.0', '14049.0', '15171.0', '15976.0', '16909.0', '17017.0', '12841.0', '15246.0', '14536.0', '14212.0', '14698.0', '14335.0', '17980.0', '15076.0', '15148.0', '15705.0', '17344.0', '13124.0', '15437.0', '12944.0', '13936.0', '12421.0', '13514.0', '13739.0', '14215.0', '14757.0', '15607.0', '13621.0', '12422.0', '12672.0', '13865.0', '17757.0', '12560.0', '17860.0', '17973.0', '17643.0', '12461.0', '16029.0', '16365.0', '17119.0', '17995.0', '15669.0', '16212.0', '13744.0', '13479.0', '14447.0', '15984.0', '16505.0', '18269.0', '14350.0', '15993.0', '16666.0', '12569.0', '12994.0', '13732.0', '17885.0', '14208.0', '13509.0', '15567.0', '14404.0', '17506.0', '17809.0', '16427.0', '15869.0', '17091.0', '13926.0', '14758.0', '14789.0', '15925.0', '13405.0', '13322.0', '17265.0', '13183.0', '16302.0', '13727.0', '13449.0', '16320.0', '17752.0', '17652.0', '13265.0', '17957.0', '14520.0', '14920.0', '12787.0', '14312.0', '17692.0', '12414.0', '13158.0', '13743.0', '16214.0', '14104.0', '14476.0', '15145.0', '16706.0', '13529.0', '14878.0', '13572.0', '18087.0', '12644.0', '13956.0', '13603.0', '16482.0', '13928.0', '14150.0', '12431.0', '17836.0', '15504.0', '15821.0', '15365.0', '15785.0', '14298.0', '14422.0', '14935.0', '13208.0', '14077.0', '15852.0', '17037.0', '13516.0', '16343.0', '13485.0', '16711.0', '13402.0', '13751.0', '15800.0', '15906.0', '16889.0', '14834.0', '12700.0', '15222.0', '16728.0', '16963.0', '16616.0', '13576.0', '15618.0', '15854.0', '18027.0', '14157.0', '16930.0', '12937.0', '14234.0', '15023.0', '15159.0', '17025.0', '17453.0', '16556.0', '12895.0', '17392.0', '14242.0', '12830.0', '12977.0', '14371.0', '14158.0', '17895.0', '14818.0', '13871.0', '14048.0', '14731.0', '15965.0', '16142.0', '14688.0', '14761.0', '17189.0', '16103.0', '13975.0', '15168.0', '12929.0', '13167.0', '13985.0', '16957.0', '17358.0', '17498.0', '17574.0', '13600.0', '16091.0', '16188.0', '17535.0', '18156.0', '12651.0', '13841.0', '14389.0', '15136.0', '14660.0', '17609.0', '14159.0', '12680.0', '16282.0', '17368.0', '18172.0', '15189.0', '12831.0', '13824.0', '16218.0', '15812.0', '18219.0', '18268.0', '16393.0', '16697.0', '12923.0', '13731.0', '16765.0', '15329.0', '13055.0', '13299.0', '12867.0', '14483.0', '18079.0', '13200.0', '17979.0', '14696.0', '14549.0', '12363.0', '13590.0', '14360.0', '16141.0', '15374.0', '13418.0', '12821.0', '14264.0', '14735.0', '15107.0', '13941.0', '12370.0', '15423.0', '15433.0', '17073.0', '18056.0', '12702.0', '16866.0', '12754.0', '13334.0', '13301.0', '16471.0', '17636.0', '17978.0', '12971.0', '15581.0', '15226.0', '16929.0', '13419.0', '16418.0', '14947.0', '14772.0', '14133.0', '15706.0', '12625.0', '13203.0', '18104.0', '12446.0', '15074.0', '14583.0', '14494.0', '17711.0', '13318.0', '15405.0', '14759.0', '13464.0', '17158.0', '13487.0', '14023.0', '14784.0', '12735.0', '16233.0', '13984.0', '16882.0', '14534.0', '17213.0', '16150.0', '16255.0', '17064.0', '14085.0', '13390.0', '17203.0', '13259.0', '17420.0', '17386.0', '16162.0', '14527.0', '14800.0', '12689.0', '18174.0', '18160.0', '17403.0', '12454.0', '12876.0', '13001.0', '14340.0', '16518.0', '18223.0', '18233.0', '12552.0', '13376.0', '15244.0', '16017.0', '16451.0', '14550.0', '15004.0', '15584.0', '17030.0', '12546.0', '15368.0', '16361.0', '14629.0', '18281.0', '15719.0', '15178.0', '16112.0', '15256.0', '13538.0', '13924.0', '17678.0', '12995.0', '15287.0', '15049.0', '15124.0', '12377.0', '12559.0', '13243.0', '16950.0', '14345.0', '13780.0', '13546.0', '13656.0', '16370.0', '15603.0', '15563.0', '16157.0', '12722.0', '13093.0', '15297.0', '16161.0', '16953.0', '17052.0', '15671.0', '16531.0', '14632.0', '14261.0', '14816.0', '15759.0', '16809.0', '14569.0', '16190.0', '14716.0', '16235.0', '12502.0', '14015.0', '15703.0', '17505.0', '15286.0', '17765.0', '18278.0', '17491.0', '18270.0', '12974.0', '15263.0', '13228.0', '15000.0', '15898.0', '16959.0', '13518.0', '13883.0', '14788.0', '18121.0', '14552.0', '15154.0', '15500.0', '12364.0', '17114.0', '16898.0', '16134.0', '15674.0', '13171.0', '13426.0', '15009.0', '15819.0', '15827.0', '16383.0', '15313.0', '16750.0', '12648.0', '12808.0', '14449.0', '15912.0', '17442.0', '15133.0', '17750.0', '17250.0', '12873.0', '17422.0', '13345.0', '14311.0', '16500.0', '17235.0', '15909.0', '13232.0', '16938.0', '14498.0', '17679.0', '12623.0', '18004.0', '17974.0', '15373.0', '15255.0', '14890.0', '16198.0', '14964.0', '13365.0', '13764.0', '13272.0', '17796.0', '13349.0', '12420.0', '13686.0', '14965.0', '13221.0', '15940.0', '14354.0', '12952.0', '15831.0', '17615.0', '12501.0', '14863.0', '14290.0', '15414.0', '13787.0', '13778.0', '15894.0', '12837.0', '13937.0', '12649.0', '13740.0', '14508.0', '13876.0', '18006.0', '16790.0', '12659.0', '12904.0', '15132.0', '16680.0', '15839.0', '13697.0', '12883.0', '14886.0', '14307.0', '17371.0', '16696.0', '16792.0', '14853.0', '14518.0', '15949.0', '16594.0', '14276.0', '16179.0', '17737.0', '17038.0', '13999.0', '13951.0', '13873.0', '18071.0', '15557.0', '16139.0', '16730.0', '12488.0', '15885.0', '17947.0', '12816.0', '12997.0', '14762.0', '13667.0', '14995.0', '13575.0', '15473.0', '17324.0', '17470.0', '12697.0', '14905.0', '13375.0', '17654.0', '17495.0', '17340.0', '14415.0', '17123.0', '14117.0', '16250.0', '15957.0', '14506.0', '14530.0', '15786.0', '14204.0', '14349.0', '16653.0', '15036.0', '15611.0', '16700.0', '17311.0', '14621.0', '14910.0', '15394.0', '13549.0', '15815.0', '17548.0', '17290.0', '17462.0', '16441.0', '17551.0', '13304.0', '13319.0', '15014.0', '17725.0', '12839.0', '17252.0', '13106.0', '12847.0', '14420.0', '17892.0', '14224.0', '14112.0', '14395.0', '13649.0', '16477.0', '18173.0', '17197.0', '17986.0', '17315.0', '15038.0', '14997.0', '14125.0', '15597.0', '12919.0', '12365.0', '13610.0', '14463.0', '15395.0', '17050.0', '16078.0', '13901.0', '12933.0', '13792.0', '13931.0', '12612.0', '13188.0', '16841.0', '17985.0', '13223.0', '16036.0', '14664.0', '13027.0', '16333.0', '17406.0', '17664.0', '17839.0', '13960.0', '14356.0', '13769.0', '12928.0', '13008.0', '16623.0', '16705.0', '16419.0', '13507.0', '17523.0', '14801.0', '16555.0', '17888.0', '14098.0', '13291.0', '18118.0', '13162.0', '13408.0', '14352.0', '14039.0', '12561.0', '13709.0', '16948.0', '15421.0', '12594.0', '14570.0', '14792.0', '15938.0', '12545.0', '17693.0', '16053.0', '17556.0', '14238.0', '14246.0', '13720.0', '17303.0', '17759.0', '12352.0', '14859.0', '12383.0', '13310.0', '14851.0', '17879.0', '15975.0', '12931.0', '14232.0', '15241.0', '13207.0', '13911.0', '12660.0', '15472.0', '16052.0', '15066.0', '16978.0', '14075.0', '16473.0', '15506.0', '18249.0', '13280.0', '15951.0', '17871.0', '17367.0', '13045.0', '13460.0', '14235.0', '17795.0', '14034.0', '18150.0', '14699.0', '14647.0', '14915.0', '14194.0', '14448.0', '15841.0', '15933.0', '12519.0', '15322.0', '15649.0', '17313.0', '17138.0', '18067.0', '16389.0', '15320.0', '17334.0', '16423.0', '18014.0', '17457.0', '15379.0', '16918.0', '15265.0', '15380.0', '14173.0', '17644.0', '16641.0', '17400.0', '15187.0', '15462.0', '17735.0', '16266.0', '13638.0', '15276.0', '15050.0', '13525.0', '17412.0', '13035.0', '16685.0', '13635.0', '18145.0', '14114.0', '16871.0', '12590.0', '14911.0', '16364.0', '17832.0', '16546.0', '13108.0', '12548.0', '17560.0', '14377.0', '15783.0', '12491.0', '12909.0', '16144.0', '17581.0', '13066.0', '16746.0', '12879.0', '18226.0', '15355.0', '17002.0', '16710.0', '18136.0', '13694.0', '16789.0', '15432.0', '15630.0', '12809.0', '13791.0', '16180.0', '15277.0', '15593.0', '17521.0', '14659.0', '12638.0', '12406.0', '17159.0', '14854.0', '17425.0', '16005.0', '18277.0', '13079.0', '14902.0', '16055.0', '15958.0', '17245.0', '17878.0', '13815.0', '14088.0', '17987.0', '16801.0', '14189.0', '16023.0', '13177.0', '14738.0', '16989.0', '17946.0', '16846.0', '16347.0', '14883.0', '18017.0', '16560.0', '15341.0', '14720.0', '13447.0', '13918.0', '17835.0', '15118.0', '13238.0', '13120.0', '14974.0', '15660.0', '13989.0', '15881.0', '12415.0', '14227.0', '12490.0', '14090.0', '16926.0', '17584.0', '14703.0', '15598.0', '15569.0', '17061.0', '12500.0', '12717.0', '17080.0', '18235.0', '14436.0', '17502.0', '16187.0', '13808.0', '13178.0', '14837.0', '15978.0', '13800.0', '15144.0', '14443.0', '15507.0', '13245.0', '15140.0', '16904.0', '13283.0', '17504.0', '12872.0', '14966.0', '14421.0', '17350.0', '15386.0', '17287.0', '15714.0', '18069.0', '12354.0', '12834.0', '17566.0', '13065.0', '18146.0', '17107.0', '17788.0', '18018.0', '12510.0', '14525.0', '14882.0', '17515.0', '17758.0', '14259.0', '17838.0', '12524.0', '14076.0', '12435.0', '13095.0', '13867.0', '16159.0', '16104.0', '12424.0', '13875.0', '17365.0', '14211.0', '12755.0', '12902.0', '13157.0', '13813.0', '14329.0', '16464.0', '15963.0', '16753.0', '16982.0', '14305.0', '17188.0', '17081.0', '14216.0', '13324.0', '14219.0', '14824.0', '15125.0', '15147.0', '12670.0', '18274.0', '14622.0', '13952.0', '17939.0', '16835.0', '17572.0', '13658.0', '18158.0', '15149.0', '14477.0', '15825.0', '16319.0', '17220.0', '13869.0', '17722.0', '13482.0', '14821.0', '18041.0', '13504.0', '14412.0', '18246.0', '17432.0', '15919.0', '17716.0', '15361.0', '14109.0', '14633.0', '15992.0', '16737.0', '17047.0', '16359.0', '17409.0', '15111.0', '16305.0', '17685.0', '18082.0', '14948.0', '16906.0', '13344.0', '15645.0', '14291.0', '14543.0', '16072.0', '16997.0', '12865.0', '17338.0', '18001.0', '13015.0', '13435.0', '13599.0', '16030.0', '13750.0', '14954.0', '12380.0', '17976.0', '15754.0', '13801.0', '12566.0', '15412.0', '14306.0', '17375.0', '14619.0', '12630.0', '14466.0', '15578.0', '17841.0', '15089.0', '18092.0', '18272.0', '16399.0', '14286.0', '16276.0', '17924.0', '16558.0', '14459.0', '15300.0', '15932.0', '15720.0', '15458.0', '14107.0', '16015.0', '15400.0', '15864.0', '13642.0', '17398.0', '18204.0', '15990.0', '14496.0', '15464.0', '12922.0', '13140.0', '14149.0', '15052.0', '15599.0', '16229.0', '14607.0', '16907.0', '17611.0', '13761.0', '13468.0', '17348.0', '18287.0', '16185.0', '15353.0', '15027.0', '15969.0', '14998.0', '14083.0', '12938.0', '14250.0', '15886.0', '18255.0', '14164.0', '14128.0', '14142.0', '15194.0', '16054.0', '13187.0', '15220.0', '13763.0', '15448.0', '16610.0', '16411.0', '13719.0', '16620.0', '12721.0', '12562.0', '16719.0', '12708.0', '13411.0', '13502.0', '15035.0', '15443.0', '16122.0', '18095.0', '13395.0', '15330.0', '18228.0', '12915.0', '17588.0', '13077.0', '15737.0', '16031.0', '13722.0', '14357.0', '15707.0', '16698.0', '17068.0', '18109.0', '17148.0', '13107.0', '14891.0', '13431.0', '14766.0', '17019.0', '17475.0', '16081.0', '17621.0', '12854.0', '15644.0', '18086.0', '16203.0', '17171.0', '14616.0', '12528.0', '17415.0', '13544.0', '15452.0', '13359.0', '15223.0', '15372.0', '14967.0', '16156.0', '14479.0', '15799.0', '17259.0', '13311.0', '12450.0', '15612.0', '13868.0', '12940.0', '13394.0', '16164.0', '16316.0', '12512.0', '13685.0', '15275.0', '15619.0', '16763.0', '17243.0', '17590.0', '16405.0', '14057.0', '16764.0', '13048.0', '15585.0', '16016.0', '18171.0', '13434.0', '17802.0', '16143.0', '16775.0', '13115.0', '13862.0', '16628.0', '15098.0', '15813.0', '17580.0', '17824.0', '15100.0', '15429.0', '13352.0', '15065.0', '14416.0', '13513.0', '14333.0', '16444.0', '14710.0', '17806.0', '14267.0', '12604.0', '13397.0', '15677.0', '13368.0', '12795.0', '14126.0', '14499.0', '14631.0', '16903.0', '14828.0', '16027.0', '16042.0', '13354.0', '16553.0', '12538.0', '13726.0', '16509.0', '17004.0', '12985.0', '15031.0', '15212.0', '18044.0', '14457.0', '14537.0', '17492.0', '13273.0', '13583.0', '15639.0', '12779.0', '12571.0', '13174.0', '13922.0', '13189.0', '16037.0', '15609.0', '13229.0', '15325.0', '15628.0', '16338.0', '14467.0', '16919.0', '18181.0', '15308.0', '17516.0', '14675.0', '17045.0', '13870.0', '18085.0', '13497.0', '16598.0', '14775.0', '17419.0', '13495.0', '13993.0', '15625.0', '16689.0', '16062.0', '16967.0', '15673.0', '15837.0', '15749.0', '12498.0', '15059.0', '17771.0', '13276.0', '15713.0', '13023.0', '18239.0', '17351.0', '17760.0', '17053.0', '14842.0', '15450.0', '12877.0', '17889.0', '13308.0', '16466.0', '18120.0', '14054.0', '16160.0', '13064.0', '14553.0', '16510.0', '16429.0', '16891.0', '16120.0', '16469.0', '13948.0', '16803.0', '16621.0', '15130.0', '13058.0', '15334.0', '15856.0', '14755.0', '14984.0', '15659.0', '16589.0', '17486.0', '17312.0', '13070.0', '17695.0', '12645.0', '16128.0', '17040.0', '16409.0', '18042.0', '14592.0', '16643.0', '12763.0', '13347.0', '15608.0', '17226.0', '13113.0', '15345.0', '17937.0', '12864.0', '13398.0', '15699.0', '16148.0', '16527.0', '17712.0', '14741.0', '15103.0', '17357.0', '15384.0', '15303.0', '17920.0', '15689.0', '12596.0', '12756.0', '14461.0', '14503.0', '12738.0', '12811.0', '14016.0', '14597.0', '14497.0', '15121.0', '17967.0', '18168.0', '14482.0', '13652.0', '12581.0', '14690.0', '16341.0', '14297.0', '13116.0', '13947.0', '13040.0', '17135.0', '12654.0', '12598.0', '15935.0', '13992.0', '16979.0', '14309.0', '12398.0', '14367.0', '16873.0', '16863.0', '14594.0', '14697.0', '16913.0', '17122.0', '12395.0', '12412.0', '16461.0', '16681.0', '13655.0', '17024.0', '18142.0', '15092.0', '15062.0', '15269.0', '14593.0', '16113.0', '15516.0', '14572.0', '15531.0', '16644.0', '12690.0', '17062.0', '14815.0', '15733.0', '17115.0', '15657.0', '12349.0', '15186.0', '17874.0', '16478.0', '12517.0', '17187.0', '16204.0', '17416.0', '17284.0', '13075.0', '17701.0', '13803.0', '12410.0', '13552.0', '13131.0', '13817.0', '14981.0', '14514.0', '15434.0', '13710.0', '16171.0', '17724.0', '17041.0', '13404.0', '15091.0', '13343.0', '17256.0', '17562.0', '13962.0', '15427.0', '15198.0', '15888.0', '18139.0', '15436.0', '13160.0', '14243.0', '12451.0', '15587.0', '17550.0', '15623.0', '12657.0', '15063.0', '13707.0', '13838.0', '13699.0', '14047.0', '15153.0', '15179.0', '17272.0', '16271.0', '17525.0', '14408.0', '17919.0', '15722.0', '15467.0', '12766.0', '15762.0', '15237.0', '15774.0', '16057.0', '17356.0', '17891.0', '15078.0', '17212.0', '15640.0', '16135.0', '14491.0', '17031.0', '18127.0', '15483.0', '16855.0', '15426.0', '16842.0', '16000.0', '15215.0', '12356.0', '14474.0', '12347.0', '16079.0', '16833.0', '17190.0', '17341.0', '17603.0', '13967.0', '15174.0', '14539.0', '16552.0', '14406.0', '16496.0', '16557.0', '14645.0', '12401.0', '13711.0', '15312.0', '12515.0', '15637.0', '16019.0', '17242.0', '18257.0', '12642.0', '12770.0', '12577.0', '18125.0', '16474.0', '15228.0', '16782.0', '14220.0', '12425.0', '12674.0', '14523.0', '13771.0', '15652.0', '13029.0', '12565.0', '13317.0', '14870.0', '17727.0', '14009.0', '14626.0', '13772.0', '13991.0', '14894.0', '15002.0', '16202.0', '13898.0', '15048.0', '16239.0', '17349.0', '15510.0', '15399.0', '13718.0', '15290.0', '13080.0', '17844.0', '14304.0', '17965.0', '12405.0', '14582.0', '13929.0', '13340.0', '12720.0', '16006.0', '17857.0', '15712.0', '13866.0', '13307.0', '17673.0', '12445.0', '12792.0', '14722.0', '16727.0', '16927.0', '17450.0', '14844.0', '15810.0', '12593.0', '14388.0', '16851.0', '12397.0', '17388.0', '13211.0', '14440.0', '17812.0', '14951.0', '17936.0', '15847.0', '17102.0', '13663.0', '14912.0', '16213.0', '16607.0', '16349.0', '15776.0', '13476.0', '17054.0', '12453.0', '16401.0', '13914.0', '14958.0', '17233.0', '17668.0', '13213.0', '15213.0', '13630.0', '15224.0', '13505.0', '15279.0', '16102.0', '16483.0', '17843.0', '16272.0', '13700.0', '12664.0', '17958.0', '14217.0', '13242.0', '18213.0', '12747.0', '15073.0', '14193.0', '17893.0', '16378.0', '16085.0', '17513.0', '15755.0', '13496.0', '15075.0', '13618.0', '17949.0', '13428.0', '17418.0', '13715.0', '14359.0', '12442.0', '17007.0', '12456.0', '13887.0', '12726.0', '14918.0', '13695.0', '14050.0', '14321.0', '16086.0', '12731.0', '13811.0', '12794.0', '17831.0', '13753.0', '14051.0', '15484.0', '17094.0', '18176.0', '14427.0', '16633.0', '13669.0', '12357.0', '15239.0', '16893.0', '16686.0', '17381.0', '12643.0', '15809.0', '12681.0', '15605.0', '12457.0', '13159.0', '12637.0', '13651.0', '14723.0', '14538.0', '15497.0', '17162.0', '16723.0', '16758.0', '17707.0', '14081.0', '13858.0', '15007.0', '16424.0', '14586.0', '17517.0', '13389.0', '12381.0', '17423.0', '14342.0', '14452.0', '13737.0', '15307.0', '16627.0', '17540.0', '15687.0', '13069.0', '13085.0', '16647.0', '17297.0', '13012.0', '17347.0', '14687.0', '15106.0', '14280.0', '16292.0', '17186.0', '14362.0', '17204.0', '15744.0', '17372.0', '17886.0', '15692.0', '17228.0', '13491.0', '13680.0', '15907.0', '17738.0', '12863.0', '13117.0', '12844.0', '16025.0', '14080.0', '16992.0', '14038.0', '13357.0', '16115.0', '15985.0', '12993.0', '14555.0', '16725.0', '13500.0', '14930.0', '15704.0', '14952.0', '12849.0', '12394.0', '13986.0', '13089.0', '14985.0', '17614.0', '17567.0', '17549.0', '16458.0', '12694.0', '14988.0', '17905.0', '13756.0', '14320.0', '12582.0', '12845.0', '15163.0', '15267.0', '17522.0', '17677.0', '18260.0', '14495.0', '14426.0', '15054.0', '17227.0', '16880.0', '15058.0', '13860.0', '14869.0', '15834.0', '16182.0', '17507.0', '12429.0', '13145.0', '13837.0', '13474.0', '14248.0', '17396.0', '17274.0', '12378.0', '15709.0', '17618.0', '16096.0', '17787.0', '15807.0', '16050.0', '17133.0', '17183.0', '13644.0', '14338.0', '12679.0', '13416.0', '16839.0', '16011.0', '12968.0', '13588.0', '15667.0', '15339.0', '16626.0', '16832.0', '14866.0', '15128.0', '12925.0', '16173.0', '15406.0', '16012.0', '14547.0', '17705.0', '15970.0', '16923.0', '15281.0', '14744.0', '14201.0', '16463.0', '16374.0', '14739.0', '15822.0', '16956.0', '17385.0', '18066.0', '17408.0', '17509.0', '14012.0', '14513.0', '14752.0', '12878.0', '13209.0', '14565.0', '18149.0', '14850.0', '12539.0', '15051.0', '18075.0', '16480.0', '13083.0', '14453.0', '13846.0', '16101.0', '12791.0', '14624.0', '15101.0', '17859.0', '12522.0', '16298.0', '14638.0', '12493.0', '16446.0', '14934.0', '15665.0', '16377.0', '17829.0', '13458.0', '14044.0', '14971.0', '18055.0', '17653.0', '13153.0', '15110.0', '16828.0', '13623.0', '13558.0', '17884.0', '17861.0', '12673.0', '13047.0', '17455.0', '13798.0', '17608.0', '14020.0', '13940.0', '15083.0', '12615.0', '15271.0', '17629.0', '16660.0', '13198.0', '13563.0', '16097.0', '16241.0', '17900.0', '13874.0', '17582.0', '18165.0', '17230.0', '17126.0', '17777.0', '15740.0', '13098.0', '18030.0', '17870.0', '17434.0', '14473.0', '16969.0', '15641.0', '17124.0', '17873.0', '14889.0', '12724.0', '15658.0', '14314.0', '16348.0', '13573.0', '13118.0', '13643.0', '14132.0', '16745.0', '13863.0', '15042.0', '16757.0', '14045.0', '16823.0', '14666.0', '17379.0', '13320.0', '15556.0', '13596.0', '15543.0', '13512.0', '16123.0', '16432.0', '17152.0', '18196.0', '13427.0', '14901.0', '14908.0', '15440.0', '16519.0', '13236.0', '13382.0', '14465.0', '17449.0', '17468.0', '12475.0', '17730.0', '15572.0', '17863.0', '18225.0', '16041.0', '13950.0', '12732.0', '12603.0', '12641.0', '14978.0', '15513.0', '17221.0', '12757.0', '17083.0', '15814.0', '17557.0', '17656.0', '15753.0', '13706.0', '16024.0', '14796.0', '16773.0', '13930.0', '17887.0', '12683.0', '14105.0', '18033.0', '16438.0', '15301.0', '12534.0', '12793.0', '12910.0', '16517.0', '15342.0', '13781.0', '15115.0', '16306.0', '17164.0', '15205.0', '17169.0', '12471.0', '12417.0', '17469.0', '14116.0', '15298.0', '12557.0', '15164.0', '16308.0', '12390.0', '12433.0', '14100.0', '18013.0', '16274.0', '16708.0', '15122.0', '18159.0', '13494.0', '15392.0', '16905.0', '15832.0', '15262.0', '16065.0', '12752.0', '15867.0', '16701.0', '15216.0', '16872.0', '16966.0', '17604.0', '16404.0', '17623.0', '17706.0', '17329.0', '16600.0', '12516.0', '13988.0', '15922.0', '16513.0', '16601.0', '18161.0', '12626.0', '14439.0', '12579.0', '12970.0', '14060.0', '12668.0', '12409.0', '13527.0', '14651.0', '15146.0', '15199.0', '17639.0', '14188.0', '18198.0', '14179.0', '16345.0', '14355.0', '15610.0', '13475.0', '13520.0', '12588.0', '15981.0', '17935.0', '15240.0', '14431.0', '17633.0', '17146.0', '12513.0', '16565.0', '16205.0', '16829.0', '15636.0', '16563.0', '12547.0', '13806.0', '13814.0', '12601.0', '15234.0', '14145.0', '14769.0', '18192.0', '17682.0', '15571.0', '14488.0', '16931.0', '13717.0', '16729.0', '18221.0', '17194.0', '16494.0', '18200.0', '16849.0', '13890.0', '17930.0', '18088.0', '15512.0', '16625.0', '17797.0', '15668.0', '12567.0', '16572.0', '15123.0', '17576.0', '18189.0', '14056.0', '18178.0', '15857.0', '16356.0', '16339.0', '15381.0', '12371.0', '17262.0', '16506.0', '12572.0', '14424.0', '17218.0', '17360.0', '17896.0', '13336.0', '16479.0', '17295.0', '14174.0', '17951.0', '16384.0', '15537.0', '14334.0', '12508.0', '12951.0', '14240.0', '16376.0', '12403.0', '16240.0', '17361.0', '14035.0', '14326.0', '15417.0', '17248.0', '16980.0', '12881.0', '12426.0', '14027.0', '13379.0', '16121.0', '14273.0', '15197.0', '16528.0', '12504.0', '12714.0', '12402.0', '17006.0', '16080.0', '15142.0', '13850.0', '13614.0', '13028.0', '12913.0', '12621.0', '14030.0', '16407.0', '13809.0', '17288.0', '17554.0', '17865.0', '13758.0', '13747.0', '16131.0', '17490.0', '13199.0', '16392.0', '14719.0', '12374.0', '18280.0', '13995.0', '15280.0', '16363.0', '17359.0', '15067.0', '17405.0', '15967.0', '16066.0', '15266.0', '17670.0', '12362.0', '18078.0', '15005.0', '13330.0', '13844.0', '14502.0', '18043.0', '16817.0', '13277.0', '15529.0', '18050.0', '15917.0', '14046.0', '18155.0', '17483.0', '13255.0', '15093.0', '16020.0', '12592.0', '13373.0', '12729.0', '15948.0', '15942.0', '12890.0', '14397.0', '16193.0', '17672.0', '12428.0', '13601.0', '13802.0', '12678.0', '14644.0', '12653.0', '15482.0', '16738.0', '16125.0', '14693.0', '17880.0', '15511.0', '17869.0', '12618.0', '16049.0', '16449.0', '17646.0', '13895.0', '14658.0', '15150.0', '16114.0', '13939.0', '16971.0', '13300.0', '13165.0', '15987.0', '12436.0', '15260.0', '15060.0', '16216.0', '13533.0', '15311.0', '15466.0', '17594.0', '16145.0', '16350.0', '12509.0', '12530.0', '14102.0', '13889.0', '12479.0', '15952.0', '16403.0', '15729.0', '15143.0', '12599.0', '13990.0', '13678.0', '14608.0', '17155.0', '13571.0', '13885.0', '12464.0', '17461.0', '14456.0', '13127.0', '12886.0', '17526.0', '12379.0', '13292.0', '17001.0', '14082.0', '17391.0', '13448.0', '16056.0', '18218.0', '14732.0', '14961.0', '12639.0', '12967.0', '13139.0', '14092.0', '12473.0', '16672.0', '15364.0', '14480.0', '13561.0', '13923.0', '14676.0', '16754.0', '14937.0', '14639.0', '18232.0', '14223.0', '15243.0', '12921.0', '17578.0', '17774.0', '12521.0', '13636.0', '14450.0', '16825.0', '14643.0', '18169.0', '15579.0', '16536.0', '17051.0', '13155.0', '15465.0', '18045.0', '14237.0', '17373.0', '16940.0', '15113.0', '13675.0', '15398.0', '17222.0', '16279.0', '13224.0', '12682.0', '14804.0', '15646.0', '15175.0', '16902.0', '17101.0', '13323.0', '12449.0', '17033.0', '12824.0', '16520.0', '15105.0', '17330.0', '17691.0', '18209.0', '16460.0', '13067.0', '12785.0', '15119.0', '18191.0', '18216.0', '14036.0', '16987.0', '15211.0', '18116.0', '12871.0', '13587.0', '14714.0', '14270.0', '13109.0', '16648.0', '17219.0', '18183.0', '14101.0', '15870.0', '13017.0', '16175.0', '14522.0', '14895.0', '17383.0', '17647.0', '17925.0', '17739.0', '13725.0', '13246.0', '14576.0', '12947.0', '14184.0', '14411.0', '16260.0', '16230.0', '17960.0', '13555.0', '16761.0', '16693.0', '14840.0', '16433.0', '13302.0', '16462.0', '17555.0', '15318.0', '15601.0', '18147.0', '12966.0', '12413.0', '13880.0', '15734.0', '16742.0', '17731.0', '14199.0', '14661.0', '16637.0', '16293.0', '13133.0', '14640.0', '14893.0', '15701.0', '16808.0', '17153.0', '13816.0', '14382.0', '14214.0', '13314.0', '15793.0', '12955.0', '16181.0', '15165.0', '16570.0', '13216.0', '14353.0', '13569.0', '13091.0', '16791.0', '18248.0', '17096.0', '14481.0', '17772.0', '13777.0', '17508.0', '15835.0', '16788.0', '17595.0', '13493.0', '16287.0', '14127.0', '16126.0', '14041.0', '18143.0', '13348.0', '14110.0', '14300.0', '15530.0', '16718.0', '17268.0', '17552.0', '16613.0', '16582.0', '13897.0', '14691.0', '13169.0', '14336.0', '15356.0', '17172.0', '16380.0', '17317.0', '17325.0', '17377.0', '12580.0', '12769.0', '17010.0', '14257.0', '14507.0', '17848.0', '14548.0', '14396.0', '14221.0', '13637.0', '14618.0', '15468.0', '15745.0', '16168.0', '15532.0', '12550.0', '13730.0', '14852.0', '17620.0', '15192.0', '15986.0', '14825.0', '15855.0', '15047.0', '16189.0', '12518.0', '14292.0', '17191.0', '12875.0', '17962.0', '14515.0', '15939.0', '14708.0', '15717.0', '12553.0', '17793.0', '13370.0', '13168.0', '15016.0', '13882.0', '14642.0', '15853.0', '17961.0', '18084.0', '17205.0', '13038.0', '12789.0', '13137.0', '14021.0', '15795.0', '16999.0', '18009.0', '13752.0', '14962.0', '16107.0', '16244.0', '12829.0', '12617.0', '13372.0', '16955.0', '18273.0', '13593.0', '14533.0', '12597.0', '12367.0', '16398.0', '12474.0', '13233.0', '14210.0', '12492.0', '16105.0', '16668.0', '17700.0', '17990.0', '13629.0', '14064.0', '14798.0', '13218.0', '15850.0', '13592.0', '13657.0', '15916.0', '16542.0', '13919.0', '15528.0', '12535.0', '14819.0', '15088.0', '15210.0', '16961.0', '13049.0', '15245.0', '14032.0', '15288.0', '16484.0', '17214.0', '16493.0', '18224.0', '13927.0', '15696.0', '13488.0', '12662.0', '12856.0', '15389.0', '16781.0', '12815.0', '15407.0', '12853.0', '15843.0', '16554.0', '17229.0', '14768.0', '15844.0', '15010.0', '13881.0', '12628.0', '14418.0', '13436.0', '17387.0', '14251.0', '18010.0', '14794.0', '17733.0', '16836.0', '18241.0', '12748.0', '12448.0', '13634.0', '14921.0', '17481.0', '14108.0', '17337.0', '13248.0', '15904.0', '16915.0', '13220.0', '17234.0', '17970.0', '18212.0', '14747.0', '13551.0', '16117.0', '15402.0', '12591.0', '12685.0', '12818.0', '13980.0', '14239.0', '17223.0', '15232.0', '13767.0', '17542.0', '18210.0', '17591.0', '17928.0', '14068.0', '14489.0', '17111.0', '14135.0', '12384.0', '13225.0', '13437.0', '14532.0', '14885.0', '15730.0', '15880.0', '12695.0', '16771.0', '17585.0', '15757.0', '14813.0', '17761.0', '13672.0', '14004.0', '13969.0', '16321.0', '17545.0', '13332.0', '16447.0', '15221.0', '14733.0', '16895.0', '16170.0', '13539.0', '18094.0', '12936.0', '16412.0', '13784.0', '17619.0', '18022.0', '15655.0', '18019.0', '15988.0', '14517.0', '12920.0', '16406.0', '17616.0', '15974.0', '17048.0', '14975.0', '16209.0', '17176.0', '12640.0', '13831.0', '13470.0', '15069.0', '12709.0', '14206.0', '15026.0', '13506.0', '14823.0', '16352.0', '17659.0', '14393.0', '13044.0', '14976.0', '14222.0', '15415.0', '15397.0', '13804.0', '15874.0', '18008.0', '15348.0', '15424.0', '18205.0', '14652.0', '13908.0', '15044.0', '15253.0', '14152.0', '13249.0', '14704.0', '14709.0', '13050.0', '13217.0', '13455.0', '15773.0', '16532.0', '16951.0', '15274.0', '17817.0', '13210.0', '16796.0', '12558.0', '15526.0', '15750.0', '15769.0', '15332.0', '14620.0', '15648.0', '16295.0', '16243.0', '16140.0', '16327.0', '12399.0', '12999.0', '16852.0', '13499.0', '13704.0', '17026.0', '17282.0', '17904.0', '18106.0', '14897.0', '13148.0', '14740.0', '16885.0', '16942.0', '14561.0', '16119.0', '12828.0', '14346.0', '15172.0', '14888.0', '16284.0', '17929.0', '15823.0', '14799.0', '16323.0', '18262.0', '16659.0', '18242.0', '12631.0', '18099.0', '14071.0', '13745.0', '15022.0', '15514.0', '17899.0', '14689.0', '15973.0', '18185.0', '16207.0', '17333.0', '15214.0', '16834.0', '15622.0', '12840.0', '14315.0', '16624.0', '16450.0', '16416.0', '17708.0', '17830.0', '12388.0', '15550.0', '13417.0', '12619.0', '12980.0', '17850.0', '13192.0', '15861.0', '14581.0', '14154.0', '15097.0', '14348.0', '14511.0', '14641.0', '17174.0', '15109.0', '17846.0', '13186.0', '12772.0', '14587.0', '14019.0', '17828.0', '18250.0', '12373.0', '14265.0', '15306.0', '12523.0', '15492.0', '16217.0', '13104.0', '17460.0', '18068.0', '14861.0', '17426.0', '16177.0', '16684.0', '16258.0', '12430.0', '15326.0', '18215.0', '14504.0', '16619.0', '17063.0', '17956.0', '13149.0', '12739.0', '15351.0', '13632.0', '13755.0', '14373.0', '16454.0', '13011.0', '13627.0', '14625.0', '15346.0', '15592.0', '14725.0', '15158.0', '12584.0', '15544.0', '12775.0', '18096.0', '12882.0', '13893.0', '15006.0', '12494.0', '16726.0', '13976.0', '15695.0', '12852.0', '14578.0', '13577.0', '14156.0', '16261.0', '16658.0', '16900.0', '17749.0', '18058.0', '15360.0', '15945.0', '15826.0', '13760.0', '14881.0', '16227.0', '16442.0', '15547.0', '13235.0', '12462.0', '15033.0', '12587.0', '16965.0', '17046.0', '15039.0', '15748.0', '16657.0', '18220.0', '16678.0', '17702.0', '12441.0', '16309.0', '13294.0', '18252.0', '14713.0', '17472.0', '17239.0', '12520.0', '13062.0', '14913.0', '13351.0', '12736.0', '13568.0', '15152.0', '15903.0', '14573.0', '16268.0', '15782.0', '16283.0', '12758.0', '17140.0', '17703.0', '14970.0', '16491.0', '12950.0', '18154.0', '14288.0', '13146.0', '15367.0', '14146.0', '12358.0', '12658.0', '14390.0', '12906.0', '13456.0', '14669.0', '14546.0', '13425.0', '13239.0', '13782.0', '17314.0', '15727.0', '14873.0', '16550.0', '12826.0', '16488.0', '12838.0', '16353.0', '16917.0', '17968.0', '13949.0', '14636.0', '13121.0', '16820.0', '17142.0', '17345.0', '15626.0', '13122.0', '14472.0', '14066.0', '13584.0', '14528.0', '15768.0', '16445.0', '12536.0', '14437.0', '13566.0', '14656.0', '15419.0', '17165.0', '16387.0', '15791.0', '16535.0', '13892.0', '13132.0', '15491.0', '13142.0', '16357.0', '15116.0', '18151.0', '12753.0', '13607.0', '12627.0', '14096.0', '17254.0', '16795.0', '13851.0', '15127.0', '13955.0', '14754.0', '13589.0', '17524.0', '17770.0', '12843.0', '16794.0', '13742.0', '17799.0', '16136.0', '16617.0', '14379.0', '15230.0', '15724.0', '12463.0', '14778.0', '13256.0', '16861.0', '17389.0', '13501.0', '13826.0', '14089.0', '13271.0', '13284.0', '13822.0', '16178.0', '15820.0', '13886.0', '17105.0', '13097.0', '14577.0', '15863.0', '13705.0', '13321.0', '16010.0', '16807.0', '12836.0', '16525.0', '16667.0', '17786.0', '16612.0', '13082.0', '16618.0', '16201.0', '15388.0', '13030.0', '13305.0', '14591.0', '16146.0', '17237.0', '15457.0', '16330.0', '13832.0', '12447.0', '15422.0', '14475.0', '16533.0', '12578.0', '16676.0', '13979.0', '18135.0', '18263.0', '17862.0', '17940.0', '15971.0', '13263.0', '15573.0', '14756.0', '15182.0', '17071.0', '16596.0', '16793.0', '13602.0', '17353.0', '13072.0', '14600.0', '17302.0', '13647.0', '12778.0', '17966.0', '13466.0', '13774.0', '13534.0', '12991.0', '14258.0', '14944.0', '13461.0', '13536.0', '14147.0', '15021.0', '12802.0', '12348.0', '13043.0', '13532.0', '13606.0', '14849.0', '15562.0', '17447.0', '12573.0', '15930.0', '16215.0', '12455.0', '13081.0', '14423.0', '15480.0', '17084.0', '12857.0', '16614.0', '16222.0', '18065.0', '17931.0', '12375.0', '14401.0', '16777.0', '16070.0', '16638.0', '17954.0', '17744.0', '15545.0', '13052.0', '13262.0', '14817.0', '15694.0', '16655.0', '17650.0', '17097.0', '16883.0', '17321.0', '13562.0', '13894.0', '16859.0', '14603.0', '12764.0', '17267.0', '13099.0', '17293.0', '18188.0', '17694.0', '12635.0', '17397.0', '14165.0', '15838.0', '16059.0', '16236.0', '17433.0', '14180.0', '15463.0', '15877.0', '17651.0', '13899.0', '18184.0', '16369.0', '16499.0', '14229.0', '14780.0', '12646.0', '13441.0', '17696.0', '13503.0', '16415.0', '14806.0', '13369.0', '13297.0', '14810.0', '13090.0', '14820.0', '16169.0', '17144.0', '18072.0', '18112.0', '13061.0', '16837.0', '14285.0', '12391.0', '12703.0', '14665.0', '16008.0', '16048.0', '16163.0', '17110.0', '14014.0', '18194.0', '16611.0', '17528.0', '14241.0', '15653.0', '16848.0', '14177.0', '16018.0', '17630.0', '13932.0', '16916.0', '12762.0', '12647.0', '15272.0', '16325.0', '14805.0', '16368.0', '12712.0', '12965.0', '17027.0', '12667.0', '12855.0', '17671.0', '13721.0', '13703.0', '15739.0', '16824.0', '18245.0', '14785.0', '16297.0', '12783.0', '15568.0', '12888.0', '16581.0', '15862.0', '15475.0', '15249.0', '17601.0', '15602.0', '16026.0', '13258.0', '13176.0', '15561.0', '16351.0', '16110.0', '17402.0', '17253.0', '15447.0', '13515.0', '17090.0', '14284.0', '17503.0', '15157.0', '12987.0', '14446.0', '12693.0', '12782.0', '13355.0', '16954.0', '13925.0', '13240.0', '15505.0', '13130.0', '14037.0', '16856.0', '13196.0', '18015.0', '17999.0', '17658.0', '12650.0', '18108.0', '16714.0', '16766.0', '17624.0', '17964.0', '12624.0', '13309.0', '17855.0', '13486.0', '13853.0', '17086.0', '13227.0', '16225.0', '18133.0', '14729.0', '16669.0', '17374.0', '18110.0', '14959.0', '13972.0', '17011.0', '14700.0', '18105.0', '18265.0', '13673.0', '14606.0', '16210.0', '12781.0', '17660.0', '14409.0', '15264.0', '16038.0', '14317.0', '16960.0', '13016.0', '17858.0', '16013.0', '13414.0', '17640.0', '15553.0', '15180.0', '14272.0', '14557.0', '15551.0', '16573.0', '16816.0', '15520.0', '13285.0', '15977.0', '16516.0', '16549.0', '14185.0', '17941.0', '17955.0', '13068.0', '13735.0', '13522.0', '17501.0', '15185.0', '13002.0', '13471.0', '16881.0', '17414.0', '17917.0', '18064.0', '12652.0', '16045.0', '14387.0', '16892.0', '17429.0', '14078.0', '15261.0', '14198.0', '16830.0', '16928.0', '14006.0', '13327.0', '15621.0', '17362.0', '16584.0', '18040.0', '17819.0', '18167.0', '14595.0', '17783.0', '15678.0', '12868.0', '17883.0', '13033.0', '17247.0', '12718.0', '14860.0', '16366.0', '15258.0', '12551.0', '15747.0', '16337.0', '16826.0', '16779.0', '15019.0', '15493.0', '16769.0', '13103.0', '14022.0', '15252.0', '15872.0', '17854.0', '14218.0', '17914.0', '12438.0', '13519.0', '16734.0', '17289.0', '15882.0', '12481.0', '12705.0', '15953.0', '14865.0', '12704.0', '17131.0', '15488.0', '15494.0', '15541.0', '13136.0', '16372.0', '17206.0', '15840.0', '15565.0', '12514.0', '13933.0', '13329.0', '18240.0', '13391.0', '16943.0', '14138.0', '13759.0', '12531.0', '14195.0', '14271.0', '14711.0', '17147.0', '16149.0', '15478.0', '12527.0', '17512.0', '18230.0', '14808.0', '15651.0', '17628.0', '16092.0', '12832.0', '16784.0', '13396.0', '18117.0', '14924.0', '15675.0', '17427.0', '15555.0', '13684.0', '15723.0', '16805.0', '15577.0', '18114.0', '14167.0', '14299.0', '16278.0', '12360.0', '13126.0', '14598.0', '15937.0', '13450.0', '13810.0', '14062.0', '17686.0', '17244.0', '15335.0', '17534.0', '13004.0', '16468.0', '16878.0', '13247.0', '16014.0', '15315.0', '13421.0', '14485.0', '16485.0'}\n"
          ],
          "name": "stdout"
        }
      ]
    },
    {
      "cell_type": "code",
      "metadata": {
        "id": "o8be_YC6RKlA"
      },
      "source": [
        "# constant variables to define field names include:\n",
        "user_id = 'CustomerID'\n",
        "item_id = 'StockCode'\n",
        "users_to_recommend = list(customers)\n",
        "n_rec = 10 # number of items to recommend\n",
        "n_display = 30 # to display the first few rows in an output dataset"
      ],
      "execution_count": null,
      "outputs": []
    },
    {
      "cell_type": "code",
      "metadata": {
        "id": "i1-mk7fZRNnt"
      },
      "source": [
        "def model(train_data, name, user_id, item_id, target, users_to_recommend, n_rec, n_display):\n",
        "    if name == 'popularity':\n",
        "        model = tc.popularity_recommender.create(train_data,\n",
        "                                                    user_id=user_id,\n",
        "                                                    item_id=item_id,\n",
        "                                                    target=target)\n",
        "    elif name == 'cosine':\n",
        "        model = tc.item_similarity_recommender.create(train_data,\n",
        "                                                    user_id=user_id,\n",
        "                                                    item_id=item_id,\n",
        "                                                    target=target,\n",
        "                                                    similarity_type='cosine')\n",
        "    elif name == 'pearson':\n",
        "        model = tc.item_similarity_recommender.create(train_data,\n",
        "                                                    user_id=user_id,\n",
        "                                                    item_id=item_id,\n",
        "                                                    target=target,\n",
        "                                                    similarity_type='pearson')\n",
        "\n",
        "    recom = model.recommend(users=users_to_recommend, k=n_rec)\n",
        "    recom.print_rows(n_display)\n",
        "    return model"
      ],
      "execution_count": null,
      "outputs": []
    },
    {
      "cell_type": "code",
      "metadata": {
        "id": "mUiXV7mjnMFw",
        "colab": {
          "base_uri": "https://localhost:8080/",
          "height": 765
        },
        "outputId": "e99aeb4c-d140-4c53-a035-499f13468601"
      },
      "source": [
        "name = 'popularity'\n",
        "target = 'purchase_count'\n",
        "popularity = model(train_data, name, user_id, item_id, target, users_to_recommend, n_rec, n_display)"
      ],
      "execution_count": null,
      "outputs": [
        {
          "output_type": "display_data",
          "data": {
            "text/html": [
              "<pre>Preparing data set.</pre>"
            ],
            "text/plain": [
              "Preparing data set."
            ]
          },
          "metadata": {
            "tags": []
          }
        },
        {
          "output_type": "display_data",
          "data": {
            "text/html": [
              "<pre>    Data has 216488 observations with 4316 users and 3967 items.</pre>"
            ],
            "text/plain": [
              "    Data has 216488 observations with 4316 users and 3967 items."
            ]
          },
          "metadata": {
            "tags": []
          }
        },
        {
          "output_type": "display_data",
          "data": {
            "text/html": [
              "<pre>    Data prepared in: 0.337698s</pre>"
            ],
            "text/plain": [
              "    Data prepared in: 0.337698s"
            ]
          },
          "metadata": {
            "tags": []
          }
        },
        {
          "output_type": "display_data",
          "data": {
            "text/html": [
              "<pre>216488 observations to process; with 3967 unique items.</pre>"
            ],
            "text/plain": [
              "216488 observations to process; with 3967 unique items."
            ]
          },
          "metadata": {
            "tags": []
          }
        },
        {
          "output_type": "display_data",
          "data": {
            "text/html": [
              "<pre>recommendations finished on 1000/4340 queries. users per second: 30195.1</pre>"
            ],
            "text/plain": [
              "recommendations finished on 1000/4340 queries. users per second: 30195.1"
            ]
          },
          "metadata": {
            "tags": []
          }
        },
        {
          "output_type": "display_data",
          "data": {
            "text/html": [
              "<pre>recommendations finished on 2000/4340 queries. users per second: 31308.2</pre>"
            ],
            "text/plain": [
              "recommendations finished on 2000/4340 queries. users per second: 31308.2"
            ]
          },
          "metadata": {
            "tags": []
          }
        },
        {
          "output_type": "display_data",
          "data": {
            "text/html": [
              "<pre>recommendations finished on 3000/4340 queries. users per second: 31614.2</pre>"
            ],
            "text/plain": [
              "recommendations finished on 3000/4340 queries. users per second: 31614.2"
            ]
          },
          "metadata": {
            "tags": []
          }
        },
        {
          "output_type": "display_data",
          "data": {
            "text/html": [
              "<pre>recommendations finished on 4000/4340 queries. users per second: 30847.1</pre>"
            ],
            "text/plain": [
              "recommendations finished on 4000/4340 queries. users per second: 30847.1"
            ]
          },
          "metadata": {
            "tags": []
          }
        },
        {
          "output_type": "stream",
          "text": [
            "+------------+-----------+-------+------+\n",
            "| CustomerID | StockCode | score | rank |\n",
            "+------------+-----------+-------+------+\n",
            "|  16040.0   |    DOT    | 693.0 |  1   |\n",
            "|  16040.0   |   47566b  | 102.0 |  2   |\n",
            "|  16040.0   |   84923   |  98.0 |  3   |\n",
            "|  16040.0   |   72349b  |  82.0 |  4   |\n",
            "|  16040.0   |   84997b  |  70.0 |  5   |\n",
            "|  16040.0   |   84509a  |  68.0 |  6   |\n",
            "|  16040.0   |   84970s  |  66.0 |  7   |\n",
            "|  16040.0   |   84997c  |  66.0 |  8   |\n",
            "|  16040.0   |   84997a  |  65.0 |  9   |\n",
            "|  16040.0   |  15056bl  |  62.0 |  10  |\n",
            "|  13102.0   |    DOT    | 693.0 |  1   |\n",
            "|  13102.0   |   47566b  | 102.0 |  2   |\n",
            "|  13102.0   |   84923   |  98.0 |  3   |\n",
            "|  13102.0   |   72349b  |  82.0 |  4   |\n",
            "|  13102.0   |   84997b  |  70.0 |  5   |\n",
            "|  13102.0   |   84509a  |  68.0 |  6   |\n",
            "|  13102.0   |   84970s  |  66.0 |  7   |\n",
            "|  13102.0   |   84997c  |  66.0 |  8   |\n",
            "|  13102.0   |   84997a  |  65.0 |  9   |\n",
            "|  13102.0   |  15056bl  |  62.0 |  10  |\n",
            "|  12353.0   |    DOT    | 693.0 |  1   |\n",
            "|  12353.0   |   47566b  | 102.0 |  2   |\n",
            "|  12353.0   |   84923   |  98.0 |  3   |\n",
            "|  12353.0   |   72349b  |  82.0 |  4   |\n",
            "|  12353.0   |   84997b  |  70.0 |  5   |\n",
            "|  12353.0   |   84509a  |  68.0 |  6   |\n",
            "|  12353.0   |   84970s  |  66.0 |  7   |\n",
            "|  12353.0   |   84997c  |  66.0 |  8   |\n",
            "|  12353.0   |   84997a  |  65.0 |  9   |\n",
            "|  12353.0   |  15056bl  |  62.0 |  10  |\n",
            "+------------+-----------+-------+------+\n",
            "[43400 rows x 4 columns]\n",
            "\n"
          ],
          "name": "stdout"
        }
      ]
    },
    {
      "cell_type": "code",
      "metadata": {
        "id": "BIcaD3ayoihu",
        "colab": {
          "base_uri": "https://localhost:8080/",
          "height": 799
        },
        "outputId": "6b4964c4-c364-4185-e99a-f9dfe0c43c6e"
      },
      "source": [
        "name = 'popularity'\n",
        "target = 'purchase_dummy'\n",
        "pop_dummy = model(train_data_dummy, name, user_id, item_id, target, users_to_recommend, n_rec, n_display)"
      ],
      "execution_count": null,
      "outputs": [
        {
          "output_type": "display_data",
          "data": {
            "text/html": [
              "<pre>Warning: Ignoring columns purchase_count;</pre>"
            ],
            "text/plain": [
              "Warning: Ignoring columns purchase_count;"
            ]
          },
          "metadata": {
            "tags": []
          }
        },
        {
          "output_type": "display_data",
          "data": {
            "text/html": [
              "<pre>    To use these columns in scoring predictions, use a model that allows the use of additional features.</pre>"
            ],
            "text/plain": [
              "    To use these columns in scoring predictions, use a model that allows the use of additional features."
            ]
          },
          "metadata": {
            "tags": []
          }
        },
        {
          "output_type": "display_data",
          "data": {
            "text/html": [
              "<pre>Preparing data set.</pre>"
            ],
            "text/plain": [
              "Preparing data set."
            ]
          },
          "metadata": {
            "tags": []
          }
        },
        {
          "output_type": "display_data",
          "data": {
            "text/html": [
              "<pre>    Data has 216488 observations with 4325 users and 3948 items.</pre>"
            ],
            "text/plain": [
              "    Data has 216488 observations with 4325 users and 3948 items."
            ]
          },
          "metadata": {
            "tags": []
          }
        },
        {
          "output_type": "display_data",
          "data": {
            "text/html": [
              "<pre>    Data prepared in: 0.339963s</pre>"
            ],
            "text/plain": [
              "    Data prepared in: 0.339963s"
            ]
          },
          "metadata": {
            "tags": []
          }
        },
        {
          "output_type": "display_data",
          "data": {
            "text/html": [
              "<pre>216488 observations to process; with 3948 unique items.</pre>"
            ],
            "text/plain": [
              "216488 observations to process; with 3948 unique items."
            ]
          },
          "metadata": {
            "tags": []
          }
        },
        {
          "output_type": "display_data",
          "data": {
            "text/html": [
              "<pre>recommendations finished on 1000/4340 queries. users per second: 32263.3</pre>"
            ],
            "text/plain": [
              "recommendations finished on 1000/4340 queries. users per second: 32263.3"
            ]
          },
          "metadata": {
            "tags": []
          }
        },
        {
          "output_type": "display_data",
          "data": {
            "text/html": [
              "<pre>recommendations finished on 2000/4340 queries. users per second: 32921.3</pre>"
            ],
            "text/plain": [
              "recommendations finished on 2000/4340 queries. users per second: 32921.3"
            ]
          },
          "metadata": {
            "tags": []
          }
        },
        {
          "output_type": "display_data",
          "data": {
            "text/html": [
              "<pre>recommendations finished on 3000/4340 queries. users per second: 33187.7</pre>"
            ],
            "text/plain": [
              "recommendations finished on 3000/4340 queries. users per second: 33187.7"
            ]
          },
          "metadata": {
            "tags": []
          }
        },
        {
          "output_type": "display_data",
          "data": {
            "text/html": [
              "<pre>recommendations finished on 4000/4340 queries. users per second: 33284.5</pre>"
            ],
            "text/plain": [
              "recommendations finished on 4000/4340 queries. users per second: 33284.5"
            ]
          },
          "metadata": {
            "tags": []
          }
        },
        {
          "output_type": "stream",
          "text": [
            "+------------+-----------+-------+------+\n",
            "| CustomerID | StockCode | score | rank |\n",
            "+------------+-----------+-------+------+\n",
            "|  16040.0   |   21109   |  1.0  |  1   |\n",
            "|  16040.0   |   21504   |  1.0  |  2   |\n",
            "|  16040.0   |   22111   |  1.0  |  3   |\n",
            "|  16040.0   |   23349   |  1.0  |  4   |\n",
            "|  16040.0   |   21609   |  1.0  |  5   |\n",
            "|  16040.0   |   22699   |  1.0  |  6   |\n",
            "|  16040.0   |   21484   |  1.0  |  7   |\n",
            "|  16040.0   |   84380   |  1.0  |  8   |\n",
            "|  16040.0   |   23636   |  1.0  |  9   |\n",
            "|  16040.0   |   22992   |  1.0  |  10  |\n",
            "|  13102.0   |   21109   |  1.0  |  1   |\n",
            "|  13102.0   |   21504   |  1.0  |  2   |\n",
            "|  13102.0   |   22111   |  1.0  |  3   |\n",
            "|  13102.0   |   23349   |  1.0  |  4   |\n",
            "|  13102.0   |   21609   |  1.0  |  5   |\n",
            "|  13102.0   |   22699   |  1.0  |  6   |\n",
            "|  13102.0   |   21484   |  1.0  |  7   |\n",
            "|  13102.0   |   84380   |  1.0  |  8   |\n",
            "|  13102.0   |   23636   |  1.0  |  9   |\n",
            "|  13102.0   |   22992   |  1.0  |  10  |\n",
            "|  12353.0   |   21109   |  1.0  |  1   |\n",
            "|  12353.0   |   21504   |  1.0  |  2   |\n",
            "|  12353.0   |   22111   |  1.0  |  3   |\n",
            "|  12353.0   |   23349   |  1.0  |  4   |\n",
            "|  12353.0   |   21609   |  1.0  |  5   |\n",
            "|  12353.0   |   22699   |  1.0  |  6   |\n",
            "|  12353.0   |   21484   |  1.0  |  7   |\n",
            "|  12353.0   |   84380   |  1.0  |  8   |\n",
            "|  12353.0   |   23636   |  1.0  |  9   |\n",
            "|  12353.0   |   22992   |  1.0  |  10  |\n",
            "+------------+-----------+-------+------+\n",
            "[43400 rows x 4 columns]\n",
            "\n"
          ],
          "name": "stdout"
        }
      ]
    },
    {
      "cell_type": "code",
      "metadata": {
        "id": "oUGZgIAARTks",
        "outputId": "3e706639-d8a8-479c-99fd-33ca7de79361",
        "colab": {
          "base_uri": "https://localhost:8080/",
          "height": 765
        }
      },
      "source": [
        "name = 'popularity'\n",
        "target = 'scaled_purchase_freq'\n",
        "pop_norm = model(train_data_norm, name, user_id, item_id, target, users_to_recommend, n_rec, n_display)"
      ],
      "execution_count": null,
      "outputs": [
        {
          "output_type": "display_data",
          "data": {
            "text/html": [
              "<pre>Preparing data set.</pre>"
            ],
            "text/plain": [
              "Preparing data set."
            ]
          },
          "metadata": {
            "tags": []
          }
        },
        {
          "output_type": "display_data",
          "data": {
            "text/html": [
              "<pre>    Data has 215056 observations with 4316 users and 3358 items.</pre>"
            ],
            "text/plain": [
              "    Data has 215056 observations with 4316 users and 3358 items."
            ]
          },
          "metadata": {
            "tags": []
          }
        },
        {
          "output_type": "display_data",
          "data": {
            "text/html": [
              "<pre>    Data prepared in: 0.367836s</pre>"
            ],
            "text/plain": [
              "    Data prepared in: 0.367836s"
            ]
          },
          "metadata": {
            "tags": []
          }
        },
        {
          "output_type": "display_data",
          "data": {
            "text/html": [
              "<pre>215056 observations to process; with 3358 unique items.</pre>"
            ],
            "text/plain": [
              "215056 observations to process; with 3358 unique items."
            ]
          },
          "metadata": {
            "tags": []
          }
        },
        {
          "output_type": "display_data",
          "data": {
            "text/html": [
              "<pre>recommendations finished on 1000/4340 queries. users per second: 33608.9</pre>"
            ],
            "text/plain": [
              "recommendations finished on 1000/4340 queries. users per second: 33608.9"
            ]
          },
          "metadata": {
            "tags": []
          }
        },
        {
          "output_type": "display_data",
          "data": {
            "text/html": [
              "<pre>recommendations finished on 2000/4340 queries. users per second: 34961.4</pre>"
            ],
            "text/plain": [
              "recommendations finished on 2000/4340 queries. users per second: 34961.4"
            ]
          },
          "metadata": {
            "tags": []
          }
        },
        {
          "output_type": "display_data",
          "data": {
            "text/html": [
              "<pre>recommendations finished on 3000/4340 queries. users per second: 35681.2</pre>"
            ],
            "text/plain": [
              "recommendations finished on 3000/4340 queries. users per second: 35681.2"
            ]
          },
          "metadata": {
            "tags": []
          }
        },
        {
          "output_type": "display_data",
          "data": {
            "text/html": [
              "<pre>recommendations finished on 4000/4340 queries. users per second: 35770.2</pre>"
            ],
            "text/plain": [
              "recommendations finished on 4000/4340 queries. users per second: 35770.2"
            ]
          },
          "metadata": {
            "tags": []
          }
        },
        {
          "output_type": "stream",
          "text": [
            "+------------+-----------+-------+------+\n",
            "| CustomerID | StockCode | score | rank |\n",
            "+------------+-----------+-------+------+\n",
            "|  16040.0   |   21816   |  1.0  |  1   |\n",
            "|  16040.0   |   90199B  |  1.0  |  2   |\n",
            "|  16040.0   |   90214W  |  1.0  |  3   |\n",
            "|  16040.0   |   90179C  |  1.0  |  4   |\n",
            "|  16040.0   |   35645   |  1.0  |  5   |\n",
            "|  16040.0   |   90038A  |  1.0  |  6   |\n",
            "|  16040.0   |   90214T  |  1.0  |  7   |\n",
            "|  16040.0   |   90037B  |  1.0  |  8   |\n",
            "|  16040.0   |   90033   |  1.0  |  9   |\n",
            "|  16040.0   |   84743C  |  1.0  |  10  |\n",
            "|  13102.0   |   21816   |  1.0  |  1   |\n",
            "|  13102.0   |   90199B  |  1.0  |  2   |\n",
            "|  13102.0   |   90214W  |  1.0  |  3   |\n",
            "|  13102.0   |   90179C  |  1.0  |  4   |\n",
            "|  13102.0   |   35645   |  1.0  |  5   |\n",
            "|  13102.0   |   90038A  |  1.0  |  6   |\n",
            "|  13102.0   |   90214T  |  1.0  |  7   |\n",
            "|  13102.0   |   90037B  |  1.0  |  8   |\n",
            "|  13102.0   |   90033   |  1.0  |  9   |\n",
            "|  13102.0   |   84743C  |  1.0  |  10  |\n",
            "|  12353.0   |   21816   |  1.0  |  1   |\n",
            "|  12353.0   |   90199B  |  1.0  |  2   |\n",
            "|  12353.0   |   90214W  |  1.0  |  3   |\n",
            "|  12353.0   |   90179C  |  1.0  |  4   |\n",
            "|  12353.0   |   35645   |  1.0  |  5   |\n",
            "|  12353.0   |   90038A  |  1.0  |  6   |\n",
            "|  12353.0   |   90214T  |  1.0  |  7   |\n",
            "|  12353.0   |   90037B  |  1.0  |  8   |\n",
            "|  12353.0   |   90033   |  1.0  |  9   |\n",
            "|  12353.0   |   84743C  |  1.0  |  10  |\n",
            "+------------+-----------+-------+------+\n",
            "[43400 rows x 4 columns]\n",
            "\n"
          ],
          "name": "stdout"
        }
      ]
    },
    {
      "cell_type": "code",
      "metadata": {
        "id": "EQAiEO_Op5m-",
        "colab": {
          "base_uri": "https://localhost:8080/",
          "height": 1000
        },
        "outputId": "16a65db7-61e7-4013-8746-debc4d4bb232"
      },
      "source": [
        "name = 'cosine'\n",
        "target = 'purchase_count'\n",
        "cos = model(train_data, name, user_id, item_id, target, users_to_recommend, n_rec, n_display)"
      ],
      "execution_count": null,
      "outputs": [
        {
          "output_type": "display_data",
          "data": {
            "text/html": [
              "<pre>Preparing data set.</pre>"
            ],
            "text/plain": [
              "Preparing data set."
            ]
          },
          "metadata": {
            "tags": []
          }
        },
        {
          "output_type": "display_data",
          "data": {
            "text/html": [
              "<pre>    Data has 216488 observations with 4316 users and 3967 items.</pre>"
            ],
            "text/plain": [
              "    Data has 216488 observations with 4316 users and 3967 items."
            ]
          },
          "metadata": {
            "tags": []
          }
        },
        {
          "output_type": "display_data",
          "data": {
            "text/html": [
              "<pre>    Data prepared in: 0.345211s</pre>"
            ],
            "text/plain": [
              "    Data prepared in: 0.345211s"
            ]
          },
          "metadata": {
            "tags": []
          }
        },
        {
          "output_type": "display_data",
          "data": {
            "text/html": [
              "<pre>Training model from provided data.</pre>"
            ],
            "text/plain": [
              "Training model from provided data."
            ]
          },
          "metadata": {
            "tags": []
          }
        },
        {
          "output_type": "display_data",
          "data": {
            "text/html": [
              "<pre>Gathering per-item and per-user statistics.</pre>"
            ],
            "text/plain": [
              "Gathering per-item and per-user statistics."
            ]
          },
          "metadata": {
            "tags": []
          }
        },
        {
          "output_type": "display_data",
          "data": {
            "text/html": [
              "<pre>+--------------------------------+------------+</pre>"
            ],
            "text/plain": [
              "+--------------------------------+------------+"
            ]
          },
          "metadata": {
            "tags": []
          }
        },
        {
          "output_type": "display_data",
          "data": {
            "text/html": [
              "<pre>| Elapsed Time (Item Statistics) | % Complete |</pre>"
            ],
            "text/plain": [
              "| Elapsed Time (Item Statistics) | % Complete |"
            ]
          },
          "metadata": {
            "tags": []
          }
        },
        {
          "output_type": "display_data",
          "data": {
            "text/html": [
              "<pre>+--------------------------------+------------+</pre>"
            ],
            "text/plain": [
              "+--------------------------------+------------+"
            ]
          },
          "metadata": {
            "tags": []
          }
        },
        {
          "output_type": "display_data",
          "data": {
            "text/html": [
              "<pre>| 6.794ms                        | 23         |</pre>"
            ],
            "text/plain": [
              "| 6.794ms                        | 23         |"
            ]
          },
          "metadata": {
            "tags": []
          }
        },
        {
          "output_type": "display_data",
          "data": {
            "text/html": [
              "<pre>| 14.152ms                       | 100        |</pre>"
            ],
            "text/plain": [
              "| 14.152ms                       | 100        |"
            ]
          },
          "metadata": {
            "tags": []
          }
        },
        {
          "output_type": "display_data",
          "data": {
            "text/html": [
              "<pre>+--------------------------------+------------+</pre>"
            ],
            "text/plain": [
              "+--------------------------------+------------+"
            ]
          },
          "metadata": {
            "tags": []
          }
        },
        {
          "output_type": "display_data",
          "data": {
            "text/html": [
              "<pre>Setting up lookup tables.</pre>"
            ],
            "text/plain": [
              "Setting up lookup tables."
            ]
          },
          "metadata": {
            "tags": []
          }
        },
        {
          "output_type": "display_data",
          "data": {
            "text/html": [
              "<pre>Processing data in one pass using dense lookup tables.</pre>"
            ],
            "text/plain": [
              "Processing data in one pass using dense lookup tables."
            ]
          },
          "metadata": {
            "tags": []
          }
        },
        {
          "output_type": "display_data",
          "data": {
            "text/html": [
              "<pre>+-------------------------------------+------------------+-----------------+</pre>"
            ],
            "text/plain": [
              "+-------------------------------------+------------------+-----------------+"
            ]
          },
          "metadata": {
            "tags": []
          }
        },
        {
          "output_type": "display_data",
          "data": {
            "text/html": [
              "<pre>| Elapsed Time (Constructing Lookups) | Total % Complete | Items Processed |</pre>"
            ],
            "text/plain": [
              "| Elapsed Time (Constructing Lookups) | Total % Complete | Items Processed |"
            ]
          },
          "metadata": {
            "tags": []
          }
        },
        {
          "output_type": "display_data",
          "data": {
            "text/html": [
              "<pre>+-------------------------------------+------------------+-----------------+</pre>"
            ],
            "text/plain": [
              "+-------------------------------------+------------------+-----------------+"
            ]
          },
          "metadata": {
            "tags": []
          }
        },
        {
          "output_type": "display_data",
          "data": {
            "text/html": [
              "<pre>| 34.507ms                            | 0                | 1               |</pre>"
            ],
            "text/plain": [
              "| 34.507ms                            | 0                | 1               |"
            ]
          },
          "metadata": {
            "tags": []
          }
        },
        {
          "output_type": "display_data",
          "data": {
            "text/html": [
              "<pre>| 907.534ms                           | 100              | 3967            |</pre>"
            ],
            "text/plain": [
              "| 907.534ms                           | 100              | 3967            |"
            ]
          },
          "metadata": {
            "tags": []
          }
        },
        {
          "output_type": "display_data",
          "data": {
            "text/html": [
              "<pre>+-------------------------------------+------------------+-----------------+</pre>"
            ],
            "text/plain": [
              "+-------------------------------------+------------------+-----------------+"
            ]
          },
          "metadata": {
            "tags": []
          }
        },
        {
          "output_type": "display_data",
          "data": {
            "text/html": [
              "<pre>Finalizing lookup tables.</pre>"
            ],
            "text/plain": [
              "Finalizing lookup tables."
            ]
          },
          "metadata": {
            "tags": []
          }
        },
        {
          "output_type": "display_data",
          "data": {
            "text/html": [
              "<pre>Generating candidate set for working with new users.</pre>"
            ],
            "text/plain": [
              "Generating candidate set for working with new users."
            ]
          },
          "metadata": {
            "tags": []
          }
        },
        {
          "output_type": "display_data",
          "data": {
            "text/html": [
              "<pre>Finished training in 0.939814s</pre>"
            ],
            "text/plain": [
              "Finished training in 0.939814s"
            ]
          },
          "metadata": {
            "tags": []
          }
        },
        {
          "output_type": "display_data",
          "data": {
            "text/html": [
              "<pre>recommendations finished on 1000/4340 queries. users per second: 16852</pre>"
            ],
            "text/plain": [
              "recommendations finished on 1000/4340 queries. users per second: 16852"
            ]
          },
          "metadata": {
            "tags": []
          }
        },
        {
          "output_type": "display_data",
          "data": {
            "text/html": [
              "<pre>recommendations finished on 2000/4340 queries. users per second: 16658.6</pre>"
            ],
            "text/plain": [
              "recommendations finished on 2000/4340 queries. users per second: 16658.6"
            ]
          },
          "metadata": {
            "tags": []
          }
        },
        {
          "output_type": "display_data",
          "data": {
            "text/html": [
              "<pre>recommendations finished on 3000/4340 queries. users per second: 16695.9</pre>"
            ],
            "text/plain": [
              "recommendations finished on 3000/4340 queries. users per second: 16695.9"
            ]
          },
          "metadata": {
            "tags": []
          }
        },
        {
          "output_type": "display_data",
          "data": {
            "text/html": [
              "<pre>recommendations finished on 4000/4340 queries. users per second: 16722.2</pre>"
            ],
            "text/plain": [
              "recommendations finished on 4000/4340 queries. users per second: 16722.2"
            ]
          },
          "metadata": {
            "tags": []
          }
        },
        {
          "output_type": "stream",
          "text": [
            "+------------+-----------+--------------------+------+\n",
            "| CustomerID | StockCode |       score        | rank |\n",
            "+------------+-----------+--------------------+------+\n",
            "|  16040.0   |   23617   | 2.480882023656091  |  1   |\n",
            "|  16040.0   |   72781   | 2.480882023656091  |  2   |\n",
            "|  16040.0   |   90000C  | 2.480882023656091  |  3   |\n",
            "|  16040.0   |   84964B  | 2.480882023656091  |  4   |\n",
            "|  16040.0   |   85035c  | 2.480882023656091  |  5   |\n",
            "|  16040.0   |  DCGS0004 | 2.4584846552028212 |  6   |\n",
            "|  16040.0   |   21589   | 2.4584846552028212 |  7   |\n",
            "|  16040.0   |   21765   | 2.4584846552028212 |  8   |\n",
            "|  16040.0   |   85115B  | 2.4584846552028212 |  9   |\n",
            "|  16040.0   |   47593b  | 2.4584846552028212 |  10  |\n",
            "|  13102.0   |   72781   | 2.901506143030913  |  1   |\n",
            "|  13102.0   |   84964B  | 2.901506143030913  |  2   |\n",
            "|  13102.0   |   85035c  | 2.901506143030913  |  3   |\n",
            "|  13102.0   |   84875A  | 2.901506143030913  |  4   |\n",
            "|  13102.0   |   47593b  | 2.901506143030913  |  5   |\n",
            "|  13102.0   |   84509F  | 2.8829650391703066 |  6   |\n",
            "|  13102.0   |   85098B  | 2.877902176587478  |  7   |\n",
            "|  13102.0   |   23617   | 2.877902176587478  |  8   |\n",
            "|  13102.0   |   21765   | 2.877902176587478  |  9   |\n",
            "|  13102.0   |   90000C  | 2.877902176587478  |  10  |\n",
            "|  12353.0   |   79160   | 4.055031180381775  |  1   |\n",
            "|  12353.0   |  15056bl  | 3.2068919936815896 |  2   |\n",
            "|  12353.0   |   22184   | 3.0979584654172263 |  3   |\n",
            "|  12353.0   |   35916B  | 3.0979584654172263 |  4   |\n",
            "|  12353.0   |   90071   | 3.0979584654172263 |  5   |\n",
            "|  12353.0   |   21488   | 2.5015986363093057 |  6   |\n",
            "|  12353.0   |   21439   | 1.8151111404101055 |  7   |\n",
            "|  12353.0   |   90019B  |  1.77345206340154  |  8   |\n",
            "|  12353.0   |   35241   | 1.5786580046017964 |  9   |\n",
            "|  12353.0   |   20664   | 1.4593973557154338 |  10  |\n",
            "+------------+-----------+--------------------+------+\n",
            "[43400 rows x 4 columns]\n",
            "\n"
          ],
          "name": "stdout"
        }
      ]
    },
    {
      "cell_type": "code",
      "metadata": {
        "id": "_zg64jScsjWI",
        "colab": {
          "base_uri": "https://localhost:8080/",
          "height": 1000
        },
        "outputId": "71c7cdda-cac1-4def-fa38-53c6f8bcf9e4"
      },
      "source": [
        "name = 'cosine'\n",
        "target = 'purchase_dummy'\n",
        "cos_dummy = model(train_data_dummy, name, user_id, item_id, target, users_to_recommend, n_rec, n_display)"
      ],
      "execution_count": null,
      "outputs": [
        {
          "output_type": "display_data",
          "data": {
            "text/html": [
              "<pre>Warning: Ignoring columns purchase_count;</pre>"
            ],
            "text/plain": [
              "Warning: Ignoring columns purchase_count;"
            ]
          },
          "metadata": {
            "tags": []
          }
        },
        {
          "output_type": "display_data",
          "data": {
            "text/html": [
              "<pre>    To use these columns in scoring predictions, use a model that allows the use of additional features.</pre>"
            ],
            "text/plain": [
              "    To use these columns in scoring predictions, use a model that allows the use of additional features."
            ]
          },
          "metadata": {
            "tags": []
          }
        },
        {
          "output_type": "display_data",
          "data": {
            "text/html": [
              "<pre>Preparing data set.</pre>"
            ],
            "text/plain": [
              "Preparing data set."
            ]
          },
          "metadata": {
            "tags": []
          }
        },
        {
          "output_type": "display_data",
          "data": {
            "text/html": [
              "<pre>    Data has 216488 observations with 4325 users and 3948 items.</pre>"
            ],
            "text/plain": [
              "    Data has 216488 observations with 4325 users and 3948 items."
            ]
          },
          "metadata": {
            "tags": []
          }
        },
        {
          "output_type": "display_data",
          "data": {
            "text/html": [
              "<pre>    Data prepared in: 0.361577s</pre>"
            ],
            "text/plain": [
              "    Data prepared in: 0.361577s"
            ]
          },
          "metadata": {
            "tags": []
          }
        },
        {
          "output_type": "display_data",
          "data": {
            "text/html": [
              "<pre>Training model from provided data.</pre>"
            ],
            "text/plain": [
              "Training model from provided data."
            ]
          },
          "metadata": {
            "tags": []
          }
        },
        {
          "output_type": "display_data",
          "data": {
            "text/html": [
              "<pre>Gathering per-item and per-user statistics.</pre>"
            ],
            "text/plain": [
              "Gathering per-item and per-user statistics."
            ]
          },
          "metadata": {
            "tags": []
          }
        },
        {
          "output_type": "display_data",
          "data": {
            "text/html": [
              "<pre>+--------------------------------+------------+</pre>"
            ],
            "text/plain": [
              "+--------------------------------+------------+"
            ]
          },
          "metadata": {
            "tags": []
          }
        },
        {
          "output_type": "display_data",
          "data": {
            "text/html": [
              "<pre>| Elapsed Time (Item Statistics) | % Complete |</pre>"
            ],
            "text/plain": [
              "| Elapsed Time (Item Statistics) | % Complete |"
            ]
          },
          "metadata": {
            "tags": []
          }
        },
        {
          "output_type": "display_data",
          "data": {
            "text/html": [
              "<pre>+--------------------------------+------------+</pre>"
            ],
            "text/plain": [
              "+--------------------------------+------------+"
            ]
          },
          "metadata": {
            "tags": []
          }
        },
        {
          "output_type": "display_data",
          "data": {
            "text/html": [
              "<pre>| 17.487ms                       | 23         |</pre>"
            ],
            "text/plain": [
              "| 17.487ms                       | 23         |"
            ]
          },
          "metadata": {
            "tags": []
          }
        },
        {
          "output_type": "display_data",
          "data": {
            "text/html": [
              "<pre>| 24.194ms                       | 100        |</pre>"
            ],
            "text/plain": [
              "| 24.194ms                       | 100        |"
            ]
          },
          "metadata": {
            "tags": []
          }
        },
        {
          "output_type": "display_data",
          "data": {
            "text/html": [
              "<pre>+--------------------------------+------------+</pre>"
            ],
            "text/plain": [
              "+--------------------------------+------------+"
            ]
          },
          "metadata": {
            "tags": []
          }
        },
        {
          "output_type": "display_data",
          "data": {
            "text/html": [
              "<pre>Setting up lookup tables.</pre>"
            ],
            "text/plain": [
              "Setting up lookup tables."
            ]
          },
          "metadata": {
            "tags": []
          }
        },
        {
          "output_type": "display_data",
          "data": {
            "text/html": [
              "<pre>Processing data in one pass using dense lookup tables.</pre>"
            ],
            "text/plain": [
              "Processing data in one pass using dense lookup tables."
            ]
          },
          "metadata": {
            "tags": []
          }
        },
        {
          "output_type": "display_data",
          "data": {
            "text/html": [
              "<pre>+-------------------------------------+------------------+-----------------+</pre>"
            ],
            "text/plain": [
              "+-------------------------------------+------------------+-----------------+"
            ]
          },
          "metadata": {
            "tags": []
          }
        },
        {
          "output_type": "display_data",
          "data": {
            "text/html": [
              "<pre>| Elapsed Time (Constructing Lookups) | Total % Complete | Items Processed |</pre>"
            ],
            "text/plain": [
              "| Elapsed Time (Constructing Lookups) | Total % Complete | Items Processed |"
            ]
          },
          "metadata": {
            "tags": []
          }
        },
        {
          "output_type": "display_data",
          "data": {
            "text/html": [
              "<pre>+-------------------------------------+------------------+-----------------+</pre>"
            ],
            "text/plain": [
              "+-------------------------------------+------------------+-----------------+"
            ]
          },
          "metadata": {
            "tags": []
          }
        },
        {
          "output_type": "display_data",
          "data": {
            "text/html": [
              "<pre>| 56.847ms                            | 0                | 0               |</pre>"
            ],
            "text/plain": [
              "| 56.847ms                            | 0                | 0               |"
            ]
          },
          "metadata": {
            "tags": []
          }
        },
        {
          "output_type": "display_data",
          "data": {
            "text/html": [
              "<pre>| 867.073ms                           | 100              | 3948            |</pre>"
            ],
            "text/plain": [
              "| 867.073ms                           | 100              | 3948            |"
            ]
          },
          "metadata": {
            "tags": []
          }
        },
        {
          "output_type": "display_data",
          "data": {
            "text/html": [
              "<pre>+-------------------------------------+------------------+-----------------+</pre>"
            ],
            "text/plain": [
              "+-------------------------------------+------------------+-----------------+"
            ]
          },
          "metadata": {
            "tags": []
          }
        },
        {
          "output_type": "display_data",
          "data": {
            "text/html": [
              "<pre>Finalizing lookup tables.</pre>"
            ],
            "text/plain": [
              "Finalizing lookup tables."
            ]
          },
          "metadata": {
            "tags": []
          }
        },
        {
          "output_type": "display_data",
          "data": {
            "text/html": [
              "<pre>Generating candidate set for working with new users.</pre>"
            ],
            "text/plain": [
              "Generating candidate set for working with new users."
            ]
          },
          "metadata": {
            "tags": []
          }
        },
        {
          "output_type": "display_data",
          "data": {
            "text/html": [
              "<pre>Finished training in 0.900528s</pre>"
            ],
            "text/plain": [
              "Finished training in 0.900528s"
            ]
          },
          "metadata": {
            "tags": []
          }
        },
        {
          "output_type": "display_data",
          "data": {
            "text/html": [
              "<pre>recommendations finished on 1000/4340 queries. users per second: 17071.3</pre>"
            ],
            "text/plain": [
              "recommendations finished on 1000/4340 queries. users per second: 17071.3"
            ]
          },
          "metadata": {
            "tags": []
          }
        },
        {
          "output_type": "display_data",
          "data": {
            "text/html": [
              "<pre>recommendations finished on 2000/4340 queries. users per second: 16424.4</pre>"
            ],
            "text/plain": [
              "recommendations finished on 2000/4340 queries. users per second: 16424.4"
            ]
          },
          "metadata": {
            "tags": []
          }
        },
        {
          "output_type": "display_data",
          "data": {
            "text/html": [
              "<pre>recommendations finished on 3000/4340 queries. users per second: 15586.8</pre>"
            ],
            "text/plain": [
              "recommendations finished on 3000/4340 queries. users per second: 15586.8"
            ]
          },
          "metadata": {
            "tags": []
          }
        },
        {
          "output_type": "display_data",
          "data": {
            "text/html": [
              "<pre>recommendations finished on 4000/4340 queries. users per second: 15330</pre>"
            ],
            "text/plain": [
              "recommendations finished on 4000/4340 queries. users per second: 15330"
            ]
          },
          "metadata": {
            "tags": []
          }
        },
        {
          "output_type": "stream",
          "text": [
            "+------------+-----------+----------------------+------+\n",
            "| CustomerID | StockCode |        score         | rank |\n",
            "+------------+-----------+----------------------+------+\n",
            "|  16040.0   |   20728   | 0.07805505156517029  |  1   |\n",
            "|  16040.0   |   22086   |  0.068877454996109   |  2   |\n",
            "|  16040.0   |   22382   | 0.06272545576095581  |  3   |\n",
            "|  16040.0   |   22383   |  0.0615358304977417  |  4   |\n",
            "|  16040.0   |   22469   | 0.06021101713180542  |  5   |\n",
            "|  16040.0   |   22470   | 0.059872502088546754 |  6   |\n",
            "|  16040.0   |   21755   | 0.059864180088043215 |  7   |\n",
            "|  16040.0   |   22384   |  0.0592099928855896  |  8   |\n",
            "|  16040.0   |   23209   |  0.0579379403591156  |  9   |\n",
            "|  16040.0   |   23203   | 0.056582560539245604 |  10  |\n",
            "|  13102.0   |   23207   | 0.07108137597385634  |  1   |\n",
            "|  13102.0   |   22382   | 0.05819862826257689  |  2   |\n",
            "|  13102.0   |   20725   | 0.05441700546150534  |  3   |\n",
            "|  13102.0   |   23203   | 0.05125447165252816  |  4   |\n",
            "|  13102.0   |   22551   | 0.04993069426626222  |  5   |\n",
            "|  13102.0   |   22383   | 0.04827863181758131  |  6   |\n",
            "|  13102.0   |   90059F  | 0.04826601550110385  |  7   |\n",
            "|  13102.0   |   21653   | 0.04747029094614534  |  8   |\n",
            "|  13102.0   |   84509a  | 0.04747029094614534  |  9   |\n",
            "|  13102.0   |   84614A  | 0.04747029094614534  |  10  |\n",
            "|  12353.0   |   37446   |  0.3171933094660441  |  1   |\n",
            "|  12353.0   |   22649   | 0.23205459117889404  |  2   |\n",
            "|  12353.0   |   22063   | 0.20911568403244019  |  3   |\n",
            "|  12353.0   |   37447   | 0.20867502689361572  |  4   |\n",
            "|  12353.0   |   22059   | 0.20409252246220908  |  5   |\n",
            "|  12353.0   |   22064   |  0.1897935469945272  |  6   |\n",
            "|  12353.0   |   22055   | 0.18288278579711914  |  7   |\n",
            "|  12353.0   |   35966   | 0.17651178439458212  |  8   |\n",
            "|  12353.0   |   84743C  | 0.17651178439458212  |  9   |\n",
            "|  12353.0   |   21667   | 0.17651178439458212  |  10  |\n",
            "+------------+-----------+----------------------+------+\n",
            "[43400 rows x 4 columns]\n",
            "\n"
          ],
          "name": "stdout"
        }
      ]
    },
    {
      "cell_type": "code",
      "metadata": {
        "id": "R_gFUPRyssV2",
        "colab": {
          "base_uri": "https://localhost:8080/",
          "height": 1000
        },
        "outputId": "02408a57-1839-4ca5-c322-dd6901ff5499"
      },
      "source": [
        "name = 'cosine'\n",
        "target = 'scaled_purchase_freq'\n",
        "cos_norm = model(train_data_norm, name, user_id, item_id, target, users_to_recommend, n_rec, n_display)"
      ],
      "execution_count": null,
      "outputs": [
        {
          "output_type": "display_data",
          "data": {
            "text/html": [
              "<pre>Preparing data set.</pre>"
            ],
            "text/plain": [
              "Preparing data set."
            ]
          },
          "metadata": {
            "tags": []
          }
        },
        {
          "output_type": "display_data",
          "data": {
            "text/html": [
              "<pre>    Data has 215056 observations with 4316 users and 3358 items.</pre>"
            ],
            "text/plain": [
              "    Data has 215056 observations with 4316 users and 3358 items."
            ]
          },
          "metadata": {
            "tags": []
          }
        },
        {
          "output_type": "display_data",
          "data": {
            "text/html": [
              "<pre>    Data prepared in: 0.383794s</pre>"
            ],
            "text/plain": [
              "    Data prepared in: 0.383794s"
            ]
          },
          "metadata": {
            "tags": []
          }
        },
        {
          "output_type": "display_data",
          "data": {
            "text/html": [
              "<pre>Training model from provided data.</pre>"
            ],
            "text/plain": [
              "Training model from provided data."
            ]
          },
          "metadata": {
            "tags": []
          }
        },
        {
          "output_type": "display_data",
          "data": {
            "text/html": [
              "<pre>Gathering per-item and per-user statistics.</pre>"
            ],
            "text/plain": [
              "Gathering per-item and per-user statistics."
            ]
          },
          "metadata": {
            "tags": []
          }
        },
        {
          "output_type": "display_data",
          "data": {
            "text/html": [
              "<pre>+--------------------------------+------------+</pre>"
            ],
            "text/plain": [
              "+--------------------------------+------------+"
            ]
          },
          "metadata": {
            "tags": []
          }
        },
        {
          "output_type": "display_data",
          "data": {
            "text/html": [
              "<pre>| Elapsed Time (Item Statistics) | % Complete |</pre>"
            ],
            "text/plain": [
              "| Elapsed Time (Item Statistics) | % Complete |"
            ]
          },
          "metadata": {
            "tags": []
          }
        },
        {
          "output_type": "display_data",
          "data": {
            "text/html": [
              "<pre>+--------------------------------+------------+</pre>"
            ],
            "text/plain": [
              "+--------------------------------+------------+"
            ]
          },
          "metadata": {
            "tags": []
          }
        },
        {
          "output_type": "display_data",
          "data": {
            "text/html": [
              "<pre>| 13.469ms                       | 23         |</pre>"
            ],
            "text/plain": [
              "| 13.469ms                       | 23         |"
            ]
          },
          "metadata": {
            "tags": []
          }
        },
        {
          "output_type": "display_data",
          "data": {
            "text/html": [
              "<pre>| 20.144ms                       | 100        |</pre>"
            ],
            "text/plain": [
              "| 20.144ms                       | 100        |"
            ]
          },
          "metadata": {
            "tags": []
          }
        },
        {
          "output_type": "display_data",
          "data": {
            "text/html": [
              "<pre>+--------------------------------+------------+</pre>"
            ],
            "text/plain": [
              "+--------------------------------+------------+"
            ]
          },
          "metadata": {
            "tags": []
          }
        },
        {
          "output_type": "display_data",
          "data": {
            "text/html": [
              "<pre>Setting up lookup tables.</pre>"
            ],
            "text/plain": [
              "Setting up lookup tables."
            ]
          },
          "metadata": {
            "tags": []
          }
        },
        {
          "output_type": "display_data",
          "data": {
            "text/html": [
              "<pre>Processing data in one pass using dense lookup tables.</pre>"
            ],
            "text/plain": [
              "Processing data in one pass using dense lookup tables."
            ]
          },
          "metadata": {
            "tags": []
          }
        },
        {
          "output_type": "display_data",
          "data": {
            "text/html": [
              "<pre>+-------------------------------------+------------------+-----------------+</pre>"
            ],
            "text/plain": [
              "+-------------------------------------+------------------+-----------------+"
            ]
          },
          "metadata": {
            "tags": []
          }
        },
        {
          "output_type": "display_data",
          "data": {
            "text/html": [
              "<pre>| Elapsed Time (Constructing Lookups) | Total % Complete | Items Processed |</pre>"
            ],
            "text/plain": [
              "| Elapsed Time (Constructing Lookups) | Total % Complete | Items Processed |"
            ]
          },
          "metadata": {
            "tags": []
          }
        },
        {
          "output_type": "display_data",
          "data": {
            "text/html": [
              "<pre>+-------------------------------------+------------------+-----------------+</pre>"
            ],
            "text/plain": [
              "+-------------------------------------+------------------+-----------------+"
            ]
          },
          "metadata": {
            "tags": []
          }
        },
        {
          "output_type": "display_data",
          "data": {
            "text/html": [
              "<pre>| 40.008ms                            | 0                | 0               |</pre>"
            ],
            "text/plain": [
              "| 40.008ms                            | 0                | 0               |"
            ]
          },
          "metadata": {
            "tags": []
          }
        },
        {
          "output_type": "display_data",
          "data": {
            "text/html": [
              "<pre>| 759.847ms                           | 100              | 3358            |</pre>"
            ],
            "text/plain": [
              "| 759.847ms                           | 100              | 3358            |"
            ]
          },
          "metadata": {
            "tags": []
          }
        },
        {
          "output_type": "display_data",
          "data": {
            "text/html": [
              "<pre>+-------------------------------------+------------------+-----------------+</pre>"
            ],
            "text/plain": [
              "+-------------------------------------+------------------+-----------------+"
            ]
          },
          "metadata": {
            "tags": []
          }
        },
        {
          "output_type": "display_data",
          "data": {
            "text/html": [
              "<pre>Finalizing lookup tables.</pre>"
            ],
            "text/plain": [
              "Finalizing lookup tables."
            ]
          },
          "metadata": {
            "tags": []
          }
        },
        {
          "output_type": "display_data",
          "data": {
            "text/html": [
              "<pre>Generating candidate set for working with new users.</pre>"
            ],
            "text/plain": [
              "Generating candidate set for working with new users."
            ]
          },
          "metadata": {
            "tags": []
          }
        },
        {
          "output_type": "display_data",
          "data": {
            "text/html": [
              "<pre>Finished training in 0.792073s</pre>"
            ],
            "text/plain": [
              "Finished training in 0.792073s"
            ]
          },
          "metadata": {
            "tags": []
          }
        },
        {
          "output_type": "display_data",
          "data": {
            "text/html": [
              "<pre>recommendations finished on 1000/4340 queries. users per second: 18286.2</pre>"
            ],
            "text/plain": [
              "recommendations finished on 1000/4340 queries. users per second: 18286.2"
            ]
          },
          "metadata": {
            "tags": []
          }
        },
        {
          "output_type": "display_data",
          "data": {
            "text/html": [
              "<pre>recommendations finished on 2000/4340 queries. users per second: 17882</pre>"
            ],
            "text/plain": [
              "recommendations finished on 2000/4340 queries. users per second: 17882"
            ]
          },
          "metadata": {
            "tags": []
          }
        },
        {
          "output_type": "display_data",
          "data": {
            "text/html": [
              "<pre>recommendations finished on 3000/4340 queries. users per second: 17251.8</pre>"
            ],
            "text/plain": [
              "recommendations finished on 3000/4340 queries. users per second: 17251.8"
            ]
          },
          "metadata": {
            "tags": []
          }
        },
        {
          "output_type": "display_data",
          "data": {
            "text/html": [
              "<pre>recommendations finished on 4000/4340 queries. users per second: 16783.9</pre>"
            ],
            "text/plain": [
              "recommendations finished on 4000/4340 queries. users per second: 16783.9"
            ]
          },
          "metadata": {
            "tags": []
          }
        },
        {
          "output_type": "stream",
          "text": [
            "+------------+-----------+------------------------+------+\n",
            "| CustomerID | StockCode |         score          | rank |\n",
            "+------------+-----------+------------------------+------+\n",
            "|  16040.0   |   22666   | 0.0006276117430792915  |  1   |\n",
            "|  16040.0   |   21212   | 0.0006265984641181098  |  2   |\n",
            "|  16040.0   |   22720   | 0.0005556000603569878  |  3   |\n",
            "|  16040.0   |   85053   | 0.0003974040349324544  |  4   |\n",
            "|  16040.0   |   22979   | 0.0003246890174018012  |  5   |\n",
            "|  16040.0   |   22947   |  0.000323743290371365  |  6   |\n",
            "|  16040.0   |   84596B  | 0.0003237366676330566  |  7   |\n",
            "|  16040.0   |   22907   | 0.00032360818650987414 |  8   |\n",
            "|  16040.0   |   15060B  | 0.00032330883873833553 |  9   |\n",
            "|  16040.0   |   82581   | 0.0003231485684712728  |  10  |\n",
            "|  13102.0   |   21912   | 0.0036621099168604072  |  1   |\n",
            "|  13102.0   |   22378   |  0.00357061353596774   |  2   |\n",
            "|  13102.0   |   23245   | 0.0034415017474781384  |  3   |\n",
            "|  13102.0   |   35933   | 0.0034310086206956344  |  4   |\n",
            "|  13102.0   |   85194S  | 0.0034274047071283513  |  5   |\n",
            "|  13102.0   |   23171   | 0.0034075390208851207  |  6   |\n",
            "|  13102.0   |   85048   | 0.0032885318452661686  |  7   |\n",
            "|  13102.0   |   22550   | 0.0032809994437477804  |  8   |\n",
            "|  13102.0   |   22966   |  0.003077497265555642  |  9   |\n",
            "|  13102.0   |   23240   |  0.00306548151102933   |  10  |\n",
            "|  12353.0   |   23285   |          0.0           |  1   |\n",
            "|  12353.0   |   23230   |          0.0           |  2   |\n",
            "|  12353.0   |   22582   |          0.0           |  3   |\n",
            "|  12353.0   |   22961   |          0.0           |  4   |\n",
            "|  12353.0   |   23485   |          0.0           |  5   |\n",
            "|  12353.0   |   84913A  |          0.0           |  6   |\n",
            "|  12353.0   |   22798   |          0.0           |  7   |\n",
            "|  12353.0   |   22411   |          0.0           |  8   |\n",
            "|  12353.0   |   21174   |          0.0           |  9   |\n",
            "|  12353.0   |   22996   |          0.0           |  10  |\n",
            "+------------+-----------+------------------------+------+\n",
            "[43400 rows x 4 columns]\n",
            "\n"
          ],
          "name": "stdout"
        }
      ]
    },
    {
      "cell_type": "code",
      "metadata": {
        "id": "Sb8E3ZUgs40y",
        "colab": {
          "base_uri": "https://localhost:8080/",
          "height": 1000
        },
        "outputId": "cea6cb11-8c79-4e54-be62-ea2b1884ae50"
      },
      "source": [
        "name = 'pearson'\n",
        "target = 'purchase_count'\n",
        "pear = model(train_data, name, user_id, item_id, target, users_to_recommend, n_rec, n_display)"
      ],
      "execution_count": null,
      "outputs": [
        {
          "output_type": "display_data",
          "data": {
            "text/html": [
              "<pre>Preparing data set.</pre>"
            ],
            "text/plain": [
              "Preparing data set."
            ]
          },
          "metadata": {
            "tags": []
          }
        },
        {
          "output_type": "display_data",
          "data": {
            "text/html": [
              "<pre>    Data has 216488 observations with 4316 users and 3967 items.</pre>"
            ],
            "text/plain": [
              "    Data has 216488 observations with 4316 users and 3967 items."
            ]
          },
          "metadata": {
            "tags": []
          }
        },
        {
          "output_type": "display_data",
          "data": {
            "text/html": [
              "<pre>    Data prepared in: 0.378267s</pre>"
            ],
            "text/plain": [
              "    Data prepared in: 0.378267s"
            ]
          },
          "metadata": {
            "tags": []
          }
        },
        {
          "output_type": "display_data",
          "data": {
            "text/html": [
              "<pre>Training model from provided data.</pre>"
            ],
            "text/plain": [
              "Training model from provided data."
            ]
          },
          "metadata": {
            "tags": []
          }
        },
        {
          "output_type": "display_data",
          "data": {
            "text/html": [
              "<pre>Gathering per-item and per-user statistics.</pre>"
            ],
            "text/plain": [
              "Gathering per-item and per-user statistics."
            ]
          },
          "metadata": {
            "tags": []
          }
        },
        {
          "output_type": "display_data",
          "data": {
            "text/html": [
              "<pre>+--------------------------------+------------+</pre>"
            ],
            "text/plain": [
              "+--------------------------------+------------+"
            ]
          },
          "metadata": {
            "tags": []
          }
        },
        {
          "output_type": "display_data",
          "data": {
            "text/html": [
              "<pre>| Elapsed Time (Item Statistics) | % Complete |</pre>"
            ],
            "text/plain": [
              "| Elapsed Time (Item Statistics) | % Complete |"
            ]
          },
          "metadata": {
            "tags": []
          }
        },
        {
          "output_type": "display_data",
          "data": {
            "text/html": [
              "<pre>+--------------------------------+------------+</pre>"
            ],
            "text/plain": [
              "+--------------------------------+------------+"
            ]
          },
          "metadata": {
            "tags": []
          }
        },
        {
          "output_type": "display_data",
          "data": {
            "text/html": [
              "<pre>| 22.671ms                       | 23         |</pre>"
            ],
            "text/plain": [
              "| 22.671ms                       | 23         |"
            ]
          },
          "metadata": {
            "tags": []
          }
        },
        {
          "output_type": "display_data",
          "data": {
            "text/html": [
              "<pre>| 31.306ms                       | 100        |</pre>"
            ],
            "text/plain": [
              "| 31.306ms                       | 100        |"
            ]
          },
          "metadata": {
            "tags": []
          }
        },
        {
          "output_type": "display_data",
          "data": {
            "text/html": [
              "<pre>+--------------------------------+------------+</pre>"
            ],
            "text/plain": [
              "+--------------------------------+------------+"
            ]
          },
          "metadata": {
            "tags": []
          }
        },
        {
          "output_type": "display_data",
          "data": {
            "text/html": [
              "<pre>Setting up lookup tables.</pre>"
            ],
            "text/plain": [
              "Setting up lookup tables."
            ]
          },
          "metadata": {
            "tags": []
          }
        },
        {
          "output_type": "display_data",
          "data": {
            "text/html": [
              "<pre>Processing data in one pass using dense lookup tables.</pre>"
            ],
            "text/plain": [
              "Processing data in one pass using dense lookup tables."
            ]
          },
          "metadata": {
            "tags": []
          }
        },
        {
          "output_type": "display_data",
          "data": {
            "text/html": [
              "<pre>+-------------------------------------+------------------+-----------------+</pre>"
            ],
            "text/plain": [
              "+-------------------------------------+------------------+-----------------+"
            ]
          },
          "metadata": {
            "tags": []
          }
        },
        {
          "output_type": "display_data",
          "data": {
            "text/html": [
              "<pre>| Elapsed Time (Constructing Lookups) | Total % Complete | Items Processed |</pre>"
            ],
            "text/plain": [
              "| Elapsed Time (Constructing Lookups) | Total % Complete | Items Processed |"
            ]
          },
          "metadata": {
            "tags": []
          }
        },
        {
          "output_type": "display_data",
          "data": {
            "text/html": [
              "<pre>+-------------------------------------+------------------+-----------------+</pre>"
            ],
            "text/plain": [
              "+-------------------------------------+------------------+-----------------+"
            ]
          },
          "metadata": {
            "tags": []
          }
        },
        {
          "output_type": "display_data",
          "data": {
            "text/html": [
              "<pre>| 56.323ms                            | 0                | 0               |</pre>"
            ],
            "text/plain": [
              "| 56.323ms                            | 0                | 0               |"
            ]
          },
          "metadata": {
            "tags": []
          }
        },
        {
          "output_type": "display_data",
          "data": {
            "text/html": [
              "<pre>| 1.02s                               | 100              | 3967            |</pre>"
            ],
            "text/plain": [
              "| 1.02s                               | 100              | 3967            |"
            ]
          },
          "metadata": {
            "tags": []
          }
        },
        {
          "output_type": "display_data",
          "data": {
            "text/html": [
              "<pre>+-------------------------------------+------------------+-----------------+</pre>"
            ],
            "text/plain": [
              "+-------------------------------------+------------------+-----------------+"
            ]
          },
          "metadata": {
            "tags": []
          }
        },
        {
          "output_type": "display_data",
          "data": {
            "text/html": [
              "<pre>Finalizing lookup tables.</pre>"
            ],
            "text/plain": [
              "Finalizing lookup tables."
            ]
          },
          "metadata": {
            "tags": []
          }
        },
        {
          "output_type": "display_data",
          "data": {
            "text/html": [
              "<pre>Generating candidate set for working with new users.</pre>"
            ],
            "text/plain": [
              "Generating candidate set for working with new users."
            ]
          },
          "metadata": {
            "tags": []
          }
        },
        {
          "output_type": "display_data",
          "data": {
            "text/html": [
              "<pre>Finished training in 1.06209s</pre>"
            ],
            "text/plain": [
              "Finished training in 1.06209s"
            ]
          },
          "metadata": {
            "tags": []
          }
        },
        {
          "output_type": "display_data",
          "data": {
            "text/html": [
              "<pre>recommendations finished on 1000/4340 queries. users per second: 13960.4</pre>"
            ],
            "text/plain": [
              "recommendations finished on 1000/4340 queries. users per second: 13960.4"
            ]
          },
          "metadata": {
            "tags": []
          }
        },
        {
          "output_type": "display_data",
          "data": {
            "text/html": [
              "<pre>recommendations finished on 2000/4340 queries. users per second: 14309.9</pre>"
            ],
            "text/plain": [
              "recommendations finished on 2000/4340 queries. users per second: 14309.9"
            ]
          },
          "metadata": {
            "tags": []
          }
        },
        {
          "output_type": "display_data",
          "data": {
            "text/html": [
              "<pre>recommendations finished on 3000/4340 queries. users per second: 14633.9</pre>"
            ],
            "text/plain": [
              "recommendations finished on 3000/4340 queries. users per second: 14633.9"
            ]
          },
          "metadata": {
            "tags": []
          }
        },
        {
          "output_type": "display_data",
          "data": {
            "text/html": [
              "<pre>recommendations finished on 4000/4340 queries. users per second: 14757.3</pre>"
            ],
            "text/plain": [
              "recommendations finished on 4000/4340 queries. users per second: 14757.3"
            ]
          },
          "metadata": {
            "tags": []
          }
        },
        {
          "output_type": "stream",
          "text": [
            "+------------+-----------+-------+------+\n",
            "| CustomerID | StockCode | score | rank |\n",
            "+------------+-----------+-------+------+\n",
            "|  16040.0   |    DOT    | 693.0 |  1   |\n",
            "|  16040.0   |   47566b  | 102.0 |  2   |\n",
            "|  16040.0   |   84923   |  98.0 |  3   |\n",
            "|  16040.0   |   72349b  |  82.0 |  4   |\n",
            "|  16040.0   |   84997b  |  70.0 |  5   |\n",
            "|  16040.0   |   84509a  |  68.0 |  6   |\n",
            "|  16040.0   |   84970s  |  66.0 |  7   |\n",
            "|  16040.0   |   84997c  |  66.0 |  8   |\n",
            "|  16040.0   |   84997a  |  65.0 |  9   |\n",
            "|  16040.0   |  15056bl  |  62.0 |  10  |\n",
            "|  13102.0   |    DOT    | 693.0 |  1   |\n",
            "|  13102.0   |   47566b  | 102.0 |  2   |\n",
            "|  13102.0   |   84923   |  98.0 |  3   |\n",
            "|  13102.0   |   72349b  |  82.0 |  4   |\n",
            "|  13102.0   |   84997b  |  70.0 |  5   |\n",
            "|  13102.0   |   84509a  |  68.0 |  6   |\n",
            "|  13102.0   |   84970s  |  66.0 |  7   |\n",
            "|  13102.0   |   84997c  |  66.0 |  8   |\n",
            "|  13102.0   |   84997a  |  65.0 |  9   |\n",
            "|  13102.0   |  15056bl  |  62.0 |  10  |\n",
            "|  12353.0   |    DOT    | 693.0 |  1   |\n",
            "|  12353.0   |   47566b  | 102.0 |  2   |\n",
            "|  12353.0   |   84923   |  98.0 |  3   |\n",
            "|  12353.0   |   72349b  |  82.0 |  4   |\n",
            "|  12353.0   |   84997b  |  70.0 |  5   |\n",
            "|  12353.0   |   84509a  |  68.0 |  6   |\n",
            "|  12353.0   |   84970s  |  66.0 |  7   |\n",
            "|  12353.0   |   84997c  |  66.0 |  8   |\n",
            "|  12353.0   |   84997a  |  65.0 |  9   |\n",
            "|  12353.0   |  15056bl  |  62.0 |  10  |\n",
            "+------------+-----------+-------+------+\n",
            "[43400 rows x 4 columns]\n",
            "\n"
          ],
          "name": "stdout"
        }
      ]
    },
    {
      "cell_type": "code",
      "metadata": {
        "id": "0aBVjy-Os7kW",
        "colab": {
          "base_uri": "https://localhost:8080/",
          "height": 1000
        },
        "outputId": "90718c27-3868-453f-b046-df140b9efbf2"
      },
      "source": [
        "name = 'pearson'\n",
        "target = 'purchase_dummy'\n",
        "pear_dummy = model(train_data_dummy, name, user_id, item_id, target, users_to_recommend, n_rec, n_display)"
      ],
      "execution_count": null,
      "outputs": [
        {
          "output_type": "display_data",
          "data": {
            "text/html": [
              "<pre>Warning: Ignoring columns purchase_count;</pre>"
            ],
            "text/plain": [
              "Warning: Ignoring columns purchase_count;"
            ]
          },
          "metadata": {
            "tags": []
          }
        },
        {
          "output_type": "display_data",
          "data": {
            "text/html": [
              "<pre>    To use these columns in scoring predictions, use a model that allows the use of additional features.</pre>"
            ],
            "text/plain": [
              "    To use these columns in scoring predictions, use a model that allows the use of additional features."
            ]
          },
          "metadata": {
            "tags": []
          }
        },
        {
          "output_type": "display_data",
          "data": {
            "text/html": [
              "<pre>Preparing data set.</pre>"
            ],
            "text/plain": [
              "Preparing data set."
            ]
          },
          "metadata": {
            "tags": []
          }
        },
        {
          "output_type": "display_data",
          "data": {
            "text/html": [
              "<pre>    Data has 216488 observations with 4325 users and 3948 items.</pre>"
            ],
            "text/plain": [
              "    Data has 216488 observations with 4325 users and 3948 items."
            ]
          },
          "metadata": {
            "tags": []
          }
        },
        {
          "output_type": "display_data",
          "data": {
            "text/html": [
              "<pre>    Data prepared in: 0.349244s</pre>"
            ],
            "text/plain": [
              "    Data prepared in: 0.349244s"
            ]
          },
          "metadata": {
            "tags": []
          }
        },
        {
          "output_type": "display_data",
          "data": {
            "text/html": [
              "<pre>Training model from provided data.</pre>"
            ],
            "text/plain": [
              "Training model from provided data."
            ]
          },
          "metadata": {
            "tags": []
          }
        },
        {
          "output_type": "display_data",
          "data": {
            "text/html": [
              "<pre>Gathering per-item and per-user statistics.</pre>"
            ],
            "text/plain": [
              "Gathering per-item and per-user statistics."
            ]
          },
          "metadata": {
            "tags": []
          }
        },
        {
          "output_type": "display_data",
          "data": {
            "text/html": [
              "<pre>+--------------------------------+------------+</pre>"
            ],
            "text/plain": [
              "+--------------------------------+------------+"
            ]
          },
          "metadata": {
            "tags": []
          }
        },
        {
          "output_type": "display_data",
          "data": {
            "text/html": [
              "<pre>| Elapsed Time (Item Statistics) | % Complete |</pre>"
            ],
            "text/plain": [
              "| Elapsed Time (Item Statistics) | % Complete |"
            ]
          },
          "metadata": {
            "tags": []
          }
        },
        {
          "output_type": "display_data",
          "data": {
            "text/html": [
              "<pre>+--------------------------------+------------+</pre>"
            ],
            "text/plain": [
              "+--------------------------------+------------+"
            ]
          },
          "metadata": {
            "tags": []
          }
        },
        {
          "output_type": "display_data",
          "data": {
            "text/html": [
              "<pre>| 16.431ms                       | 23         |</pre>"
            ],
            "text/plain": [
              "| 16.431ms                       | 23         |"
            ]
          },
          "metadata": {
            "tags": []
          }
        },
        {
          "output_type": "display_data",
          "data": {
            "text/html": [
              "<pre>| 26.994ms                       | 100        |</pre>"
            ],
            "text/plain": [
              "| 26.994ms                       | 100        |"
            ]
          },
          "metadata": {
            "tags": []
          }
        },
        {
          "output_type": "display_data",
          "data": {
            "text/html": [
              "<pre>+--------------------------------+------------+</pre>"
            ],
            "text/plain": [
              "+--------------------------------+------------+"
            ]
          },
          "metadata": {
            "tags": []
          }
        },
        {
          "output_type": "display_data",
          "data": {
            "text/html": [
              "<pre>Setting up lookup tables.</pre>"
            ],
            "text/plain": [
              "Setting up lookup tables."
            ]
          },
          "metadata": {
            "tags": []
          }
        },
        {
          "output_type": "display_data",
          "data": {
            "text/html": [
              "<pre>Processing data in one pass using dense lookup tables.</pre>"
            ],
            "text/plain": [
              "Processing data in one pass using dense lookup tables."
            ]
          },
          "metadata": {
            "tags": []
          }
        },
        {
          "output_type": "display_data",
          "data": {
            "text/html": [
              "<pre>+-------------------------------------+------------------+-----------------+</pre>"
            ],
            "text/plain": [
              "+-------------------------------------+------------------+-----------------+"
            ]
          },
          "metadata": {
            "tags": []
          }
        },
        {
          "output_type": "display_data",
          "data": {
            "text/html": [
              "<pre>| Elapsed Time (Constructing Lookups) | Total % Complete | Items Processed |</pre>"
            ],
            "text/plain": [
              "| Elapsed Time (Constructing Lookups) | Total % Complete | Items Processed |"
            ]
          },
          "metadata": {
            "tags": []
          }
        },
        {
          "output_type": "display_data",
          "data": {
            "text/html": [
              "<pre>+-------------------------------------+------------------+-----------------+</pre>"
            ],
            "text/plain": [
              "+-------------------------------------+------------------+-----------------+"
            ]
          },
          "metadata": {
            "tags": []
          }
        },
        {
          "output_type": "display_data",
          "data": {
            "text/html": [
              "<pre>| 48.567ms                            | 0                | 1               |</pre>"
            ],
            "text/plain": [
              "| 48.567ms                            | 0                | 1               |"
            ]
          },
          "metadata": {
            "tags": []
          }
        },
        {
          "output_type": "display_data",
          "data": {
            "text/html": [
              "<pre>| 971.567ms                           | 100              | 3948            |</pre>"
            ],
            "text/plain": [
              "| 971.567ms                           | 100              | 3948            |"
            ]
          },
          "metadata": {
            "tags": []
          }
        },
        {
          "output_type": "display_data",
          "data": {
            "text/html": [
              "<pre>+-------------------------------------+------------------+-----------------+</pre>"
            ],
            "text/plain": [
              "+-------------------------------------+------------------+-----------------+"
            ]
          },
          "metadata": {
            "tags": []
          }
        },
        {
          "output_type": "display_data",
          "data": {
            "text/html": [
              "<pre>Finalizing lookup tables.</pre>"
            ],
            "text/plain": [
              "Finalizing lookup tables."
            ]
          },
          "metadata": {
            "tags": []
          }
        },
        {
          "output_type": "display_data",
          "data": {
            "text/html": [
              "<pre>Generating candidate set for working with new users.</pre>"
            ],
            "text/plain": [
              "Generating candidate set for working with new users."
            ]
          },
          "metadata": {
            "tags": []
          }
        },
        {
          "output_type": "display_data",
          "data": {
            "text/html": [
              "<pre>Finished training in 1.00162s</pre>"
            ],
            "text/plain": [
              "Finished training in 1.00162s"
            ]
          },
          "metadata": {
            "tags": []
          }
        },
        {
          "output_type": "display_data",
          "data": {
            "text/html": [
              "<pre>recommendations finished on 1000/4340 queries. users per second: 17382.5</pre>"
            ],
            "text/plain": [
              "recommendations finished on 1000/4340 queries. users per second: 17382.5"
            ]
          },
          "metadata": {
            "tags": []
          }
        },
        {
          "output_type": "display_data",
          "data": {
            "text/html": [
              "<pre>recommendations finished on 2000/4340 queries. users per second: 17765</pre>"
            ],
            "text/plain": [
              "recommendations finished on 2000/4340 queries. users per second: 17765"
            ]
          },
          "metadata": {
            "tags": []
          }
        },
        {
          "output_type": "display_data",
          "data": {
            "text/html": [
              "<pre>recommendations finished on 3000/4340 queries. users per second: 17846.1</pre>"
            ],
            "text/plain": [
              "recommendations finished on 3000/4340 queries. users per second: 17846.1"
            ]
          },
          "metadata": {
            "tags": []
          }
        },
        {
          "output_type": "display_data",
          "data": {
            "text/html": [
              "<pre>recommendations finished on 4000/4340 queries. users per second: 17888</pre>"
            ],
            "text/plain": [
              "recommendations finished on 4000/4340 queries. users per second: 17888"
            ]
          },
          "metadata": {
            "tags": []
          }
        },
        {
          "output_type": "stream",
          "text": [
            "+------------+-----------+-------+------+\n",
            "| CustomerID | StockCode | score | rank |\n",
            "+------------+-----------+-------+------+\n",
            "|  16040.0   |   21109   |  0.0  |  1   |\n",
            "|  16040.0   |   21504   |  0.0  |  2   |\n",
            "|  16040.0   |   22111   |  0.0  |  3   |\n",
            "|  16040.0   |   23349   |  0.0  |  4   |\n",
            "|  16040.0   |   21609   |  0.0  |  5   |\n",
            "|  16040.0   |   22699   |  0.0  |  6   |\n",
            "|  16040.0   |   21484   |  0.0  |  7   |\n",
            "|  16040.0   |   84380   |  0.0  |  8   |\n",
            "|  16040.0   |   23636   |  0.0  |  9   |\n",
            "|  16040.0   |   22992   |  0.0  |  10  |\n",
            "|  13102.0   |   21109   |  0.0  |  1   |\n",
            "|  13102.0   |   21504   |  0.0  |  2   |\n",
            "|  13102.0   |   22111   |  0.0  |  3   |\n",
            "|  13102.0   |   23349   |  0.0  |  4   |\n",
            "|  13102.0   |   21609   |  0.0  |  5   |\n",
            "|  13102.0   |   22699   |  0.0  |  6   |\n",
            "|  13102.0   |   21484   |  0.0  |  7   |\n",
            "|  13102.0   |   84380   |  0.0  |  8   |\n",
            "|  13102.0   |   23636   |  0.0  |  9   |\n",
            "|  13102.0   |   22992   |  0.0  |  10  |\n",
            "|  12353.0   |   21109   |  0.0  |  1   |\n",
            "|  12353.0   |   21504   |  0.0  |  2   |\n",
            "|  12353.0   |   22111   |  0.0  |  3   |\n",
            "|  12353.0   |   23349   |  0.0  |  4   |\n",
            "|  12353.0   |   21609   |  0.0  |  5   |\n",
            "|  12353.0   |   22699   |  0.0  |  6   |\n",
            "|  12353.0   |   21484   |  0.0  |  7   |\n",
            "|  12353.0   |   84380   |  0.0  |  8   |\n",
            "|  12353.0   |   23636   |  0.0  |  9   |\n",
            "|  12353.0   |   22992   |  0.0  |  10  |\n",
            "+------------+-----------+-------+------+\n",
            "[43400 rows x 4 columns]\n",
            "\n"
          ],
          "name": "stdout"
        }
      ]
    },
    {
      "cell_type": "code",
      "metadata": {
        "id": "6KGQAmvutF0u",
        "colab": {
          "base_uri": "https://localhost:8080/",
          "height": 1000
        },
        "outputId": "e456acce-9dd9-42d6-e2aa-17503b6fc71e"
      },
      "source": [
        "name = 'pearson'\n",
        "target = 'scaled_purchase_freq'\n",
        "pear_norm = model(train_data_norm, name, user_id, item_id, target, users_to_recommend, n_rec, n_display)"
      ],
      "execution_count": null,
      "outputs": [
        {
          "output_type": "display_data",
          "data": {
            "text/html": [
              "<pre>Preparing data set.</pre>"
            ],
            "text/plain": [
              "Preparing data set."
            ]
          },
          "metadata": {
            "tags": []
          }
        },
        {
          "output_type": "display_data",
          "data": {
            "text/html": [
              "<pre>    Data has 215056 observations with 4316 users and 3358 items.</pre>"
            ],
            "text/plain": [
              "    Data has 215056 observations with 4316 users and 3358 items."
            ]
          },
          "metadata": {
            "tags": []
          }
        },
        {
          "output_type": "display_data",
          "data": {
            "text/html": [
              "<pre>    Data prepared in: 0.357674s</pre>"
            ],
            "text/plain": [
              "    Data prepared in: 0.357674s"
            ]
          },
          "metadata": {
            "tags": []
          }
        },
        {
          "output_type": "display_data",
          "data": {
            "text/html": [
              "<pre>Training model from provided data.</pre>"
            ],
            "text/plain": [
              "Training model from provided data."
            ]
          },
          "metadata": {
            "tags": []
          }
        },
        {
          "output_type": "display_data",
          "data": {
            "text/html": [
              "<pre>Gathering per-item and per-user statistics.</pre>"
            ],
            "text/plain": [
              "Gathering per-item and per-user statistics."
            ]
          },
          "metadata": {
            "tags": []
          }
        },
        {
          "output_type": "display_data",
          "data": {
            "text/html": [
              "<pre>+--------------------------------+------------+</pre>"
            ],
            "text/plain": [
              "+--------------------------------+------------+"
            ]
          },
          "metadata": {
            "tags": []
          }
        },
        {
          "output_type": "display_data",
          "data": {
            "text/html": [
              "<pre>| Elapsed Time (Item Statistics) | % Complete |</pre>"
            ],
            "text/plain": [
              "| Elapsed Time (Item Statistics) | % Complete |"
            ]
          },
          "metadata": {
            "tags": []
          }
        },
        {
          "output_type": "display_data",
          "data": {
            "text/html": [
              "<pre>+--------------------------------+------------+</pre>"
            ],
            "text/plain": [
              "+--------------------------------+------------+"
            ]
          },
          "metadata": {
            "tags": []
          }
        },
        {
          "output_type": "display_data",
          "data": {
            "text/html": [
              "<pre>| 22.408ms                       | 23         |</pre>"
            ],
            "text/plain": [
              "| 22.408ms                       | 23         |"
            ]
          },
          "metadata": {
            "tags": []
          }
        },
        {
          "output_type": "display_data",
          "data": {
            "text/html": [
              "<pre>| 31.383ms                       | 100        |</pre>"
            ],
            "text/plain": [
              "| 31.383ms                       | 100        |"
            ]
          },
          "metadata": {
            "tags": []
          }
        },
        {
          "output_type": "display_data",
          "data": {
            "text/html": [
              "<pre>+--------------------------------+------------+</pre>"
            ],
            "text/plain": [
              "+--------------------------------+------------+"
            ]
          },
          "metadata": {
            "tags": []
          }
        },
        {
          "output_type": "display_data",
          "data": {
            "text/html": [
              "<pre>Setting up lookup tables.</pre>"
            ],
            "text/plain": [
              "Setting up lookup tables."
            ]
          },
          "metadata": {
            "tags": []
          }
        },
        {
          "output_type": "display_data",
          "data": {
            "text/html": [
              "<pre>Processing data in one pass using dense lookup tables.</pre>"
            ],
            "text/plain": [
              "Processing data in one pass using dense lookup tables."
            ]
          },
          "metadata": {
            "tags": []
          }
        },
        {
          "output_type": "display_data",
          "data": {
            "text/html": [
              "<pre>+-------------------------------------+------------------+-----------------+</pre>"
            ],
            "text/plain": [
              "+-------------------------------------+------------------+-----------------+"
            ]
          },
          "metadata": {
            "tags": []
          }
        },
        {
          "output_type": "display_data",
          "data": {
            "text/html": [
              "<pre>| Elapsed Time (Constructing Lookups) | Total % Complete | Items Processed |</pre>"
            ],
            "text/plain": [
              "| Elapsed Time (Constructing Lookups) | Total % Complete | Items Processed |"
            ]
          },
          "metadata": {
            "tags": []
          }
        },
        {
          "output_type": "display_data",
          "data": {
            "text/html": [
              "<pre>+-------------------------------------+------------------+-----------------+</pre>"
            ],
            "text/plain": [
              "+-------------------------------------+------------------+-----------------+"
            ]
          },
          "metadata": {
            "tags": []
          }
        },
        {
          "output_type": "display_data",
          "data": {
            "text/html": [
              "<pre>| 63.204ms                            | 1.25             | 43              |</pre>"
            ],
            "text/plain": [
              "| 63.204ms                            | 1.25             | 43              |"
            ]
          },
          "metadata": {
            "tags": []
          }
        },
        {
          "output_type": "display_data",
          "data": {
            "text/html": [
              "<pre>| 918.281ms                           | 100              | 3358            |</pre>"
            ],
            "text/plain": [
              "| 918.281ms                           | 100              | 3358            |"
            ]
          },
          "metadata": {
            "tags": []
          }
        },
        {
          "output_type": "display_data",
          "data": {
            "text/html": [
              "<pre>+-------------------------------------+------------------+-----------------+</pre>"
            ],
            "text/plain": [
              "+-------------------------------------+------------------+-----------------+"
            ]
          },
          "metadata": {
            "tags": []
          }
        },
        {
          "output_type": "display_data",
          "data": {
            "text/html": [
              "<pre>Finalizing lookup tables.</pre>"
            ],
            "text/plain": [
              "Finalizing lookup tables."
            ]
          },
          "metadata": {
            "tags": []
          }
        },
        {
          "output_type": "display_data",
          "data": {
            "text/html": [
              "<pre>Generating candidate set for working with new users.</pre>"
            ],
            "text/plain": [
              "Generating candidate set for working with new users."
            ]
          },
          "metadata": {
            "tags": []
          }
        },
        {
          "output_type": "display_data",
          "data": {
            "text/html": [
              "<pre>Finished training in 0.951289s</pre>"
            ],
            "text/plain": [
              "Finished training in 0.951289s"
            ]
          },
          "metadata": {
            "tags": []
          }
        },
        {
          "output_type": "display_data",
          "data": {
            "text/html": [
              "<pre>recommendations finished on 1000/4340 queries. users per second: 16165</pre>"
            ],
            "text/plain": [
              "recommendations finished on 1000/4340 queries. users per second: 16165"
            ]
          },
          "metadata": {
            "tags": []
          }
        },
        {
          "output_type": "display_data",
          "data": {
            "text/html": [
              "<pre>recommendations finished on 2000/4340 queries. users per second: 15114.6</pre>"
            ],
            "text/plain": [
              "recommendations finished on 2000/4340 queries. users per second: 15114.6"
            ]
          },
          "metadata": {
            "tags": []
          }
        },
        {
          "output_type": "display_data",
          "data": {
            "text/html": [
              "<pre>recommendations finished on 3000/4340 queries. users per second: 15116.9</pre>"
            ],
            "text/plain": [
              "recommendations finished on 3000/4340 queries. users per second: 15116.9"
            ]
          },
          "metadata": {
            "tags": []
          }
        },
        {
          "output_type": "display_data",
          "data": {
            "text/html": [
              "<pre>recommendations finished on 4000/4340 queries. users per second: 15009.4</pre>"
            ],
            "text/plain": [
              "recommendations finished on 4000/4340 queries. users per second: 15009.4"
            ]
          },
          "metadata": {
            "tags": []
          }
        },
        {
          "output_type": "stream",
          "text": [
            "+------------+-----------+-------+------+\n",
            "| CustomerID | StockCode | score | rank |\n",
            "+------------+-----------+-------+------+\n",
            "|  16040.0   |   21816   |  1.0  |  1   |\n",
            "|  16040.0   |   90199B  |  1.0  |  2   |\n",
            "|  16040.0   |   90214W  |  1.0  |  3   |\n",
            "|  16040.0   |   90179C  |  1.0  |  4   |\n",
            "|  16040.0   |   35645   |  1.0  |  5   |\n",
            "|  16040.0   |   90038A  |  1.0  |  6   |\n",
            "|  16040.0   |   90214T  |  1.0  |  7   |\n",
            "|  16040.0   |   90037B  |  1.0  |  8   |\n",
            "|  16040.0   |   90033   |  1.0  |  9   |\n",
            "|  16040.0   |   84743C  |  1.0  |  10  |\n",
            "|  13102.0   |   21816   |  1.0  |  1   |\n",
            "|  13102.0   |   90199B  |  1.0  |  2   |\n",
            "|  13102.0   |   90214W  |  1.0  |  3   |\n",
            "|  13102.0   |   90179C  |  1.0  |  4   |\n",
            "|  13102.0   |   35645   |  1.0  |  5   |\n",
            "|  13102.0   |   90038A  |  1.0  |  6   |\n",
            "|  13102.0   |   90214T  |  1.0  |  7   |\n",
            "|  13102.0   |   90037B  |  1.0  |  8   |\n",
            "|  13102.0   |   90033   |  1.0  |  9   |\n",
            "|  13102.0   |   84743C  |  1.0  |  10  |\n",
            "|  12353.0   |   21816   |  1.0  |  1   |\n",
            "|  12353.0   |   90199B  |  1.0  |  2   |\n",
            "|  12353.0   |   90214W  |  1.0  |  3   |\n",
            "|  12353.0   |   90179C  |  1.0  |  4   |\n",
            "|  12353.0   |   35645   |  1.0  |  5   |\n",
            "|  12353.0   |   90038A  |  1.0  |  6   |\n",
            "|  12353.0   |   90214T  |  1.0  |  7   |\n",
            "|  12353.0   |   90037B  |  1.0  |  8   |\n",
            "|  12353.0   |   90033   |  1.0  |  9   |\n",
            "|  12353.0   |   84743C  |  1.0  |  10  |\n",
            "+------------+-----------+-------+------+\n",
            "[43400 rows x 4 columns]\n",
            "\n"
          ],
          "name": "stdout"
        }
      ]
    },
    {
      "cell_type": "code",
      "metadata": {
        "id": "mpENlOT3tL0T"
      },
      "source": [
        "models_w_counts = [popularity, cos, pear]\n",
        "models_w_dummy = [pop_dummy, cos_dummy, pear_dummy]\n",
        "models_w_norm = [pop_norm, cos_norm, pear_norm]\n",
        "names_w_counts = ['Popularity Model on Purchase Counts', 'Cosine Similarity on Purchase Counts', 'Pearson Similarity on Purchase Counts']\n",
        "names_w_dummy = ['Popularity Model on Purchase Dummy', 'Cosine Similarity on Purchase Dummy', 'Pearson Similarity on Purchase Dummy']\n",
        "names_w_norm = ['Popularity Model on Scaled Purchase Counts', 'Cosine Similarity on Scaled Purchase Counts', 'Pearson Similarity on Scaled Purchase Counts']"
      ],
      "execution_count": null,
      "outputs": []
    },
    {
      "cell_type": "code",
      "metadata": {
        "id": "vrW3eBtittNo",
        "colab": {
          "base_uri": "https://localhost:8080/",
          "height": 1000
        },
        "outputId": "d73df73a-48b5-4dee-b413-a3915e98b154"
      },
      "source": [
        "eval_counts = tc.recommender.util.compare_models(test_data, models_w_counts, model_names=names_w_counts)\n",
        "eval_dummy = tc.recommender.util.compare_models(test_data_dummy, models_w_dummy, model_names=names_w_dummy)\n",
        "eval_norm = tc.recommender.util.compare_models(test_data_norm, models_w_norm, model_names=names_w_norm)"
      ],
      "execution_count": null,
      "outputs": [
        {
          "output_type": "stream",
          "text": [
            "PROGRESS: Evaluate model Popularity Model on Purchase Counts\n"
          ],
          "name": "stdout"
        },
        {
          "output_type": "display_data",
          "data": {
            "text/html": [
              "<pre>recommendations finished on 1000/4040 queries. users per second: 17900.9</pre>"
            ],
            "text/plain": [
              "recommendations finished on 1000/4040 queries. users per second: 17900.9"
            ]
          },
          "metadata": {
            "tags": []
          }
        },
        {
          "output_type": "display_data",
          "data": {
            "text/html": [
              "<pre>recommendations finished on 2000/4040 queries. users per second: 16667.4</pre>"
            ],
            "text/plain": [
              "recommendations finished on 2000/4040 queries. users per second: 16667.4"
            ]
          },
          "metadata": {
            "tags": []
          }
        },
        {
          "output_type": "display_data",
          "data": {
            "text/html": [
              "<pre>recommendations finished on 3000/4040 queries. users per second: 16480.6</pre>"
            ],
            "text/plain": [
              "recommendations finished on 3000/4040 queries. users per second: 16480.6"
            ]
          },
          "metadata": {
            "tags": []
          }
        },
        {
          "output_type": "display_data",
          "data": {
            "text/html": [
              "<pre>recommendations finished on 4000/4040 queries. users per second: 16466.7</pre>"
            ],
            "text/plain": [
              "recommendations finished on 4000/4040 queries. users per second: 16466.7"
            ]
          },
          "metadata": {
            "tags": []
          }
        },
        {
          "output_type": "stream",
          "text": [
            "/usr/local/lib/python3.6/dist-packages/turicreate/aggregate.py:92: UserWarning: Passing parameter(s) to COUNT is deprecated. This functionality will be removed in the next major release. Any passed parameters are ignored.\n",
            "  + 'the next major release. Any passed parameters are ignored.')\n"
          ],
          "name": "stderr"
        },
        {
          "output_type": "stream",
          "text": [
            "\n",
            "Precision and recall summary statistics by cutoff\n",
            "+--------+------------------------+------------------------+\n",
            "| cutoff |     mean_precision     |      mean_recall       |\n",
            "+--------+------------------------+------------------------+\n",
            "|   1    | 0.0004950495049504952  | 1.3994587906127529e-06 |\n",
            "|   2    | 0.00037128712871287113 | 1.7180234656130748e-06 |\n",
            "|   3    | 0.0003300330033003303  | 2.0365881406133906e-06 |\n",
            "|   4    | 0.0003094059405940595  | 2.3551528156137088e-06 |\n",
            "|   5    | 0.0002475247524752474  | 2.3551528156137075e-06 |\n",
            "|   6    | 0.0002475247524752474  | 2.673717490614028e-06  |\n",
            "|   7    | 0.00024752475247524726 | 2.9922821656143455e-06 |\n",
            "|   8    | 0.00024752475247524774 | 3.310846840614664e-06  |\n",
            "|   9    | 0.0002475247524752475  | 3.6294115156149865e-06 |\n",
            "|   10   | 0.0002475247524752475  |  3.9479761906153e-06   |\n",
            "+--------+------------------------+------------------------+\n",
            "[10 rows x 3 columns]\n",
            "\n",
            "\n",
            "Overall RMSE: 7.875712515363546\n",
            "\n",
            "Per User RMSE (best)\n",
            "+------------+------+-------+\n",
            "| CustomerID | rmse | count |\n",
            "+------------+------+-------+\n",
            "|  13182.0   | 0.0  |   1   |\n",
            "+------------+------+-------+\n",
            "[1 rows x 3 columns]\n",
            "\n",
            "\n",
            "Per User RMSE (worst)\n",
            "+------------+-------------------+-------+\n",
            "| CustomerID |        rmse       | count |\n",
            "+------------+-------------------+-------+\n",
            "|    nan     | 59.52217797340778 |  777  |\n",
            "+------------+-------------------+-------+\n",
            "[1 rows x 3 columns]\n",
            "\n",
            "\n",
            "Per Item RMSE (best)\n",
            "+-----------+------+-------+\n",
            "| StockCode | rmse | count |\n",
            "+-----------+------+-------+\n",
            "|   84679   | 0.0  |   1   |\n",
            "+-----------+------+-------+\n",
            "[1 rows x 3 columns]\n",
            "\n",
            "\n",
            "Per Item RMSE (worst)\n",
            "+-----------+-------+-------+\n",
            "| StockCode |  rmse | count |\n",
            "+-----------+-------+-------+\n",
            "|    DOT    | 677.0 |   1   |\n",
            "+-----------+-------+-------+\n",
            "[1 rows x 3 columns]\n",
            "\n",
            "PROGRESS: Evaluate model Cosine Similarity on Purchase Counts\n"
          ],
          "name": "stdout"
        },
        {
          "output_type": "display_data",
          "data": {
            "text/html": [
              "<pre>recommendations finished on 1000/4040 queries. users per second: 9915.22</pre>"
            ],
            "text/plain": [
              "recommendations finished on 1000/4040 queries. users per second: 9915.22"
            ]
          },
          "metadata": {
            "tags": []
          }
        },
        {
          "output_type": "display_data",
          "data": {
            "text/html": [
              "<pre>recommendations finished on 2000/4040 queries. users per second: 10123.4</pre>"
            ],
            "text/plain": [
              "recommendations finished on 2000/4040 queries. users per second: 10123.4"
            ]
          },
          "metadata": {
            "tags": []
          }
        },
        {
          "output_type": "display_data",
          "data": {
            "text/html": [
              "<pre>recommendations finished on 3000/4040 queries. users per second: 10081.8</pre>"
            ],
            "text/plain": [
              "recommendations finished on 3000/4040 queries. users per second: 10081.8"
            ]
          },
          "metadata": {
            "tags": []
          }
        },
        {
          "output_type": "display_data",
          "data": {
            "text/html": [
              "<pre>recommendations finished on 4000/4040 queries. users per second: 10100.2</pre>"
            ],
            "text/plain": [
              "recommendations finished on 4000/4040 queries. users per second: 10100.2"
            ]
          },
          "metadata": {
            "tags": []
          }
        },
        {
          "output_type": "stream",
          "text": [
            "\n",
            "Precision and recall summary statistics by cutoff\n",
            "+--------+-----------------------+------------------------+\n",
            "| cutoff |     mean_precision    |      mean_recall       |\n",
            "+--------+-----------------------+------------------------+\n",
            "|   1    | 0.0017326732673267331 | 0.0002019161053814518  |\n",
            "|   2    | 0.0011138613861386138 | 0.0002134857951689639  |\n",
            "|   3    | 0.0008250825082508259 | 0.00021380435984396382 |\n",
            "|   4    |  0.000742574257425743 | 0.00022590981749397567 |\n",
            "|   5    | 0.0006435643564356437 | 0.00022622838216897637 |\n",
            "|   6    | 0.0005775577557755771 | 0.00022654694684397643 |\n",
            "|   7    | 0.0005304101838755304 | 0.0002268655115189766  |\n",
            "|   8    |  0.000495049504950495 | 0.00022718407619397722 |\n",
            "|   9    | 0.0004675467546754682 | 0.00022750264086897757 |\n",
            "|   10   | 0.0004702970297029701 | 0.0003103294563690603  |\n",
            "+--------+-----------------------+------------------------+\n",
            "[10 rows x 3 columns]\n",
            "\n",
            "\n",
            "Overall RMSE: 7.521270433868749\n",
            "\n",
            "Per User RMSE (best)\n",
            "+------------+----------------------+-------+\n",
            "| CustomerID |         rmse         | count |\n",
            "+------------+----------------------+-------+\n",
            "|  13848.0   | 0.051247864961624146 |   1   |\n",
            "+------------+----------------------+-------+\n",
            "[1 rows x 3 columns]\n",
            "\n",
            "\n",
            "Per User RMSE (worst)\n",
            "+------------+--------------------+-------+\n",
            "| CustomerID |        rmse        | count |\n",
            "+------------+--------------------+-------+\n",
            "|    nan     | 60.465380397409895 |  777  |\n",
            "+------------+--------------------+-------+\n",
            "[1 rows x 3 columns]\n",
            "\n",
            "\n",
            "Per Item RMSE (best)\n",
            "+-----------+---------------------+-------+\n",
            "| StockCode |         rmse        | count |\n",
            "+-----------+---------------------+-------+\n",
            "|   17012A  | 0.24721146271198613 |   1   |\n",
            "+-----------+---------------------+-------+\n",
            "[1 rows x 3 columns]\n",
            "\n",
            "\n",
            "Per Item RMSE (worst)\n",
            "+-----------+--------------------+-------+\n",
            "| StockCode |        rmse        | count |\n",
            "+-----------+--------------------+-------+\n",
            "|   85131D  | 137.17217385702423 |   2   |\n",
            "+-----------+--------------------+-------+\n",
            "[1 rows x 3 columns]\n",
            "\n",
            "PROGRESS: Evaluate model Pearson Similarity on Purchase Counts\n"
          ],
          "name": "stdout"
        },
        {
          "output_type": "display_data",
          "data": {
            "text/html": [
              "<pre>recommendations finished on 1000/4040 queries. users per second: 9484.16</pre>"
            ],
            "text/plain": [
              "recommendations finished on 1000/4040 queries. users per second: 9484.16"
            ]
          },
          "metadata": {
            "tags": []
          }
        },
        {
          "output_type": "display_data",
          "data": {
            "text/html": [
              "<pre>recommendations finished on 2000/4040 queries. users per second: 9952.43</pre>"
            ],
            "text/plain": [
              "recommendations finished on 2000/4040 queries. users per second: 9952.43"
            ]
          },
          "metadata": {
            "tags": []
          }
        },
        {
          "output_type": "display_data",
          "data": {
            "text/html": [
              "<pre>recommendations finished on 3000/4040 queries. users per second: 10260.1</pre>"
            ],
            "text/plain": [
              "recommendations finished on 3000/4040 queries. users per second: 10260.1"
            ]
          },
          "metadata": {
            "tags": []
          }
        },
        {
          "output_type": "display_data",
          "data": {
            "text/html": [
              "<pre>recommendations finished on 4000/4040 queries. users per second: 10072.5</pre>"
            ],
            "text/plain": [
              "recommendations finished on 4000/4040 queries. users per second: 10072.5"
            ]
          },
          "metadata": {
            "tags": []
          }
        },
        {
          "output_type": "stream",
          "text": [
            "\n",
            "Precision and recall summary statistics by cutoff\n",
            "+--------+------------------------+------------------------+\n",
            "| cutoff |     mean_precision     |      mean_recall       |\n",
            "+--------+------------------------+------------------------+\n",
            "|   1    | 0.0004950495049504952  | 1.3994587906127533e-06 |\n",
            "|   2    | 0.0003712871287128724  | 1.7180234656130723e-06 |\n",
            "|   3    |  0.00033003300330033   | 2.0365881406133894e-06 |\n",
            "|   4    | 0.0003094059405940595  | 2.3551528156137075e-06 |\n",
            "|   5    | 0.0002475247524752469  | 2.3551528156137075e-06 |\n",
            "|   6    | 0.0002475247524752476  | 2.673717490614024e-06  |\n",
            "|   7    | 0.00024752475247524726 | 2.9922821656143493e-06 |\n",
            "|   8    | 0.00024752475247524764 | 3.310846840614665e-06  |\n",
            "|   9    | 0.0002475247524752476  | 3.629411515614981e-06  |\n",
            "|   10   | 0.00022277227722772327 | 3.629411515614981e-06  |\n",
            "+--------+------------------------+------------------------+\n",
            "[10 rows x 3 columns]\n",
            "\n",
            "\n",
            "Overall RMSE: 7.871759504783873\n",
            "\n",
            "Per User RMSE (best)\n",
            "+------------+------+-------+\n",
            "| CustomerID | rmse | count |\n",
            "+------------+------+-------+\n",
            "|  13182.0   | 0.0  |   1   |\n",
            "+------------+------+-------+\n",
            "[1 rows x 3 columns]\n",
            "\n",
            "\n",
            "Per User RMSE (worst)\n",
            "+------------+-------------------+-------+\n",
            "| CustomerID |        rmse       | count |\n",
            "+------------+-------------------+-------+\n",
            "|    nan     | 59.54354916587275 |  777  |\n",
            "+------------+-------------------+-------+\n",
            "[1 rows x 3 columns]\n",
            "\n",
            "\n",
            "Per Item RMSE (best)\n",
            "+-----------+------+-------+\n",
            "| StockCode | rmse | count |\n",
            "+-----------+------+-------+\n",
            "|   84679   | 0.0  |   1   |\n",
            "+-----------+------+-------+\n",
            "[1 rows x 3 columns]\n",
            "\n",
            "\n",
            "Per Item RMSE (worst)\n",
            "+-----------+-------+-------+\n",
            "| StockCode |  rmse | count |\n",
            "+-----------+-------+-------+\n",
            "|    DOT    | 677.0 |   1   |\n",
            "+-----------+-------+-------+\n",
            "[1 rows x 3 columns]\n",
            "\n",
            "PROGRESS: Evaluate model Popularity Model on Purchase Dummy\n"
          ],
          "name": "stdout"
        },
        {
          "output_type": "display_data",
          "data": {
            "text/html": [
              "<pre>recommendations finished on 1000/4060 queries. users per second: 21168.9</pre>"
            ],
            "text/plain": [
              "recommendations finished on 1000/4060 queries. users per second: 21168.9"
            ]
          },
          "metadata": {
            "tags": []
          }
        },
        {
          "output_type": "display_data",
          "data": {
            "text/html": [
              "<pre>recommendations finished on 2000/4060 queries. users per second: 20784</pre>"
            ],
            "text/plain": [
              "recommendations finished on 2000/4060 queries. users per second: 20784"
            ]
          },
          "metadata": {
            "tags": []
          }
        },
        {
          "output_type": "display_data",
          "data": {
            "text/html": [
              "<pre>recommendations finished on 3000/4060 queries. users per second: 21243.3</pre>"
            ],
            "text/plain": [
              "recommendations finished on 3000/4060 queries. users per second: 21243.3"
            ]
          },
          "metadata": {
            "tags": []
          }
        },
        {
          "output_type": "display_data",
          "data": {
            "text/html": [
              "<pre>recommendations finished on 4000/4060 queries. users per second: 21543.8</pre>"
            ],
            "text/plain": [
              "recommendations finished on 4000/4060 queries. users per second: 21543.8"
            ]
          },
          "metadata": {
            "tags": []
          }
        },
        {
          "output_type": "stream",
          "text": [
            "\n",
            "Precision and recall summary statistics by cutoff\n",
            "+--------+-----------------------+------------------------+\n",
            "| cutoff |     mean_precision    |      mean_recall       |\n",
            "+--------+-----------------------+------------------------+\n",
            "|   1    | 0.0009852216748768474 | 2.482902975513811e-05  |\n",
            "|   2    | 0.0006157635467980297 | 2.5144805932983244e-05 |\n",
            "|   3    | 0.0007389162561576355 | 0.00022037425887568485 |\n",
            "|   4    | 0.0008620689655172414 | 0.00033978310673280865 |\n",
            "|   5    | 0.0011822660098522184 | 0.0007130076835756401  |\n",
            "|   6    |  0.001108374384236454 | 0.0007596388338177209  |\n",
            "|   7    | 0.0011963406052076006 | 0.0008207783647848372  |\n",
            "|   8    | 0.0011391625615763538 | 0.0008658769443661759  |\n",
            "|   9    | 0.0012041598248494793 | 0.0009497240913240388  |\n",
            "|   10   | 0.0011576354679802955 | 0.0009611849090728899  |\n",
            "+--------+-----------------------+------------------------+\n",
            "[10 rows x 3 columns]\n",
            "\n",
            "\n",
            "Overall RMSE: 0.0\n",
            "\n",
            "Per User RMSE (best)\n",
            "+------------+------+-------+\n",
            "| CustomerID | rmse | count |\n",
            "+------------+------+-------+\n",
            "|  16557.0   | 0.0  |   4   |\n",
            "+------------+------+-------+\n",
            "[1 rows x 3 columns]\n",
            "\n",
            "\n",
            "Per User RMSE (worst)\n",
            "+------------+------+-------+\n",
            "| CustomerID | rmse | count |\n",
            "+------------+------+-------+\n",
            "|  14452.0   | 0.0  |   14  |\n",
            "+------------+------+-------+\n",
            "[1 rows x 3 columns]\n",
            "\n",
            "\n",
            "Per Item RMSE (best)\n",
            "+-----------+------+-------+\n",
            "| StockCode | rmse | count |\n",
            "+-----------+------+-------+\n",
            "|  DCGS0073 | 0.0  |   1   |\n",
            "+-----------+------+-------+\n",
            "[1 rows x 3 columns]\n",
            "\n",
            "\n",
            "Per Item RMSE (worst)\n",
            "+-----------+------+-------+\n",
            "| StockCode | rmse | count |\n",
            "+-----------+------+-------+\n",
            "|   90060D  | 0.0  |   2   |\n",
            "+-----------+------+-------+\n",
            "[1 rows x 3 columns]\n",
            "\n",
            "PROGRESS: Evaluate model Cosine Similarity on Purchase Dummy\n"
          ],
          "name": "stdout"
        },
        {
          "output_type": "display_data",
          "data": {
            "text/html": [
              "<pre>recommendations finished on 1000/4060 queries. users per second: 10289.3</pre>"
            ],
            "text/plain": [
              "recommendations finished on 1000/4060 queries. users per second: 10289.3"
            ]
          },
          "metadata": {
            "tags": []
          }
        },
        {
          "output_type": "display_data",
          "data": {
            "text/html": [
              "<pre>recommendations finished on 2000/4060 queries. users per second: 10754.4</pre>"
            ],
            "text/plain": [
              "recommendations finished on 2000/4060 queries. users per second: 10754.4"
            ]
          },
          "metadata": {
            "tags": []
          }
        },
        {
          "output_type": "display_data",
          "data": {
            "text/html": [
              "<pre>recommendations finished on 3000/4060 queries. users per second: 10409.3</pre>"
            ],
            "text/plain": [
              "recommendations finished on 3000/4060 queries. users per second: 10409.3"
            ]
          },
          "metadata": {
            "tags": []
          }
        },
        {
          "output_type": "display_data",
          "data": {
            "text/html": [
              "<pre>recommendations finished on 4000/4060 queries. users per second: 10211.3</pre>"
            ],
            "text/plain": [
              "recommendations finished on 4000/4060 queries. users per second: 10211.3"
            ]
          },
          "metadata": {
            "tags": []
          }
        },
        {
          "output_type": "stream",
          "text": [
            "\n",
            "Precision and recall summary statistics by cutoff\n",
            "+--------+---------------------+----------------------+\n",
            "| cutoff |    mean_precision   |     mean_recall      |\n",
            "+--------+---------------------+----------------------+\n",
            "|   1    | 0.18990147783251227 | 0.03157132583330292  |\n",
            "|   2    | 0.16182266009852206 | 0.051286887350990545 |\n",
            "|   3    | 0.14490968801313633 | 0.06570378818059125  |\n",
            "|   4    |  0.1366379310344827 | 0.07976237352849422  |\n",
            "|   5    | 0.12906403940886713 |  0.0904989866681568  |\n",
            "|   6    | 0.12196223316912966 | 0.10076787533740686  |\n",
            "|   7    | 0.11593947923997189 | 0.10942623733452503  |\n",
            "|   8    | 0.11062192118226609 | 0.11818338681327938  |\n",
            "|   9    | 0.10648604269293907 | 0.12640172770234048  |\n",
            "|   10   | 0.10288177339901491 | 0.13384017091156672  |\n",
            "+--------+---------------------+----------------------+\n",
            "[10 rows x 3 columns]\n",
            "\n",
            "\n",
            "Overall RMSE: 0.979369838734279\n",
            "\n",
            "Per User RMSE (best)\n",
            "+------------+---------------------+-------+\n",
            "| CustomerID |         rmse        | count |\n",
            "+------------+---------------------+-------+\n",
            "|  13144.0   | 0.48354339599609375 |   1   |\n",
            "+------------+---------------------+-------+\n",
            "[1 rows x 3 columns]\n",
            "\n",
            "\n",
            "Per User RMSE (worst)\n",
            "+------------+------+-------+\n",
            "| CustomerID | rmse | count |\n",
            "+------------+------+-------+\n",
            "|  17849.0   | 1.0  |   1   |\n",
            "+------------+------+-------+\n",
            "[1 rows x 3 columns]\n",
            "\n",
            "\n",
            "Per Item RMSE (best)\n",
            "+-----------+--------------------+-------+\n",
            "| StockCode |        rmse        | count |\n",
            "+-----------+--------------------+-------+\n",
            "|   90214B  | 0.7692058553566804 |   1   |\n",
            "+-----------+--------------------+-------+\n",
            "[1 rows x 3 columns]\n",
            "\n",
            "\n",
            "Per Item RMSE (worst)\n",
            "+-----------+------+-------+\n",
            "| StockCode | rmse | count |\n",
            "+-----------+------+-------+\n",
            "|   90060D  | 1.0  |   2   |\n",
            "+-----------+------+-------+\n",
            "[1 rows x 3 columns]\n",
            "\n",
            "PROGRESS: Evaluate model Pearson Similarity on Purchase Dummy\n"
          ],
          "name": "stdout"
        },
        {
          "output_type": "display_data",
          "data": {
            "text/html": [
              "<pre>recommendations finished on 1000/4060 queries. users per second: 14282.2</pre>"
            ],
            "text/plain": [
              "recommendations finished on 1000/4060 queries. users per second: 14282.2"
            ]
          },
          "metadata": {
            "tags": []
          }
        },
        {
          "output_type": "display_data",
          "data": {
            "text/html": [
              "<pre>recommendations finished on 2000/4060 queries. users per second: 14147.9</pre>"
            ],
            "text/plain": [
              "recommendations finished on 2000/4060 queries. users per second: 14147.9"
            ]
          },
          "metadata": {
            "tags": []
          }
        },
        {
          "output_type": "display_data",
          "data": {
            "text/html": [
              "<pre>recommendations finished on 3000/4060 queries. users per second: 13772</pre>"
            ],
            "text/plain": [
              "recommendations finished on 3000/4060 queries. users per second: 13772"
            ]
          },
          "metadata": {
            "tags": []
          }
        },
        {
          "output_type": "display_data",
          "data": {
            "text/html": [
              "<pre>recommendations finished on 4000/4060 queries. users per second: 13763.8</pre>"
            ],
            "text/plain": [
              "recommendations finished on 4000/4060 queries. users per second: 13763.8"
            ]
          },
          "metadata": {
            "tags": []
          }
        },
        {
          "output_type": "stream",
          "text": [
            "\n",
            "Precision and recall summary statistics by cutoff\n",
            "+--------+-----------------------+------------------------+\n",
            "| cutoff |     mean_precision    |      mean_recall       |\n",
            "+--------+-----------------------+------------------------+\n",
            "|   1    | 0.0009852216748768466 | 2.4829029755138155e-05 |\n",
            "|   2    | 0.0006157635467980295 | 2.5144805932983268e-05 |\n",
            "|   3    | 0.0007389162561576354 | 0.00022037425887568485 |\n",
            "|   4    | 0.0008620689655172414 | 0.0003397831067328087  |\n",
            "|   5    |  0.001182266009852216 | 0.0007130076835756392  |\n",
            "|   6    | 0.0011083743842364524 |  0.00075963883381772   |\n",
            "|   7    |  0.001196340605207601 | 0.0008207783647848376  |\n",
            "|   8    |  0.001139162561576355 | 0.0008658769443661758  |\n",
            "|   9    | 0.0012041598248494793 | 0.0009497240913240383  |\n",
            "|   10   | 0.0011576354679802957 | 0.0009611849090728897  |\n",
            "+--------+-----------------------+------------------------+\n",
            "[10 rows x 3 columns]\n",
            "\n",
            "\n",
            "Overall RMSE: 1.0\n",
            "\n",
            "Per User RMSE (best)\n",
            "+------------+------+-------+\n",
            "| CustomerID | rmse | count |\n",
            "+------------+------+-------+\n",
            "|  16557.0   | 1.0  |   4   |\n",
            "+------------+------+-------+\n",
            "[1 rows x 3 columns]\n",
            "\n",
            "\n",
            "Per User RMSE (worst)\n",
            "+------------+------+-------+\n",
            "| CustomerID | rmse | count |\n",
            "+------------+------+-------+\n",
            "|  14452.0   | 1.0  |   14  |\n",
            "+------------+------+-------+\n",
            "[1 rows x 3 columns]\n",
            "\n",
            "\n",
            "Per Item RMSE (best)\n",
            "+-----------+------+-------+\n",
            "| StockCode | rmse | count |\n",
            "+-----------+------+-------+\n",
            "|  DCGS0073 | 1.0  |   1   |\n",
            "+-----------+------+-------+\n",
            "[1 rows x 3 columns]\n",
            "\n",
            "\n",
            "Per Item RMSE (worst)\n",
            "+-----------+------+-------+\n",
            "| StockCode | rmse | count |\n",
            "+-----------+------+-------+\n",
            "|   90060D  | 1.0  |   2   |\n",
            "+-----------+------+-------+\n",
            "[1 rows x 3 columns]\n",
            "\n",
            "PROGRESS: Evaluate model Popularity Model on Scaled Purchase Counts\n"
          ],
          "name": "stdout"
        },
        {
          "output_type": "display_data",
          "data": {
            "text/html": [
              "<pre>recommendations finished on 1000/4057 queries. users per second: 17619.9</pre>"
            ],
            "text/plain": [
              "recommendations finished on 1000/4057 queries. users per second: 17619.9"
            ]
          },
          "metadata": {
            "tags": []
          }
        },
        {
          "output_type": "display_data",
          "data": {
            "text/html": [
              "<pre>recommendations finished on 2000/4057 queries. users per second: 17202.2</pre>"
            ],
            "text/plain": [
              "recommendations finished on 2000/4057 queries. users per second: 17202.2"
            ]
          },
          "metadata": {
            "tags": []
          }
        },
        {
          "output_type": "display_data",
          "data": {
            "text/html": [
              "<pre>recommendations finished on 3000/4057 queries. users per second: 17377</pre>"
            ],
            "text/plain": [
              "recommendations finished on 3000/4057 queries. users per second: 17377"
            ]
          },
          "metadata": {
            "tags": []
          }
        },
        {
          "output_type": "display_data",
          "data": {
            "text/html": [
              "<pre>recommendations finished on 4000/4057 queries. users per second: 17514.8</pre>"
            ],
            "text/plain": [
              "recommendations finished on 4000/4057 queries. users per second: 17514.8"
            ]
          },
          "metadata": {
            "tags": []
          }
        },
        {
          "output_type": "stream",
          "text": [
            "\n",
            "Precision and recall summary statistics by cutoff\n",
            "+--------+------------------------+------------------------+\n",
            "| cutoff |     mean_precision     |      mean_recall       |\n",
            "+--------+------------------------+------------------------+\n",
            "|   1    |          0.0           |          0.0           |\n",
            "|   2    | 0.00024648755237860476 | 4.400090848033689e-06  |\n",
            "|   3    |  0.000410812587297674  | 1.1092086300896645e-05 |\n",
            "|   4    | 0.00043135321666255795 | 6.244365971310596e-05  |\n",
            "|   5    | 0.0003943800838057676  | 6.280297101394941e-05  |\n",
            "|   6    | 0.00041081258729767434 | 7.229145092140784e-05  |\n",
            "|   7    |  0.000422550089791894  | 0.00010786326970490916 |\n",
            "|   8    | 0.00046216416070988435 |  0.000148092612931064  |\n",
            "|   9    | 0.00043820009311751996 | 0.0001491784611794279  |\n",
            "|   10   | 0.0004683263495193489  | 0.0001654530300995517  |\n",
            "+--------+------------------------+------------------------+\n",
            "[10 rows x 3 columns]\n",
            "\n",
            "\n",
            "Overall RMSE: 0.12794699685556915\n",
            "\n",
            "Per User RMSE (best)\n",
            "+------------+------+-------+\n",
            "| CustomerID | rmse | count |\n",
            "+------------+------+-------+\n",
            "|  15307.0   | 0.0  |   1   |\n",
            "+------------+------+-------+\n",
            "[1 rows x 3 columns]\n",
            "\n",
            "\n",
            "Per User RMSE (worst)\n",
            "+------------+--------------------+-------+\n",
            "| CustomerID |        rmse        | count |\n",
            "+------------+--------------------+-------+\n",
            "|    nan     | 0.9475685249254495 |  686  |\n",
            "+------------+--------------------+-------+\n",
            "[1 rows x 3 columns]\n",
            "\n",
            "\n",
            "Per Item RMSE (best)\n",
            "+-----------+------+-------+\n",
            "| StockCode | rmse | count |\n",
            "+-----------+------+-------+\n",
            "|   90083   | 0.0  |   1   |\n",
            "+-----------+------+-------+\n",
            "[1 rows x 3 columns]\n",
            "\n",
            "\n",
            "Per Item RMSE (worst)\n",
            "+-----------+------+-------+\n",
            "| StockCode | rmse | count |\n",
            "+-----------+------+-------+\n",
            "|   21816   | 1.0  |   3   |\n",
            "+-----------+------+-------+\n",
            "[1 rows x 3 columns]\n",
            "\n",
            "PROGRESS: Evaluate model Cosine Similarity on Scaled Purchase Counts\n"
          ],
          "name": "stdout"
        },
        {
          "output_type": "display_data",
          "data": {
            "text/html": [
              "<pre>recommendations finished on 1000/4057 queries. users per second: 12535.6</pre>"
            ],
            "text/plain": [
              "recommendations finished on 1000/4057 queries. users per second: 12535.6"
            ]
          },
          "metadata": {
            "tags": []
          }
        },
        {
          "output_type": "display_data",
          "data": {
            "text/html": [
              "<pre>recommendations finished on 2000/4057 queries. users per second: 12105.9</pre>"
            ],
            "text/plain": [
              "recommendations finished on 2000/4057 queries. users per second: 12105.9"
            ]
          },
          "metadata": {
            "tags": []
          }
        },
        {
          "output_type": "display_data",
          "data": {
            "text/html": [
              "<pre>recommendations finished on 3000/4057 queries. users per second: 12165.4</pre>"
            ],
            "text/plain": [
              "recommendations finished on 3000/4057 queries. users per second: 12165.4"
            ]
          },
          "metadata": {
            "tags": []
          }
        },
        {
          "output_type": "display_data",
          "data": {
            "text/html": [
              "<pre>recommendations finished on 4000/4057 queries. users per second: 12078</pre>"
            ],
            "text/plain": [
              "recommendations finished on 4000/4057 queries. users per second: 12078"
            ]
          },
          "metadata": {
            "tags": []
          }
        },
        {
          "output_type": "stream",
          "text": [
            "\n",
            "Precision and recall summary statistics by cutoff\n",
            "+--------+----------------------+----------------------+\n",
            "| cutoff |    mean_precision    |     mean_recall      |\n",
            "+--------+----------------------+----------------------+\n",
            "|   1    | 0.019472516637909793 | 0.002721442467030191 |\n",
            "|   2    | 0.01639142223317722  | 0.003775500195534875 |\n",
            "|   3    | 0.014378440555418637 | 0.005122294766887085 |\n",
            "|   4    | 0.012694108947498154 | 0.005728757705439806 |\n",
            "|   5    | 0.011831402514173054 | 0.00664528147353482  |\n",
            "|   6    | 0.010886533563388383 | 0.007136950934330224 |\n",
            "|   7    | 0.010422902214866732 | 0.007754424530085247 |\n",
            "|   8    | 0.009828691151096868 | 0.008080567024203976 |\n",
            "|   9    | 0.009339139484567128 | 0.008522056793035217 |\n",
            "|   10   | 0.008972146906581248 | 0.00916020151887003  |\n",
            "+--------+----------------------+----------------------+\n",
            "[10 rows x 3 columns]\n",
            "\n",
            "\n",
            "Overall RMSE: 0.1264235887334983\n",
            "\n",
            "Per User RMSE (best)\n",
            "+------------+------+-------+\n",
            "| CustomerID | rmse | count |\n",
            "+------------+------+-------+\n",
            "|  16557.0   | 0.0  |   2   |\n",
            "+------------+------+-------+\n",
            "[1 rows x 3 columns]\n",
            "\n",
            "\n",
            "Per User RMSE (worst)\n",
            "+------------+------+-------+\n",
            "| CustomerID | rmse | count |\n",
            "+------------+------+-------+\n",
            "|  17457.0   | 1.0  |   1   |\n",
            "+------------+------+-------+\n",
            "[1 rows x 3 columns]\n",
            "\n",
            "\n",
            "Per Item RMSE (best)\n",
            "+-----------+------+-------+\n",
            "| StockCode | rmse | count |\n",
            "+-----------+------+-------+\n",
            "|   21683   | 0.0  |   5   |\n",
            "+-----------+------+-------+\n",
            "[1 rows x 3 columns]\n",
            "\n",
            "\n",
            "Per Item RMSE (worst)\n",
            "+-----------+------+-------+\n",
            "| StockCode | rmse | count |\n",
            "+-----------+------+-------+\n",
            "|   90019B  | 1.0  |   1   |\n",
            "+-----------+------+-------+\n",
            "[1 rows x 3 columns]\n",
            "\n",
            "PROGRESS: Evaluate model Pearson Similarity on Scaled Purchase Counts\n"
          ],
          "name": "stdout"
        },
        {
          "output_type": "display_data",
          "data": {
            "text/html": [
              "<pre>recommendations finished on 1000/4057 queries. users per second: 11155</pre>"
            ],
            "text/plain": [
              "recommendations finished on 1000/4057 queries. users per second: 11155"
            ]
          },
          "metadata": {
            "tags": []
          }
        },
        {
          "output_type": "display_data",
          "data": {
            "text/html": [
              "<pre>recommendations finished on 2000/4057 queries. users per second: 10835.2</pre>"
            ],
            "text/plain": [
              "recommendations finished on 2000/4057 queries. users per second: 10835.2"
            ]
          },
          "metadata": {
            "tags": []
          }
        },
        {
          "output_type": "display_data",
          "data": {
            "text/html": [
              "<pre>recommendations finished on 3000/4057 queries. users per second: 10917.6</pre>"
            ],
            "text/plain": [
              "recommendations finished on 3000/4057 queries. users per second: 10917.6"
            ]
          },
          "metadata": {
            "tags": []
          }
        },
        {
          "output_type": "display_data",
          "data": {
            "text/html": [
              "<pre>recommendations finished on 4000/4057 queries. users per second: 10922.6</pre>"
            ],
            "text/plain": [
              "recommendations finished on 4000/4057 queries. users per second: 10922.6"
            ]
          },
          "metadata": {
            "tags": []
          }
        },
        {
          "output_type": "stream",
          "text": [
            "\n",
            "Precision and recall summary statistics by cutoff\n",
            "+--------+------------------------+------------------------+\n",
            "| cutoff |     mean_precision     |      mean_recall       |\n",
            "+--------+------------------------+------------------------+\n",
            "|   1    | 0.0004929751047572094  |  3.55718187835013e-05  |\n",
            "|   2    | 0.0002464875523786047  | 3.557181878350128e-05  |\n",
            "|   3    | 0.00041081258729767456 | 4.690569491643969e-05  |\n",
            "|   4    | 0.0004313532166625589  | 7.807595026460884e-05  |\n",
            "|   5    | 0.00039438008380576783 | 7.843526156545228e-05  |\n",
            "|   6    | 0.0004518938460274425  | 0.00011069136516198523 |\n",
            "|   7    | 0.00045776259727455134 |  0.000125178958820309  |\n",
            "|   8    | 0.00040054227261523284 | 0.00012517895882030894 |\n",
            "|   9    | 0.0003560375756579849  |  0.000125178958820309  |\n",
            "|   10   | 0.00041902883904362863 | 0.0001654186920572806  |\n",
            "+--------+------------------------+------------------------+\n",
            "[10 rows x 3 columns]\n",
            "\n",
            "\n",
            "Overall RMSE: 0.12791205120877477\n",
            "\n",
            "Per User RMSE (best)\n",
            "+------------+------+-------+\n",
            "| CustomerID | rmse | count |\n",
            "+------------+------+-------+\n",
            "|  15307.0   | 0.0  |   1   |\n",
            "+------------+------+-------+\n",
            "[1 rows x 3 columns]\n",
            "\n",
            "\n",
            "Per User RMSE (worst)\n",
            "+------------+--------------------+-------+\n",
            "| CustomerID |        rmse        | count |\n",
            "+------------+--------------------+-------+\n",
            "|    nan     | 0.9476321907091959 |  686  |\n",
            "+------------+--------------------+-------+\n",
            "[1 rows x 3 columns]\n",
            "\n",
            "\n",
            "Per Item RMSE (best)\n",
            "+-----------+------+-------+\n",
            "| StockCode | rmse | count |\n",
            "+-----------+------+-------+\n",
            "|   90083   | 0.0  |   1   |\n",
            "+-----------+------+-------+\n",
            "[1 rows x 3 columns]\n",
            "\n",
            "\n",
            "Per Item RMSE (worst)\n",
            "+-----------+------+-------+\n",
            "| StockCode | rmse | count |\n",
            "+-----------+------+-------+\n",
            "|   21816   | 1.0  |   3   |\n",
            "+-----------+------+-------+\n",
            "[1 rows x 3 columns]\n",
            "\n"
          ],
          "name": "stdout"
        }
      ]
    }
  ]
}